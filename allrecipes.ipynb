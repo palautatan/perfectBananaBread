{
 "cells": [
  {
   "cell_type": "markdown",
   "metadata": {},
   "source": [
    "# Webscraping allrecipes.com\n",
    "<b>Edie Espejo</b>\n",
    "<br>\n",
    "2017-09-07\n",
    "\n",
    "<b>Link</b>: http://allrecipes.com/recipes/343/bread/quick-bread/fruit-bread/banana-bread/?internalSource=hubcard&referringContentType=search%20results&clickId=cardslot%201"
   ]
  },
  {
   "cell_type": "markdown",
   "metadata": {},
   "source": [
    "# Install BeautifulSoup"
   ]
  },
  {
   "cell_type": "code",
   "execution_count": 2,
   "metadata": {
    "scrolled": false
   },
   "outputs": [
    {
     "name": "stdout",
     "output_type": "stream",
     "text": [
      "Collecting bs4\n",
      "  Downloading bs4-0.0.1.tar.gz\n",
      "Requirement already satisfied: beautifulsoup4 in d:\\users\\ehze\\anaconda3\\lib\\site-packages (from bs4)\n",
      "Building wheels for collected packages: bs4\n",
      "  Running setup.py bdist_wheel for bs4: started\n",
      "  Running setup.py bdist_wheel for bs4: finished with status 'done'\n",
      "  Stored in directory: C:\\Users\\ehze\\AppData\\Local\\pip\\Cache\\wheels\\84\\67\\d4\\9e09d9d5adede2ee1c7b7e8775ba3fbb04d07c4f946f0e4f11\n",
      "Successfully built bs4\n",
      "Installing collected packages: bs4\n",
      "Successfully installed bs4-0.0.1\n"
     ]
    },
    {
     "data": {
      "text/plain": [
       "0"
      ]
     },
     "execution_count": 2,
     "metadata": {},
     "output_type": "execute_result"
    }
   ],
   "source": [
    "# import pip\n",
    "# pip.main([\"install\", \"bs4\"])"
   ]
  },
  {
   "cell_type": "code",
   "execution_count": 12,
   "metadata": {},
   "outputs": [
    {
     "name": "stdout",
     "output_type": "stream",
     "text": [
      "Collecting requests_cache\n",
      "  Downloading requests_cache-0.4.13-py2.py3-none-any.whl\n",
      "Requirement already satisfied: requests>=1.1.0 in d:\\users\\ehze\\anaconda3\\lib\\site-packages (from requests_cache)\n",
      "Installing collected packages: requests-cache\n",
      "Successfully installed requests-cache-0.4.13\n"
     ]
    },
    {
     "data": {
      "text/plain": [
       "0"
      ]
     },
     "execution_count": 12,
     "metadata": {},
     "output_type": "execute_result"
    }
   ],
   "source": [
    "# pip.main([\"install\", \"requests_cache\"])"
   ]
  },
  {
   "cell_type": "code",
   "execution_count": 17,
   "metadata": {},
   "outputs": [],
   "source": [
    "# IMPORTANT LIBRARIES\n",
    "import pandas as pd\n",
    "import numpy as np\n",
    "from bs4 import BeautifulSoup\n",
    "import requests\n",
    "import requests_cache"
   ]
  },
  {
   "cell_type": "markdown",
   "metadata": {},
   "source": [
    "# Collect Links\n",
    "It seems that the links are formatted in this fashion:\n",
    "http://allrecipes.com/recipes/343/bread/quick-bread/fruit-bread/banana-bread/?internalSource=hubcard&referringContentType=search%20results&clickId=cardslot%201&page=5#5\n",
    "\n",
    "where we can replace the last numbers to resemble integers from 2 to 9."
   ]
  },
  {
   "cell_type": "code",
   "execution_count": 9,
   "metadata": {},
   "outputs": [],
   "source": [
    "# FORMAT LINKS\n",
    "base_link = \"http://allrecipes.com/recipes/343/bread/quick-bread/fruit-bread/banana-bread/?internalSource=hubcard&referringContentType=search%20results&clickId=cardslot%201&page=\"\n",
    "\n",
    "all_links = [base_link+str(integer)+\"#\"+str(integer) for integer in range(2,10)]"
   ]
  },
  {
   "cell_type": "code",
   "execution_count": 10,
   "metadata": {},
   "outputs": [
    {
     "data": {
      "text/plain": [
       "['http://allrecipes.com/recipes/343/bread/quick-bread/fruit-bread/banana-bread/?internalSource=hubcard&referringContentType=search%20results&clickId=cardslot%201&page=2#2',\n",
       " 'http://allrecipes.com/recipes/343/bread/quick-bread/fruit-bread/banana-bread/?internalSource=hubcard&referringContentType=search%20results&clickId=cardslot%201&page=3#3',\n",
       " 'http://allrecipes.com/recipes/343/bread/quick-bread/fruit-bread/banana-bread/?internalSource=hubcard&referringContentType=search%20results&clickId=cardslot%201&page=4#4',\n",
       " 'http://allrecipes.com/recipes/343/bread/quick-bread/fruit-bread/banana-bread/?internalSource=hubcard&referringContentType=search%20results&clickId=cardslot%201&page=5#5',\n",
       " 'http://allrecipes.com/recipes/343/bread/quick-bread/fruit-bread/banana-bread/?internalSource=hubcard&referringContentType=search%20results&clickId=cardslot%201&page=6#6',\n",
       " 'http://allrecipes.com/recipes/343/bread/quick-bread/fruit-bread/banana-bread/?internalSource=hubcard&referringContentType=search%20results&clickId=cardslot%201&page=7#7',\n",
       " 'http://allrecipes.com/recipes/343/bread/quick-bread/fruit-bread/banana-bread/?internalSource=hubcard&referringContentType=search%20results&clickId=cardslot%201&page=8#8',\n",
       " 'http://allrecipes.com/recipes/343/bread/quick-bread/fruit-bread/banana-bread/?internalSource=hubcard&referringContentType=search%20results&clickId=cardslot%201&page=9#9']"
      ]
     },
     "execution_count": 10,
     "metadata": {},
     "output_type": "execute_result"
    }
   ],
   "source": [
    "all_links"
   ]
  },
  {
   "cell_type": "markdown",
   "metadata": {},
   "source": [
    "The markup sort of looks like this.\n",
    "\n",
    "        <h3 class=\"grid-col__h3 grid-col__h3--recipe-grid\">\n",
    "            Chef John's Banana Bread\n",
    "                <div class=\"grid-col__video\">\n",
    "                    <a href=\"/video/528/chef-johns-banana-bread/\" data-internal-referrer-link='hub recipe' data-click-id='cardslot 1'><span class=\"icon--videoplay-small-white\"></span></a>\n",
    "                </div>\n",
    "        </h3>"
   ]
  },
  {
   "cell_type": "code",
   "execution_count": 57,
   "metadata": {},
   "outputs": [],
   "source": [
    "# FUNCTION TO RETRIEVE URLS FROM ONE PAGE\n",
    "def one_page_recipes(url):\n",
    "    soup = BeautifulSoup((requests.get(url)).text, \"html.parser\")\n",
    "    page_recipes = soup.find_all(\"article\", {\"class\", \"grid-col--fixed-tiles\"})\n",
    "    \n",
    "    # INITIALIZE LIST\n",
    "    recipes = []\n",
    "    for page in page_recipes:\n",
    "        try:\n",
    "            recipes.append(page.find_all(\"a\")[0][\"href\"])\n",
    "        except:\n",
    "            recipes.append(0)\n",
    "            \n",
    "    # MISSING VALUES ARE RETURNED HERE        \n",
    "    return(recipes)"
   ]
  },
  {
   "cell_type": "code",
   "execution_count": 58,
   "metadata": {},
   "outputs": [],
   "source": [
    "fsu = one_page_recipes(all_links[0])"
   ]
  },
  {
   "cell_type": "code",
   "execution_count": 59,
   "metadata": {},
   "outputs": [
    {
     "data": {
      "text/plain": [
       "['/recipe/219967/chef-johns-banana-bread/',\n",
       " '/recipe/6754/lower-fat-banana-bread-i/',\n",
       " '/recipe/22722/brown-sugar-banana-nut-bread-i/',\n",
       " 0,\n",
       " '/recipe/241707/joys-easy-banana-bread/',\n",
       " '/recipe/16706/banana-pumpkin-bread/',\n",
       " '/recipe/7116/banana-bread---quick-bread-for-machines/',\n",
       " '/recipe/6777/banana-nut-bread-i/',\n",
       " '/recipe/17050/hawaiian-banana-nut-bread/',\n",
       " '/recipe/16999/grandmas-homemade-banana-bread/',\n",
       " 0,\n",
       " '/recipe/17013/banana-peanut-butter-bread/',\n",
       " '/recipe/24930/lower-fat-banana-bread-ii/',\n",
       " '/recipe/7163/favorite-banana-blueberry-quick-bread/',\n",
       " '/recipe/15746/banana-oatmeal-bread/',\n",
       " '/recipe/17656/rich-and-delicious-banana-bread/',\n",
       " '/recipe/16666/banana-bran-muffins/',\n",
       " '/recipe/141933/banana-zucchini-bread/',\n",
       " 0,\n",
       " '/recipe/6894/banana-coconut-loaf/',\n",
       " '/recipe/24575/oatmeal-banana-nut-bread/',\n",
       " '/recipe/7141/banana-nut-bread-ii/',\n",
       " '/recipe/6690/mothers-banana-bread/']"
      ]
     },
     "execution_count": 59,
     "metadata": {},
     "output_type": "execute_result"
    }
   ],
   "source": [
    "fsu"
   ]
  },
  {
   "cell_type": "code",
   "execution_count": null,
   "metadata": {
    "collapsed": true
   },
   "outputs": [],
   "source": []
  }
 ],
 "metadata": {
  "kernelspec": {
   "display_name": "Python 3",
   "language": "python",
   "name": "python3"
  },
  "language_info": {
   "codemirror_mode": {
    "name": "ipython",
    "version": 3
   },
   "file_extension": ".py",
   "mimetype": "text/x-python",
   "name": "python",
   "nbconvert_exporter": "python",
   "pygments_lexer": "ipython3",
   "version": "3.6.1"
  }
 },
 "nbformat": 4,
 "nbformat_minor": 2
}
