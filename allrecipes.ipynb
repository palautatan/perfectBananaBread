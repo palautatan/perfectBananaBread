{
 "cells": [
  {
   "cell_type": "markdown",
   "metadata": {},
   "source": [
    "# Webscraping allrecipes.com\n",
    "<b>Edie Espejo</b>\n",
    "<br>\n",
    "2017-09-15 | 2017-09-07\n",
    "\n",
    "<b>Link</b>: http://allrecipes.com/recipes/343/bread/quick-bread/fruit-bread/banana-bread/?internalSource=hubcard&referringContentType=search%20results&clickId=cardslot%201"
   ]
  },
  {
   "cell_type": "markdown",
   "metadata": {},
   "source": [
    "# Install BeautifulSoup"
   ]
  },
  {
   "cell_type": "code",
   "execution_count": 2,
   "metadata": {
    "scrolled": false
   },
   "outputs": [
    {
     "name": "stdout",
     "output_type": "stream",
     "text": [
      "Collecting bs4\n",
      "  Downloading bs4-0.0.1.tar.gz\n",
      "Requirement already satisfied: beautifulsoup4 in d:\\users\\ehze\\anaconda3\\lib\\site-packages (from bs4)\n",
      "Building wheels for collected packages: bs4\n",
      "  Running setup.py bdist_wheel for bs4: started\n",
      "  Running setup.py bdist_wheel for bs4: finished with status 'done'\n",
      "  Stored in directory: C:\\Users\\ehze\\AppData\\Local\\pip\\Cache\\wheels\\84\\67\\d4\\9e09d9d5adede2ee1c7b7e8775ba3fbb04d07c4f946f0e4f11\n",
      "Successfully built bs4\n",
      "Installing collected packages: bs4\n",
      "Successfully installed bs4-0.0.1\n"
     ]
    },
    {
     "data": {
      "text/plain": [
       "0"
      ]
     },
     "execution_count": 2,
     "metadata": {},
     "output_type": "execute_result"
    }
   ],
   "source": [
    "# import pip\n",
    "# pip.main([\"install\", \"bs4\"])"
   ]
  },
  {
   "cell_type": "code",
   "execution_count": 12,
   "metadata": {},
   "outputs": [
    {
     "name": "stdout",
     "output_type": "stream",
     "text": [
      "Collecting requests_cache\n",
      "  Downloading requests_cache-0.4.13-py2.py3-none-any.whl\n",
      "Requirement already satisfied: requests>=1.1.0 in d:\\users\\ehze\\anaconda3\\lib\\site-packages (from requests_cache)\n",
      "Installing collected packages: requests-cache\n",
      "Successfully installed requests-cache-0.4.13\n"
     ]
    },
    {
     "data": {
      "text/plain": [
       "0"
      ]
     },
     "execution_count": 12,
     "metadata": {},
     "output_type": "execute_result"
    }
   ],
   "source": [
    "# pip.main([\"install\", \"requests_cache\"])"
   ]
  },
  {
   "cell_type": "code",
   "execution_count": 182,
   "metadata": {},
   "outputs": [
    {
     "name": "stdout",
     "output_type": "stream",
     "text": [
      "Collecting time\n"
     ]
    },
    {
     "name": "stderr",
     "output_type": "stream",
     "text": [
      "  Could not find a version that satisfies the requirement time (from versions: )\n",
      "No matching distribution found for time\n"
     ]
    },
    {
     "data": {
      "text/plain": [
       "1"
      ]
     },
     "execution_count": 182,
     "metadata": {},
     "output_type": "execute_result"
    }
   ],
   "source": [
    "# import pip\n",
    "# pip.main([\"install\", \"time\"])"
   ]
  },
  {
   "cell_type": "code",
   "execution_count": null,
   "metadata": {
    "collapsed": true
   },
   "outputs": [],
   "source": [
    "# import time \n",
    "# while True:\n",
    "#     print(\"This prints once a minute.\")\n",
    "#     time.sleep(60)   # Delay for 1 minute (60 seconds)."
   ]
  },
  {
   "cell_type": "code",
   "execution_count": 1,
   "metadata": {
    "collapsed": true
   },
   "outputs": [],
   "source": [
    "# IMPORTANT LIBRARIES\n",
    "import pandas as pd\n",
    "import numpy as np\n",
    "from bs4 import BeautifulSoup\n",
    "import requests\n",
    "import requests_cache\n",
    "import os"
   ]
  },
  {
   "cell_type": "code",
   "execution_count": 2,
   "metadata": {},
   "outputs": [
    {
     "data": {
      "text/plain": [
       "'C:\\\\Users\\\\ehze\\\\Documents'"
      ]
     },
     "execution_count": 2,
     "metadata": {},
     "output_type": "execute_result"
    }
   ],
   "source": [
    "os.getcwd()"
   ]
  },
  {
   "cell_type": "markdown",
   "metadata": {},
   "source": [
    "### Don't forget to CACHE!"
   ]
  },
  {
   "cell_type": "code",
   "execution_count": 3,
   "metadata": {
    "collapsed": true
   },
   "outputs": [],
   "source": [
    "# START CACHING\n",
    "requests_cache.install_cache(\"C://Users/ehze/Documents/banana_cache_money\")"
   ]
  },
  {
   "cell_type": "markdown",
   "metadata": {},
   "source": [
    "# Collect Links\n",
    "It seems that the links are formatted in this fashion:\n",
    "http://allrecipes.com/recipes/343/bread/quick-bread/fruit-bread/banana-bread/?internalSource=hubcard&referringContentType=search%20results&clickId=cardslot%201&page=5#5\n",
    "\n",
    "where we can replace the last numbers to resemble integers from 2 to 9."
   ]
  },
  {
   "cell_type": "code",
   "execution_count": 4,
   "metadata": {
    "collapsed": true
   },
   "outputs": [],
   "source": [
    "# FORMAT LINKS\n",
    "home = \"http://allrecipes.com\"\n",
    "base_link = home + \"/recipes/343/bread/quick-bread/fruit-bread/banana-bread/?internalSource=hubcard&referringContentType=search%20results&clickId=cardslot%201&page=\"\n",
    "\n",
    "all_links = [base_link+str(integer)+\"#\"+str(integer) for integer in range(1,10)]"
   ]
  },
  {
   "cell_type": "code",
   "execution_count": 5,
   "metadata": {},
   "outputs": [
    {
     "data": {
      "text/plain": [
       "['http://allrecipes.com/recipes/343/bread/quick-bread/fruit-bread/banana-bread/?internalSource=hubcard&referringContentType=search%20results&clickId=cardslot%201&page=1#1',\n",
       " 'http://allrecipes.com/recipes/343/bread/quick-bread/fruit-bread/banana-bread/?internalSource=hubcard&referringContentType=search%20results&clickId=cardslot%201&page=2#2',\n",
       " 'http://allrecipes.com/recipes/343/bread/quick-bread/fruit-bread/banana-bread/?internalSource=hubcard&referringContentType=search%20results&clickId=cardslot%201&page=3#3',\n",
       " 'http://allrecipes.com/recipes/343/bread/quick-bread/fruit-bread/banana-bread/?internalSource=hubcard&referringContentType=search%20results&clickId=cardslot%201&page=4#4',\n",
       " 'http://allrecipes.com/recipes/343/bread/quick-bread/fruit-bread/banana-bread/?internalSource=hubcard&referringContentType=search%20results&clickId=cardslot%201&page=5#5',\n",
       " 'http://allrecipes.com/recipes/343/bread/quick-bread/fruit-bread/banana-bread/?internalSource=hubcard&referringContentType=search%20results&clickId=cardslot%201&page=6#6',\n",
       " 'http://allrecipes.com/recipes/343/bread/quick-bread/fruit-bread/banana-bread/?internalSource=hubcard&referringContentType=search%20results&clickId=cardslot%201&page=7#7',\n",
       " 'http://allrecipes.com/recipes/343/bread/quick-bread/fruit-bread/banana-bread/?internalSource=hubcard&referringContentType=search%20results&clickId=cardslot%201&page=8#8',\n",
       " 'http://allrecipes.com/recipes/343/bread/quick-bread/fruit-bread/banana-bread/?internalSource=hubcard&referringContentType=search%20results&clickId=cardslot%201&page=9#9']"
      ]
     },
     "execution_count": 5,
     "metadata": {},
     "output_type": "execute_result"
    }
   ],
   "source": [
    "all_links"
   ]
  },
  {
   "cell_type": "markdown",
   "metadata": {},
   "source": [
    "The markup sort of looks like this.\n",
    "\n",
    "        <h3 class=\"grid-col__h3 grid-col__h3--recipe-grid\">\n",
    "            Chef John's Banana Bread\n",
    "                <div class=\"grid-col__video\">\n",
    "                    <a href=\"/video/528/chef-johns-banana-bread/\" data-internal-referrer-link='hub recipe' data-click-id='cardslot 1'><span class=\"icon--videoplay-small-white\"></span></a>\n",
    "                </div>\n",
    "        </h3>"
   ]
  },
  {
   "cell_type": "code",
   "execution_count": 6,
   "metadata": {
    "collapsed": true
   },
   "outputs": [],
   "source": [
    "# FUNCTION TO RETRIEVE URLS FROM ONE PAGE\n",
    "def one_page_recipes(url):\n",
    "    soup = BeautifulSoup((requests.get(url)).text, \"html.parser\")\n",
    "    page_recipes = soup.find_all(\"article\", {\"class\", \"grid-col--fixed-tiles\"})\n",
    "    \n",
    "    # INITIALIZE LIST\n",
    "    recipes = []\n",
    "    for page in page_recipes:\n",
    "        try:\n",
    "            temp = page.find_all(\"a\")[0][\"href\"]\n",
    "            if temp.startswith(\"/\"):\n",
    "                recipes.append(temp)\n",
    "        except:\n",
    "            continue\n",
    "                  \n",
    "    return(recipes)"
   ]
  },
  {
   "cell_type": "code",
   "execution_count": 7,
   "metadata": {
    "collapsed": true
   },
   "outputs": [],
   "source": [
    "banana_bread_links = [one_page_recipes(this_link) for this_link in all_links]"
   ]
  },
  {
   "cell_type": "code",
   "execution_count": 11,
   "metadata": {},
   "outputs": [],
   "source": [
    "# len(banana_bread_links)"
   ]
  },
  {
   "cell_type": "code",
   "execution_count": 16,
   "metadata": {
    "collapsed": true
   },
   "outputs": [],
   "source": [
    "# CONCATENATE LIST AND FORMAT UNIVERSAL LINKS\n",
    "bblinks = [home+list_item for sublist in banana_bread_links for list_item in sublist if \"video\" not in list_item]"
   ]
  },
  {
   "cell_type": "code",
   "execution_count": 17,
   "metadata": {},
   "outputs": [
    {
     "data": {
      "text/plain": [
       "['http://allrecipes.com/recipe/23082/janets-famous-banana-nut-bread/',\n",
       " 'http://allrecipes.com/recipe/6765/4h-banana-bread/',\n",
       " 'http://allrecipes.com/recipe/218541/caramel-macchiato-banana-bread/',\n",
       " 'http://allrecipes.com/recipe/219967/chef-johns-banana-bread/',\n",
       " 'http://allrecipes.com/recipe/7154/creamy-banana-bread/',\n",
       " 'http://allrecipes.com/recipe/17252/chocolate-banana-bread/',\n",
       " 'http://allrecipes.com/recipe/228442/raspberry-banana-bread/',\n",
       " 'http://allrecipes.com/recipe/16999/grandmas-homemade-banana-bread/',\n",
       " 'http://allrecipes.com/recipe/141933/banana-zucchini-bread/',\n",
       " 'http://allrecipes.com/recipe/17652/banana-crumb-muffins/',\n",
       " 'http://allrecipes.com/recipe/20144/banana-banana-bread/',\n",
       " 'http://allrecipes.com/recipe/17066/janets-rich-banana-bread/',\n",
       " 'http://allrecipes.com/recipe/6984/banana-sour-cream-bread/',\n",
       " 'http://allrecipes.com/recipe/67937/extreme-banana-nut-bread-ebnb/',\n",
       " 'http://allrecipes.com/recipe/15747/best-ever-banana-bread/',\n",
       " 'http://allrecipes.com/recipe/16952/the-best-banana-bread/',\n",
       " 'http://allrecipes.com/recipe/6687/banana-bread/',\n",
       " 'http://allrecipes.com/recipe/6993/cathys-banana-bread/',\n",
       " 'http://allrecipes.com/recipe/6990/sarahs-banana-bread-muffins/',\n",
       " 'http://allrecipes.com/recipe/23426/almost-no-fat-banana-bread/',\n",
       " 'http://allrecipes.com/recipe/20153/chocolate-chip-banana-bread-ii/',\n",
       " 'http://allrecipes.com/recipe/6713/easy-banana-bread/',\n",
       " 'http://allrecipes.com/recipe/17754/janines-best-banana-bread/',\n",
       " 'http://allrecipes.com/recipe/7155/whole-wheat-banana-nut-bread/',\n",
       " 'http://allrecipes.com/recipe/18015/lighter-banana-muffins/',\n",
       " 'http://allrecipes.com/recipe/230482/banana-chocolate-chip-bread/',\n",
       " 'http://allrecipes.com/recipe/219967/chef-johns-banana-bread/',\n",
       " 'http://allrecipes.com/recipe/6754/lower-fat-banana-bread-i/',\n",
       " 'http://allrecipes.com/recipe/241707/joys-easy-banana-bread/',\n",
       " 'http://allrecipes.com/recipe/22722/brown-sugar-banana-nut-bread-i/',\n",
       " 'http://allrecipes.com/recipe/16706/banana-pumpkin-bread/',\n",
       " 'http://allrecipes.com/recipe/7116/banana-bread---quick-bread-for-machines/',\n",
       " 'http://allrecipes.com/recipe/6777/banana-nut-bread-i/',\n",
       " 'http://allrecipes.com/recipe/17050/hawaiian-banana-nut-bread/',\n",
       " 'http://allrecipes.com/recipe/16999/grandmas-homemade-banana-bread/',\n",
       " 'http://allrecipes.com/recipe/17013/banana-peanut-butter-bread/',\n",
       " 'http://allrecipes.com/recipe/24930/lower-fat-banana-bread-ii/',\n",
       " 'http://allrecipes.com/recipe/7163/favorite-banana-blueberry-quick-bread/',\n",
       " 'http://allrecipes.com/recipe/15746/banana-oatmeal-bread/',\n",
       " 'http://allrecipes.com/recipe/17656/rich-and-delicious-banana-bread/',\n",
       " 'http://allrecipes.com/recipe/16666/banana-bran-muffins/',\n",
       " 'http://allrecipes.com/recipe/141933/banana-zucchini-bread/',\n",
       " 'http://allrecipes.com/recipe/6894/banana-coconut-loaf/',\n",
       " 'http://allrecipes.com/recipe/24575/oatmeal-banana-nut-bread/',\n",
       " 'http://allrecipes.com/recipe/7141/banana-nut-bread-ii/',\n",
       " 'http://allrecipes.com/recipe/6690/mothers-banana-bread/',\n",
       " 'http://allrecipes.com/recipe/7024/banana-nut-bread-baked-in-a-jar/',\n",
       " 'http://allrecipes.com/recipe/22967/nannas-banana-bread/',\n",
       " 'http://allrecipes.com/recipe/7158/strawnana-bread/',\n",
       " 'http://allrecipes.com/recipe/9460/banana-nut-bread-iii/',\n",
       " 'http://allrecipes.com/recipe/6686/banana-wheat-bread/',\n",
       " 'http://allrecipes.com/recipe/229021/blueberry-banana-bread/',\n",
       " 'http://allrecipes.com/recipe/20739/banana-loaf/',\n",
       " 'http://allrecipes.com/recipe/20164/grannys-banana-bread/',\n",
       " 'http://allrecipes.com/recipe/23645/sweet-banana-bread/',\n",
       " 'http://allrecipes.com/recipe/6921/quick-banana-bread/',\n",
       " 'http://allrecipes.com/recipe/164205/spiced-banana-bread/',\n",
       " 'http://allrecipes.com/recipe/93289/whole-grain-healthy-banana-bread/',\n",
       " 'http://allrecipes.com/recipe/23082/janets-famous-banana-nut-bread/',\n",
       " 'http://allrecipes.com/recipe/217065/gluten-free-banana-bread/',\n",
       " 'http://allrecipes.com/recipe/20152/chocolate-chip-banana-bread-i/',\n",
       " 'http://allrecipes.com/recipe/41679/banana-cranberry-bread/',\n",
       " 'http://allrecipes.com/recipe/36772/maple-banana-bread/',\n",
       " 'http://allrecipes.com/recipe/7223/banana-chocolate-chip-muffins/',\n",
       " 'http://allrecipes.com/recipe/229353/sour-cream-banana-bread/',\n",
       " 'http://allrecipes.com/recipe/7069/special-banana-bread/',\n",
       " 'http://allrecipes.com/recipe/21619/banana-date-flaxseed-bread/',\n",
       " 'http://allrecipes.com/recipe/222082/healthier-banana-banana-bread/',\n",
       " 'http://allrecipes.com/recipe/23810/grandmas-banana-bread/',\n",
       " 'http://allrecipes.com/recipe/7175/banana-chai-bread/',\n",
       " 'http://allrecipes.com/recipe/6757/simple-banana-bread/',\n",
       " 'http://allrecipes.com/recipe/220941/peanut-butter-chocolate-chip-banana-bread/',\n",
       " 'http://allrecipes.com/recipe/18503/country-banana-bread/',\n",
       " 'http://allrecipes.com/recipe/52536/whole-grain-banana-muffins/',\n",
       " 'http://allrecipes.com/recipe/218541/caramel-macchiato-banana-bread/',\n",
       " 'http://allrecipes.com/recipe/202895/whole-wheat-chocolate-banana-bread/',\n",
       " 'http://allrecipes.com/recipe/104999/we-be-jammin-jamaican-banana-bread/',\n",
       " 'http://allrecipes.com/recipe/219816/family-banana-nut-bread-recipe/',\n",
       " 'http://allrecipes.com/recipe/242314/browned-butter-banana-bread/',\n",
       " 'http://allrecipes.com/recipe/198829/bananas-foster-monkey-bread/',\n",
       " 'http://allrecipes.com/recipe/214581/brown-sugar-banana-bread/',\n",
       " 'http://allrecipes.com/recipe/228684/paleo-banana-bread/',\n",
       " 'http://allrecipes.com/recipe/22470/really-rich-banana-bread/',\n",
       " 'http://allrecipes.com/recipe/211180/bangin-banana-bread/',\n",
       " 'http://allrecipes.com/recipe/17281/molasses-banana-bread/',\n",
       " 'http://allrecipes.com/recipe/6830/whole-wheat-banana-strawberry-loaf/',\n",
       " 'http://allrecipes.com/recipe/7200/banana-nut-and-ginger-bread/',\n",
       " 'http://allrecipes.com/recipe/218978/banana-apple-bread/',\n",
       " 'http://allrecipes.com/recipe/213007/banana-butterscotch-bread/',\n",
       " 'http://allrecipes.com/recipe/41682/napoleons-banana-muffin/',\n",
       " 'http://allrecipes.com/recipe/20196/banana-walnut-cornbread/',\n",
       " 'http://allrecipes.com/recipe/216436/low-fat-banana-bread/',\n",
       " 'http://allrecipes.com/recipe/228442/raspberry-banana-bread/',\n",
       " 'http://allrecipes.com/recipe/231183/quick-banana-nut-bread/',\n",
       " 'http://allrecipes.com/recipe/239725/banana-zucchini-bread-muffins/',\n",
       " 'http://allrecipes.com/recipe/15426/cranapana-bread/',\n",
       " 'http://allrecipes.com/recipe/142527/amish-friendship-banana-nut-bread/',\n",
       " 'http://allrecipes.com/recipe/216774/angies-to-die-for-banana-bread/',\n",
       " 'http://allrecipes.com/recipe/16705/banana-maple-nut-bread/',\n",
       " 'http://allrecipes.com/recipe/24519/brown-sugar-banana-nut-bread-ii/',\n",
       " 'http://allrecipes.com/recipe/23008/delicious-raisin-nut-banana-bread/',\n",
       " 'http://allrecipes.com/recipe/216540/cranberry-banana-oat-bread/',\n",
       " 'http://allrecipes.com/recipe/218585/mommys-banana-bread/',\n",
       " 'http://allrecipes.com/recipe/147988/banana-bran-zucchini-bread/',\n",
       " 'http://allrecipes.com/recipe/215623/bobras-banana-bread/',\n",
       " 'http://allrecipes.com/recipe/17601/the-greatest-banana-bread/',\n",
       " 'http://allrecipes.com/recipe/24931/nutty-banana-bread/',\n",
       " 'http://allrecipes.com/recipe/17403/strawnana-smoothie-bread/',\n",
       " 'http://allrecipes.com/recipe/212769/cranberry-pumpkin-banana-bread/',\n",
       " 'http://allrecipes.com/recipe/7242/cardamom-banana-bread/',\n",
       " 'http://allrecipes.com/recipe/214760/roasted-pecan-banana-bread-loaves/',\n",
       " 'http://allrecipes.com/recipe/166496/ozs-banana-nut-and-raisin-bread-for-abm/',\n",
       " 'http://allrecipes.com/recipe/6775/mrs-kurtzs-banana-bread/',\n",
       " 'http://allrecipes.com/recipe/236474/salted-caramel-banana-bread/',\n",
       " 'http://allrecipes.com/recipe/6747/lower-fat-banana-nut-bread/',\n",
       " 'http://allrecipes.com/recipe/135490/banana-bread-with-oat-streusel-topping/',\n",
       " 'http://allrecipes.com/recipe/232380/simple-peanut-butter-banana-bread/',\n",
       " 'http://allrecipes.com/recipe/239246/banana-walnut-bread/',\n",
       " 'http://allrecipes.com/recipe/235521/grain-free-banana-bread/',\n",
       " 'http://allrecipes.com/recipe/143084/simply-delicious-banana-crumb-bread/',\n",
       " 'http://allrecipes.com/recipe/6712/brazilian-banana-bread/',\n",
       " 'http://allrecipes.com/recipe/237470/ginger-banana-bread/',\n",
       " 'http://allrecipes.com/recipe/7090/banana-macadamia-nut-bread/',\n",
       " 'http://allrecipes.com/recipe/234521/paleo-chocolate-and-cinnamon-banana-bread/',\n",
       " 'http://allrecipes.com/recipe/222147/healthier-banana-sour-cream-bread/',\n",
       " 'http://allrecipes.com/recipe/231961/double-banana-nut-bread/',\n",
       " 'http://allrecipes.com/recipe/74845/moist-banana-raisin-bread/',\n",
       " 'http://allrecipes.com/recipe/154339/fig-and-banana-loaf/',\n",
       " 'http://allrecipes.com/recipe/223066/blueberry-banana-nut-bread/',\n",
       " 'http://allrecipes.com/recipe/239454/banana-bread-from-motts/',\n",
       " 'http://allrecipes.com/recipe/21435/oatmeal-banana-cinnamon-bread/',\n",
       " 'http://allrecipes.com/recipe/215139/banana-plum-bread/',\n",
       " 'http://allrecipes.com/recipe/7035/basic-fruit-bread-recipe/',\n",
       " 'http://allrecipes.com/recipe/20662/delicious-raisin-nut-banana-bread/',\n",
       " 'http://allrecipes.com/recipe/219814/dads-banana-nut-bread/',\n",
       " 'http://allrecipes.com/recipe/240750/moms-carrot-banana-bread/',\n",
       " 'http://allrecipes.com/recipe/247087/honey-spice-whole-wheat-banana-bread/',\n",
       " 'http://allrecipes.com/recipe/219815/quick-mix-banana-nut-bread/',\n",
       " 'http://allrecipes.com/recipe/216466/breakfast-banana-cake/',\n",
       " 'http://allrecipes.com/recipe/218721/bates-banana-bread/',\n",
       " 'http://allrecipes.com/recipe/229003/banana-peach-bread/',\n",
       " 'http://allrecipes.com/recipe/241552/buttermilk-banana-bread/',\n",
       " 'http://allrecipes.com/recipe/236593/gluten-free-moist-choc-chip-banana-bread/',\n",
       " 'http://allrecipes.com/recipe/233752/banana-strawberry-oat-bread/',\n",
       " 'http://allrecipes.com/recipe/7094/banana-nut-oatmeal-bread/',\n",
       " 'http://allrecipes.com/recipe/235224/cherry-pineapple-banana-bread/',\n",
       " 'http://allrecipes.com/recipe/236059/favorite-banana-bread/',\n",
       " 'http://allrecipes.com/recipe/231284/whiskey-and-bacon-banana-bread/',\n",
       " 'http://allrecipes.com/recipe/204768/blueberry-upside-down-banana-nut-bread/',\n",
       " 'http://allrecipes.com/recipe/214582/my-aunts-banana-bread/',\n",
       " 'http://allrecipes.com/recipe/223067/best-hawaiian-banana-nut-bread/',\n",
       " 'http://allrecipes.com/recipe/242330/paleo-sunflower-banana-bread/',\n",
       " 'http://allrecipes.com/recipe/230483/nutty-banana-chocolate-chip-bread/',\n",
       " 'http://allrecipes.com/recipe/232379/whole-wheat-peanut-butter-banana-bread/',\n",
       " 'http://allrecipes.com/recipe/231317/bitter-chocolate-lavender-and-banana-tea-loaf/',\n",
       " 'http://allrecipes.com/recipe/228138/powerhouse-banana-bread/',\n",
       " 'http://allrecipes.com/recipe/219863/melted-banana-bread/',\n",
       " 'http://allrecipes.com/recipe/142736/microwave-tofu-banana-bread/',\n",
       " 'http://allrecipes.com/recipe/242243/vegan-banana-bread/',\n",
       " 'http://allrecipes.com/recipe/238514/gluten-free-banana-bread/',\n",
       " 'http://allrecipes.com/recipe/247088/whole-wheat-banana-bread-with-flaxseed-and-oats/',\n",
       " 'http://allrecipes.com/recipe/256401/cream-cheese-banana-bread/',\n",
       " 'http://allrecipes.com/recipe/256564/gluten-free-banana-bread-made-easy/',\n",
       " 'http://allrecipes.com/recipe/247086/very-banana-y-whole-wheat-banana-bread/',\n",
       " 'http://allrecipes.com/recipe/231864/sugar-free-banana-bread/',\n",
       " 'http://allrecipes.com/recipe/257629/papaya-bread-with-a-twist/',\n",
       " 'http://allrecipes.com/recipe/257670/black-sesame-and-walnut-banana-bread/',\n",
       " 'http://allrecipes.com/recipe/257243/the-best-moist-lotus-cookie-butter-banana-bread-recipe-ever/',\n",
       " 'http://allrecipes.com/recipe/257403/delicious-whole-grain-banana-bread/',\n",
       " 'http://allrecipes.com/recipe/238561/organic-banana-bread/',\n",
       " 'http://allrecipes.com/recipe/238961/sweet-and-tangy-sour-cream-banana-bread/',\n",
       " 'http://allrecipes.com/recipe/245434/banana-walnut-flax-seed-bread/',\n",
       " 'http://allrecipes.com/recipe/240448/sweet-potato-banana-bread/',\n",
       " 'http://allrecipes.com/recipe/257433/best-banana-yogurt-bread/',\n",
       " 'http://allrecipes.com/recipe/257605/gluten-free-banana-giraffe-bread/',\n",
       " 'http://allrecipes.com/recipe/256693/dark-chocolate-marbled-banana-bread-with-greek-yogurt/',\n",
       " 'http://allrecipes.com/recipe/259018/double-chocolate-banana-monkey-bread/']"
      ]
     },
     "execution_count": 17,
     "metadata": {},
     "output_type": "execute_result"
    }
   ],
   "source": [
    "bblinks"
   ]
  },
  {
   "cell_type": "code",
   "execution_count": 18,
   "metadata": {
    "scrolled": true
   },
   "outputs": [
    {
     "data": {
      "text/plain": [
       "177"
      ]
     },
     "execution_count": 18,
     "metadata": {},
     "output_type": "execute_result"
    }
   ],
   "source": [
    "len(bblinks)"
   ]
  },
  {
   "cell_type": "markdown",
   "metadata": {},
   "source": [
    "Now the links have been collected, let's continue on to check out how to read one of the pages.\n",
    "\n",
    "# Gathering Page Information\n",
    "We're going to inspect one of the pages, then create a function that can be generalized to retrieve:\n",
    "<br>\n",
    "(1) Recipe Name\n",
    "<br>\n",
    "(2) Star Rating & Review Count\n",
    "<br>\n",
    "(4) Ingredients\n",
    "<br>\n",
    "(5) Calories"
   ]
  },
  {
   "cell_type": "code",
   "execution_count": 19,
   "metadata": {},
   "outputs": [
    {
     "data": {
      "text/plain": [
       "'http://allrecipes.com/recipe/23082/janets-famous-banana-nut-bread/'"
      ]
     },
     "execution_count": 19,
     "metadata": {},
     "output_type": "execute_result"
    }
   ],
   "source": [
    "bblinks[0]"
   ]
  },
  {
   "cell_type": "markdown",
   "metadata": {},
   "source": [
    "### Recipe Name\n",
    "The markup for the recipe name looks like this. "
   ]
  },
  {
   "cell_type": "code",
   "execution_count": 78,
   "metadata": {
    "collapsed": true
   },
   "outputs": [],
   "source": [
    "# <section class=\"recipe-summary clearfix\">\n",
    "#     <meta property=\"og:rating\" content=\"4.41201734542847\" />\n",
    "#     <meta property=\"og:rating_scale\" content=\"5\" />\n",
    "#     <div id=\"karma-lazy-sponsorLogo\" class=\"recipe-summary__logo\"></div>\n",
    "#     <h1 class=\"recipe-summary__h1\" itemprop=\"name\">Strawnana Bread</h1>\n",
    "#     <!--rating stars-->\n",
    "#     <div class=\"recipe-summary__stars\">\n",
    "#         <div class=\"rating-stars\" data-scroll-to-anchor=\"reviews\" data-ratingstars= 4.41201734542847 >"
   ]
  },
  {
   "cell_type": "code",
   "execution_count": 77,
   "metadata": {
    "collapsed": true
   },
   "outputs": [],
   "source": [
    "#         <span itemprop=\"aggregateRating\" itemscope itemtype=\"http://schema.org/AggregateRating\" class=\"aggregate-rating\">\n",
    "#             <meta itemprop=\"ratingValue\" content=\"4.41\">\n",
    "#             <meta itemprop=\"reviewCount\" content=\"182\">"
   ]
  },
  {
   "cell_type": "code",
   "execution_count": 20,
   "metadata": {
    "collapsed": true
   },
   "outputs": [],
   "source": [
    "soup = BeautifulSoup((requests.get(bblinks[0])).text, \"html.parser\")\n",
    "clearfix = soup.find_all(\"section\", {\"class\", \"recipe-summary clearfix\"})[0]"
   ]
  },
  {
   "cell_type": "code",
   "execution_count": 21,
   "metadata": {},
   "outputs": [
    {
     "data": {
      "text/plain": [
       "<section class=\"recipe-summary clearfix\">\n",
       "<meta content=\"4.63492059707642\" property=\"og:rating\"/>\n",
       "<meta content=\"5\" property=\"og:rating_scale\"/>\n",
       "<div class=\"recipe-summary__logo\" id=\"karma-lazy-sponsorLogo\"></div>\n",
       "<h1 class=\"recipe-summary__h1\" itemprop=\"name\">Janet's Famous Banana Nut Bread</h1>\n",
       "<!--rating stars-->\n",
       "<div class=\"recipe-summary__stars\">\n",
       "<div class=\"rating-stars\" data-ratingstars=\"4.63492059707642\" data-scroll-to-anchor=\"reviews\">\n",
       "<img height=\"20\" src=\"http://images.media-allrecipes.com/ar-images/icons/rating-stars/full-star-2015.svg\" width=\"20\">\n",
       "<img height=\"20\" src=\"http://images.media-allrecipes.com/ar-images/icons/rating-stars/full-star-2015.svg\" width=\"20\">\n",
       "<img height=\"20\" src=\"http://images.media-allrecipes.com/ar-images/icons/rating-stars/full-star-2015.svg\" width=\"20\">\n",
       "<img height=\"20\" src=\"http://images.media-allrecipes.com/ar-images/icons/rating-stars/full-star-2015.svg\" width=\"20\">\n",
       "<img height=\"20\" src=\"http://images.media-allrecipes.com/ar-images/icons/rating-stars/half-star-2015.svg\" width=\"20\">\n",
       "</img></img></img></img></img></div>\n",
       "<span class=\"aggregate-rating\" itemprop=\"aggregateRating\" itemscope=\"\" itemtype=\"http://schema.org/AggregateRating\">\n",
       "<meta content=\"4.63\" itemprop=\"ratingValue\"/>\n",
       "<meta content=\"110\" itemprop=\"reviewCount\"/>\n",
       "</span>\n",
       "</div>\n",
       "<!-- total made it count & read review link -->\n",
       "<div class=\"summary-stats-box\">\n",
       "<div class=\"total-made-it\" data-ng-controller=\"ar_controllers_recipe_summary\" data-ng-init=\"init(151,null)\" data-ng-show=\"show\" ng-cloak=\"\">\n",
       "<span ng-controller=\"ar_controllers_recipe_reviews\" ng-init=\"init(23082, 2, 9, 'Recipe', 5, 'MostHelpful')\">\n",
       "<a class=\"read--reviews\" ng-click=\"$event.preventDefault();reviewModalDialog(0, sortBy)\" target=\"_self\">\n",
       "<span class=\"made-it-count\" ng-bind=\"totalRecipeMadeCount |largeNumberDisplay\"></span><span> made it</span><span>  | </span>\n",
       "<span class=\"review-count\">110 reviews</span>\n",
       "</a>\n",
       "</span>\n",
       "<span ng-controller=\"ar_controllers_recipe_photo\" ng-hide=\"showplayer\">\n",
       "<a class=\"icon-photoPage-link\" href=\"/recipe/23082/janets-famous-banana-nut-bread/photos/856225/\" ng-click=\"$event.preventDefault(); openGalery(null, 23082, 'Janet\\u0027s Famous Banana Nut Bread', ', null')\">\n",
       "<span>  |  </span><span class=\"picture-count-link\"><format-large-number number=\"7\"></format-large-number> photos</span>\n",
       "</a>\n",
       "</span>\n",
       "</div>\n",
       "</div>\n",
       "<div class=\"submitter\">\n",
       "<div class=\"submitter__img\">\n",
       "<a href=\"/cook/18619/\"><img alt=\"MARIK84\" class=\"img-profile img-profile--submitter\" src=\"http://images.media-allrecipes.com/mobile/allrecipes/images/icon-user-default_v2.png\" title=\"MARIK84\"/></a>\n",
       "<span><span class=\"icon--cook-card-follower\" title=\"Followers\"></span><span><format-large-number number=\"1\"></format-large-number></span></span>\n",
       "</div>\n",
       "<p>\n",
       "<span class=\"submitter__byline\">Recipe by: </span><span class=\"submitter__name\" itemprop=\"author\">MARIK84</span>\n",
       "</p>\n",
       "<div class=\"submitter__description\" itemprop=\"description\">\n",
       "\"I was trying to find something to cook when I found this recipe in the back of my mom's recipe box. I loved it and so did my mom! The nuts are optional. Hope you enjoy it!\"        </div>\n",
       "</div>\n",
       "</section>"
      ]
     },
     "execution_count": 21,
     "metadata": {},
     "output_type": "execute_result"
    }
   ],
   "source": [
    "clearfix"
   ]
  },
  {
   "cell_type": "code",
   "execution_count": 22,
   "metadata": {},
   "outputs": [
    {
     "data": {
      "text/plain": [
       "\"Janet's Famous Banana Nut Bread\""
      ]
     },
     "execution_count": 22,
     "metadata": {},
     "output_type": "execute_result"
    }
   ],
   "source": [
    "clearfix.find(\"h1\").contents[0]"
   ]
  },
  {
   "cell_type": "markdown",
   "metadata": {},
   "source": [
    "### Star Rating & Review Count"
   ]
  },
  {
   "cell_type": "code",
   "execution_count": 23,
   "metadata": {},
   "outputs": [
    {
     "data": {
      "text/plain": [
       "'4.63492059707642'"
      ]
     },
     "execution_count": 23,
     "metadata": {},
     "output_type": "execute_result"
    }
   ],
   "source": [
    "clearfix.find(\"div\", {\"class\": \"recipe-summary__stars\"}).find(\"div\", {\"class\", \"rating-stars\"})[\"data-ratingstars\"]"
   ]
  },
  {
   "cell_type": "code",
   "execution_count": 24,
   "metadata": {
    "collapsed": true
   },
   "outputs": [],
   "source": [
    "metas = clearfix.find(\"div\", {\"class\": \"recipe-summary__stars\"}).find(\"span\", {\"class\", \"aggregate-rating\"}).find_all(\"meta\")"
   ]
  },
  {
   "cell_type": "code",
   "execution_count": 25,
   "metadata": {},
   "outputs": [
    {
     "data": {
      "text/plain": [
       "[<meta content=\"4.63\" itemprop=\"ratingValue\"/>,\n",
       " <meta content=\"110\" itemprop=\"reviewCount\"/>]"
      ]
     },
     "execution_count": 25,
     "metadata": {},
     "output_type": "execute_result"
    }
   ],
   "source": [
    "metas"
   ]
  },
  {
   "cell_type": "code",
   "execution_count": 114,
   "metadata": {},
   "outputs": [
    {
     "data": {
      "text/plain": [
       "['4.41', '182']"
      ]
     },
     "execution_count": 114,
     "metadata": {},
     "output_type": "execute_result"
    }
   ],
   "source": [
    "[h[\"content\"] for h in metas]"
   ]
  },
  {
   "cell_type": "markdown",
   "metadata": {},
   "source": [
    "### Ingredients"
   ]
  },
  {
   "cell_type": "code",
   "execution_count": 26,
   "metadata": {
    "collapsed": true
   },
   "outputs": [],
   "source": [
    "#   <ul class=\"checklist dropdownwrapper list-ingredients-1\" ng-hide=\"reloaded\" id=\"lst_ingredients_1\">\n",
    "#                 <li class=\"checkList__line\">\n",
    "#                     <label ng-class=\"{true: 'checkList__item'}[true]\">\n",
    "#                         <input data-id=\"16317\" name=\"ingredientCheckbox\" data-role=\"none\" type=\"checkbox\" value=\"N\" ng-click=\"saveIngredient($event,16317)\" />\n",
    "#                         \n",
    "#                     </label>\n",
    "#                         <div data-ng-repeat='deal in deals[\"16317\"]'>\n",
    "#                             <div class=\"offer-container\" data-ng-class='{\"hide-deals\":!deals[\"16317\"] || !localOffersService.localOffersUserEnabled()}' ng-cloak>\n",
    "#                                 <div class=\"left\">\n",
    "#                                     <p>\n",
    "#                                         <span class=\"offer-name\" data-ng-bind-html='deal.description'></span>\n",
    "#                                         <br/>\n",
    "#                                         <span ng-show='deal.isBIU' data-ng-bind-html='deal.price'></span>\n",
    "#                                         <span ng-show='!deal.isBIU' class='unit-cost' data-ng-bind-html='deal.priceWithExpiration'></span>\n",
    "#                                         <br/>\n",
    "#                                         <a data-no-follow-if-external ng-href='{{deal.actionUrl}}' target=\"_blank\" data-ng-click='fireClickPixels(deal.clickPixels)' data-ng-bind-html='deal.clickThroughText'></a>\n",
    "#                                         <br/>\n",
    "#                                         <span class=\"advertisement\" ng-show='deal.isBIU'>ADVERTISEMENT</span>\n",
    "#                                     </p>\n",
    "#                                     <div class=\"tracking-element\" load-dom-script script=\"deal.moatUrl\"></div>\n",
    "#                                     <img class=\"tracking-element\" data-ng-repeat=\"trackingUrl in deal.trackingPixels track by $index\" data-ng-src=\"{{trackingUrl}}\" />\n",
    "#                                     <img class=\"tracking-element\" data-ng-repeat=\"clickUrl in listClickPixels track by $index\" data-ng-src=\"{{clickUrl}}\" />\n",
    "#                                 </div>\n",
    "#                                 <div class=\"right\">\n",
    "#                                     <img data-ng-src='{{deal.imageUrl}}' class=\"offer-photo\" />\n",
    "#                                 </div>\n",
    "#                             </div>\n",
    "#                         </div>\n",
    "#                 </li>\n",
    "#                 <li class=\"checkList__line\">\n",
    "#                     <label ng-class=\"{true: 'checkList__item'}[true]\">\n",
    "#                         <input data-id=\"1526\" name=\"ingredientCheckbox\" data-role=\"none\" type=\"checkbox\" value=\"N\" ng-click=\"saveIngredient($event,1526)\" />\n",
    "#                         <span class=\"recipe-ingred_txt added\" data-id=\"1526\" data-nameid=\"1526\" itemprop=\"ingredients\">2 cups white sugar</span>\n",
    "#                     </label>\n",
    "#                         <div data-ng-repeat='deal in deals[\"1526\"]'>\n",
    "#                             <div class=\"offer-container\" data-ng-class='{\"hide-deals\":!deals[\"1526\"] || !localOffersService.localOffersUserEnabled()}' ng-cloak>\n",
    "#                                 <div class=\"left\">\n",
    "#                                     <p>\n",
    "#                                         <span class=\"offer-name\" data-ng-bind-html='deal.description'></span>\n",
    "#                                         <br/>\n",
    "#                                         <span ng-show='deal.isBIU' data-ng-bind-html='deal.price'></span>\n",
    "#                                         <span ng-show='!deal.isBIU' class='unit-cost' data-ng-bind-html='deal.priceWithExpiration'></span>\n",
    "#                                         <br/>\n",
    "#                                         <a data-no-follow-if-external ng-href='{{deal.actionUrl}}' target=\"_blank\" data-ng-click='fireClickPixels(deal.clickPixels)' data-ng-bind-html='deal.clickThroughText'></a>\n",
    "#                                         <br/>\n",
    "#                                         <span class=\"advertisement\" ng-show='deal.isBIU'>ADVERTISEMENT</span>\n",
    "#                                     </p>\n",
    "#                                     <div class=\"tracking-element\" load-dom-script script=\"deal.moatUrl\"></div>\n",
    "#                                     <img class=\"tracking-element\" data-ng-repeat=\"trackingUrl in deal.trackingPixels track by $index\" data-ng-src=\"{{trackingUrl}}\" />\n",
    "#                                     <img class=\"tracking-element\" data-ng-repeat=\"clickUrl in listClickPixels track by $index\" data-ng-src=\"{{clickUrl}}\" />\n",
    "#                                 </div>\n",
    "#                                 <div class=\"right\">\n",
    "#                                     <img data-ng-src='{{deal.imageUrl}}' class=\"offer-photo\" />\n",
    "#                                 </div>\n",
    "#                             </div>\n",
    "#                         </div>\n",
    "#                 </li>"
   ]
  },
  {
   "cell_type": "code",
   "execution_count": 27,
   "metadata": {
    "collapsed": true
   },
   "outputs": [],
   "source": [
    "# <span class=\"recipe-ingred_txt added\" data-id=\"16317\" data-nameid=\"16317\" itemprop=\"ingredients\">4 eggs, lightly beaten</span>"
   ]
  },
  {
   "cell_type": "code",
   "execution_count": 28,
   "metadata": {
    "collapsed": true
   },
   "outputs": [],
   "source": [
    "ingredients = soup.find_all(\"span\", {\"class\", \"recipe-ingred_txt added\"})"
   ]
  },
  {
   "cell_type": "code",
   "execution_count": 29,
   "metadata": {},
   "outputs": [
    {
     "data": {
      "text/plain": [
       "10"
      ]
     },
     "execution_count": 29,
     "metadata": {},
     "output_type": "execute_result"
    }
   ],
   "source": [
    "len(ingredients)"
   ]
  },
  {
   "cell_type": "code",
   "execution_count": 30,
   "metadata": {},
   "outputs": [
    {
     "data": {
      "text/plain": [
       "['3 cups white sugar',\n",
       " '3/4 cup butter, softened',\n",
       " '3 eggs',\n",
       " '2 cups mashed ripe banana',\n",
       " '1/2 cup sour cream',\n",
       " '3 1/2 cups all-purpose flour',\n",
       " '1 teaspoon baking soda',\n",
       " '1/2 teaspoon baking powder',\n",
       " '1/2 teaspoon ground cinnamon',\n",
       " '1 1/2 cups chopped pecans']"
      ]
     },
     "execution_count": 30,
     "metadata": {},
     "output_type": "execute_result"
    }
   ],
   "source": [
    "[item.contents[0] for item in ingredients]"
   ]
  },
  {
   "cell_type": "markdown",
   "metadata": {},
   "source": [
    "### Number of Ratings"
   ]
  },
  {
   "cell_type": "code",
   "execution_count": 31,
   "metadata": {
    "collapsed": true
   },
   "outputs": [],
   "source": [
    "# <span class=\"calorie-count\" ng-class=\"{'active': nutritionSection_showing}\"><span>258</span> <span class=\"calorie-count__desc\" ng-class=\"{'active': nutritionSection_showing}\"> cals</span></span>"
   ]
  },
  {
   "cell_type": "code",
   "execution_count": 38,
   "metadata": {},
   "outputs": [
    {
     "data": {
      "text/plain": [
       "'126 Ratings'"
      ]
     },
     "execution_count": 38,
     "metadata": {},
     "output_type": "execute_result"
    }
   ],
   "source": [
    "soup.find(\"h4\", {\"class\", \"helpful-header\"}).contents[0]"
   ]
  },
  {
   "cell_type": "markdown",
   "metadata": {},
   "source": [
    "### Calories"
   ]
  },
  {
   "cell_type": "code",
   "execution_count": 39,
   "metadata": {},
   "outputs": [
    {
     "data": {
      "text/plain": [
       "'356'"
      ]
     },
     "execution_count": 39,
     "metadata": {},
     "output_type": "execute_result"
    }
   ],
   "source": [
    "soup.find_all(\"span\", {\"class\", \"calorie-count\"})[0].find(\"span\").contents[0]"
   ]
  },
  {
   "cell_type": "markdown",
   "metadata": {},
   "source": [
    "### Function To Retrieve All\n",
    "Now, what remains is the task to make a function to wrangle these data from a generic page!"
   ]
  },
  {
   "cell_type": "code",
   "execution_count": null,
   "metadata": {
    "collapsed": true
   },
   "outputs": [],
   "source": [
    "# def read_a_page(url):\n",
    "#     # CONVERT PAGE\n",
    "#     soup = BeautifulSoup((requests.get(url)).text, \"html.parser\")\n",
    "    \n",
    "#     # RECIPE TITLE\n",
    "#     try:\n",
    "#         clearfix = soup.find_all(\"section\", {\"class\", \"recipe-summary clearfix\"})[0]\n",
    "#         title = clearfix.find(\"h1\").contents[0]\n",
    "#     except:\n",
    "#         print(url)\n",
    "\n",
    "#     # RATINGS\n",
    "#     try:\n",
    "#         longRating = clearfix.find(\"div\", {\"class\": \"recipe-summary__stars\"}).find(\"div\", {\"class\", \"rating-stars\"})[\"data-ratingstars\"]\n",
    "#         metas = clearfix.find(\"div\", {\"class\": \"recipe-summary__stars\"}).find(\"span\", {\"class\", \"aggregate-rating\"}).find_all(\"meta\")\n",
    "#         metas_content = [h[\"content\"] for h in metas]\n",
    "#         ratingValue, reviewCount = metas_content[0], metas_content[1]\n",
    "#     except:\n",
    "#         print(url)\n",
    "    \n",
    "#     # INGREDIENTS\n",
    "#     try:\n",
    "#         ingredients = soup.find_all(\"span\", {\"class\", \"recipe-ingred_txt added\"})\n",
    "#         recipe = [item.contents[0] for item in ingredients]\n",
    "#     except:\n",
    "#         print(url)\n",
    "                         \n",
    "#     # CALORIES\n",
    "#     try:\n",
    "#         calories = soup.find_all(\"span\", {\"class\", \"calorie-count\"})[0].find(\"span\").contents[0]\n",
    "#     except:\n",
    "#         print(url)\n",
    "    \n",
    "#     try:\n",
    "#         return([title, longRating, ratingValue, reviewCount, recipe, calories])\n",
    "#     except:\n",
    "#         return(0)"
   ]
  },
  {
   "cell_type": "code",
   "execution_count": 45,
   "metadata": {},
   "outputs": [],
   "source": [
    "def read_a_page(url):\n",
    "    # CONVERT PAGE\n",
    "    soup = BeautifulSoup((requests.get(url)).text, \"html.parser\")\n",
    "    \n",
    "    # RECIPE TITLE\n",
    "    try:\n",
    "        clearfix = soup.find_all(\"section\", {\"class\", \"recipe-summary clearfix\"})[0]\n",
    "        title = clearfix.find(\"h1\").contents[0]\n",
    "    except:\n",
    "        title = np.NaN\n",
    "\n",
    "    # RATINGS\n",
    "    longRating = clearfix.find(\"div\", {\"class\": \"recipe-summary__stars\"}).find(\"div\", {\"class\", \"rating-stars\"})[\"data-ratingstars\"]\n",
    "    metas = clearfix.find(\"div\", {\"class\": \"recipe-summary__stars\"}).find(\"span\", {\"class\", \"aggregate-rating\"}).find_all(\"meta\")\n",
    "    metas_content = [h[\"content\"] for h in metas]\n",
    "    ratingValue, reviewCount = metas_content[0], metas_content[1]\n",
    "    \n",
    "    # INGREDIENTS\n",
    "    ingredients = soup.find_all(\"span\", {\"class\", \"recipe-ingred_txt added\"})\n",
    "    recipe = [item.contents[0] for item in ingredients]\n",
    "                         \n",
    "    # CALORIES\n",
    "    try:\n",
    "        calories = soup.find_all(\"span\", {\"class\", \"calorie-count\"})[0].find(\"span\").contents[0]\n",
    "    except:\n",
    "        calories = np.NaN\n",
    "    \n",
    "    # NUMBER OF RATINGS\n",
    "    try:\n",
    "        ratings = soup.find(\"h4\", {\"class\", \"helpful-header\"}).contents[0]\n",
    "    except:\n",
    "        ratings = np.NaN\n",
    "    \n",
    "    return([url, title, longRating, ratingValue, reviewCount, recipe, calories, ratings])                     \n",
    "    "
   ]
  },
  {
   "cell_type": "code",
   "execution_count": 46,
   "metadata": {},
   "outputs": [],
   "source": [
    "table = pd.DataFrame([read_a_page(this_link) for this_link in bblinks])"
   ]
  },
  {
   "cell_type": "code",
   "execution_count": 43,
   "metadata": {},
   "outputs": [],
   "source": [
    "i = 0\n",
    "table_tester = []\n",
    "for this_link in bblinks:\n",
    "    print(i)\n",
    "    try:\n",
    "        table_tester.append((read_a_page(this_link)))\n",
    "    except:\n",
    "        table_tester.append([np.NaN]*8)\n",
    "    i = i + 1"
   ]
  },
  {
   "cell_type": "code",
   "execution_count": 49,
   "metadata": {},
   "outputs": [],
   "source": [
    "table.columns = [\"url\", \"title\", \"longRating\", \"ratingValue\", \"reviewCount\", \"recipe\", \"calories\", \"ratings\"]"
   ]
  },
  {
   "cell_type": "code",
   "execution_count": 50,
   "metadata": {},
   "outputs": [
    {
     "data": {
      "text/html": [
       "<div>\n",
       "<style>\n",
       "    .dataframe thead tr:only-child th {\n",
       "        text-align: right;\n",
       "    }\n",
       "\n",
       "    .dataframe thead th {\n",
       "        text-align: left;\n",
       "    }\n",
       "\n",
       "    .dataframe tbody tr th {\n",
       "        vertical-align: top;\n",
       "    }\n",
       "</style>\n",
       "<table border=\"1\" class=\"dataframe\">\n",
       "  <thead>\n",
       "    <tr style=\"text-align: right;\">\n",
       "      <th></th>\n",
       "      <th>url</th>\n",
       "      <th>title</th>\n",
       "      <th>longRating</th>\n",
       "      <th>ratingValue</th>\n",
       "      <th>reviewCount</th>\n",
       "      <th>recipe</th>\n",
       "      <th>calories</th>\n",
       "      <th>ratings</th>\n",
       "    </tr>\n",
       "  </thead>\n",
       "  <tbody>\n",
       "    <tr>\n",
       "      <th>0</th>\n",
       "      <td>http://allrecipes.com/recipe/23082/janets-famo...</td>\n",
       "      <td>Janet's Famous Banana Nut Bread</td>\n",
       "      <td>4.63492059707642</td>\n",
       "      <td>4.63</td>\n",
       "      <td>110</td>\n",
       "      <td>[3 cups white sugar, 3/4 cup butter, softened,...</td>\n",
       "      <td>356</td>\n",
       "      <td>126 Ratings</td>\n",
       "    </tr>\n",
       "    <tr>\n",
       "      <th>1</th>\n",
       "      <td>http://allrecipes.com/recipe/6765/4h-banana-br...</td>\n",
       "      <td>4H Banana Bread</td>\n",
       "      <td>4.67164182662964</td>\n",
       "      <td>4.67</td>\n",
       "      <td>881</td>\n",
       "      <td>[2 cups all-purpose flour, 1/2 teaspoon baking...</td>\n",
       "      <td>265</td>\n",
       "      <td>1072 Ratings</td>\n",
       "    </tr>\n",
       "    <tr>\n",
       "      <th>2</th>\n",
       "      <td>http://allrecipes.com/recipe/218541/caramel-ma...</td>\n",
       "      <td>Caramel Macchiato Banana Bread</td>\n",
       "      <td>4.18181800842285</td>\n",
       "      <td>4.18</td>\n",
       "      <td>57</td>\n",
       "      <td>[cooking spray, 2 cups all-purpose flour, 1 te...</td>\n",
       "      <td>334</td>\n",
       "      <td>66 Ratings</td>\n",
       "    </tr>\n",
       "    <tr>\n",
       "      <th>3</th>\n",
       "      <td>http://allrecipes.com/recipe/219967/chef-johns...</td>\n",
       "      <td>Chef John's Banana Bread</td>\n",
       "      <td>4.69473695755005</td>\n",
       "      <td>4.69</td>\n",
       "      <td>381</td>\n",
       "      <td>[cooking spray, 2 cups all-purpose flour, 1 te...</td>\n",
       "      <td>334</td>\n",
       "      <td>475 Ratings</td>\n",
       "    </tr>\n",
       "    <tr>\n",
       "      <th>4</th>\n",
       "      <td>http://allrecipes.com/recipe/7154/creamy-banan...</td>\n",
       "      <td>Creamy Banana Bread</td>\n",
       "      <td>4.6641001701355</td>\n",
       "      <td>4.66</td>\n",
       "      <td>869</td>\n",
       "      <td>[1/2 cup margarine, softened, 1 (8 ounce) pack...</td>\n",
       "      <td>289</td>\n",
       "      <td>1039 Ratings</td>\n",
       "    </tr>\n",
       "    <tr>\n",
       "      <th>5</th>\n",
       "      <td>http://allrecipes.com/recipe/17252/chocolate-b...</td>\n",
       "      <td>Chocolate Banana Bread</td>\n",
       "      <td>4.67378330230713</td>\n",
       "      <td>4.67</td>\n",
       "      <td>925</td>\n",
       "      <td>[1 cup margarine, softened, 2 cups white sugar...</td>\n",
       "      <td>278</td>\n",
       "      <td>1171 Ratings</td>\n",
       "    </tr>\n",
       "    <tr>\n",
       "      <th>6</th>\n",
       "      <td>http://allrecipes.com/recipe/228442/raspberry-...</td>\n",
       "      <td>Raspberry Banana Bread</td>\n",
       "      <td>4.68292665481567</td>\n",
       "      <td>4.68</td>\n",
       "      <td>32</td>\n",
       "      <td>[3/4 cup frozen unsweetened raspberries, thawe...</td>\n",
       "      <td>273</td>\n",
       "      <td>41 Ratings</td>\n",
       "    </tr>\n",
       "    <tr>\n",
       "      <th>7</th>\n",
       "      <td>http://allrecipes.com/recipe/16999/grandmas-ho...</td>\n",
       "      <td>Grandma's Homemade Banana Bread</td>\n",
       "      <td>4.69541788101196</td>\n",
       "      <td>4.70</td>\n",
       "      <td>312</td>\n",
       "      <td>[1 1/2 cups white sugar, 1/2 cup butter, softe...</td>\n",
       "      <td>226</td>\n",
       "      <td>371 Ratings</td>\n",
       "    </tr>\n",
       "    <tr>\n",
       "      <th>8</th>\n",
       "      <td>http://allrecipes.com/recipe/141933/banana-zuc...</td>\n",
       "      <td>Banana-Zucchini Bread</td>\n",
       "      <td>4.51702785491943</td>\n",
       "      <td>4.52</td>\n",
       "      <td>263</td>\n",
       "      <td>[3 eggs, 3/4 cup vegetable oil, 2/3 cup packed...</td>\n",
       "      <td>272</td>\n",
       "      <td>323 Ratings</td>\n",
       "    </tr>\n",
       "    <tr>\n",
       "      <th>9</th>\n",
       "      <td>http://allrecipes.com/recipe/17652/banana-crum...</td>\n",
       "      <td>Banana Crumb Muffins</td>\n",
       "      <td>4.803551197052</td>\n",
       "      <td>4.80</td>\n",
       "      <td>9640</td>\n",
       "      <td>[1 1/2 cups all-purpose flour, 1 teaspoon baki...</td>\n",
       "      <td>263</td>\n",
       "      <td>13123 Ratings</td>\n",
       "    </tr>\n",
       "    <tr>\n",
       "      <th>10</th>\n",
       "      <td>http://allrecipes.com/recipe/20144/banana-bana...</td>\n",
       "      <td>Banana Banana Bread</td>\n",
       "      <td>4.57120370864868</td>\n",
       "      <td>4.57</td>\n",
       "      <td>9827</td>\n",
       "      <td>[2 cups all-purpose flour, 1 teaspoon baking s...</td>\n",
       "      <td>229</td>\n",
       "      <td>12703 Ratings</td>\n",
       "    </tr>\n",
       "    <tr>\n",
       "      <th>11</th>\n",
       "      <td>http://allrecipes.com/recipe/17066/janets-rich...</td>\n",
       "      <td>Janet's Rich Banana Bread</td>\n",
       "      <td>4.81578969955444</td>\n",
       "      <td>4.82</td>\n",
       "      <td>4656</td>\n",
       "      <td>[1/2 cup butter, melted, 1 cup white sugar, 2 ...</td>\n",
       "      <td>218</td>\n",
       "      <td>6042 Ratings</td>\n",
       "    </tr>\n",
       "    <tr>\n",
       "      <th>12</th>\n",
       "      <td>http://allrecipes.com/recipe/6984/banana-sour-...</td>\n",
       "      <td>Banana Sour Cream Bread</td>\n",
       "      <td>4.7706127166748</td>\n",
       "      <td>4.77</td>\n",
       "      <td>4071</td>\n",
       "      <td>[1/4 cup white sugar, 1 teaspoon ground cinnam...</td>\n",
       "      <td>263</td>\n",
       "      <td>5288 Ratings</td>\n",
       "    </tr>\n",
       "    <tr>\n",
       "      <th>13</th>\n",
       "      <td>http://allrecipes.com/recipe/67937/extreme-ban...</td>\n",
       "      <td>Extreme Banana Nut Bread 'EBNB'</td>\n",
       "      <td>4.69037246704102</td>\n",
       "      <td>4.69</td>\n",
       "      <td>1762</td>\n",
       "      <td>[2 cups all-purpose flour, 1 teaspoon salt, 2 ...</td>\n",
       "      <td>232</td>\n",
       "      <td>2067 Ratings</td>\n",
       "    </tr>\n",
       "    <tr>\n",
       "      <th>14</th>\n",
       "      <td>http://allrecipes.com/recipe/15747/best-ever-b...</td>\n",
       "      <td>Best Ever Banana Bread</td>\n",
       "      <td>4.73420476913452</td>\n",
       "      <td>4.73</td>\n",
       "      <td>1471</td>\n",
       "      <td>[2 eggs, beaten, 1/3 cup buttermilk, 1/2 cup v...</td>\n",
       "      <td>307</td>\n",
       "      <td>1836 Ratings</td>\n",
       "    </tr>\n",
       "    <tr>\n",
       "      <th>15</th>\n",
       "      <td>http://allrecipes.com/recipe/16952/the-best-ba...</td>\n",
       "      <td>The Best Banana Bread</td>\n",
       "      <td>4.55555534362793</td>\n",
       "      <td>4.56</td>\n",
       "      <td>1101</td>\n",
       "      <td>[1/2 cup margarine, softened, 1 cup white suga...</td>\n",
       "      <td>196</td>\n",
       "      <td>1359 Ratings</td>\n",
       "    </tr>\n",
       "    <tr>\n",
       "      <th>16</th>\n",
       "      <td>http://allrecipes.com/recipe/6687/banana-bread/</td>\n",
       "      <td>Banana Bread</td>\n",
       "      <td>4.69120121002197</td>\n",
       "      <td>4.69</td>\n",
       "      <td>929</td>\n",
       "      <td>[1 1/2 cups all-purpose flour, 1 teaspoon baki...</td>\n",
       "      <td>145</td>\n",
       "      <td>1182 Ratings</td>\n",
       "    </tr>\n",
       "    <tr>\n",
       "      <th>17</th>\n",
       "      <td>http://allrecipes.com/recipe/6993/cathys-banan...</td>\n",
       "      <td>Cathy's Banana Bread</td>\n",
       "      <td>4.73080253601074</td>\n",
       "      <td>4.73</td>\n",
       "      <td>978</td>\n",
       "      <td>[1 cup mashed bananas, 1 cup sour cream, 1/4 c...</td>\n",
       "      <td>200</td>\n",
       "      <td>1159 Ratings</td>\n",
       "    </tr>\n",
       "    <tr>\n",
       "      <th>18</th>\n",
       "      <td>http://allrecipes.com/recipe/6990/sarahs-banan...</td>\n",
       "      <td>Sarah's Banana Bread Muffins</td>\n",
       "      <td>4.62224817276001</td>\n",
       "      <td>4.62</td>\n",
       "      <td>739</td>\n",
       "      <td>[1 cup white sugar, 1/2 cup vegetable oil, 1 e...</td>\n",
       "      <td>270</td>\n",
       "      <td>863 Ratings</td>\n",
       "    </tr>\n",
       "    <tr>\n",
       "      <th>19</th>\n",
       "      <td>http://allrecipes.com/recipe/23426/almost-no-f...</td>\n",
       "      <td>Almost No Fat Banana Bread</td>\n",
       "      <td>4.41342735290527</td>\n",
       "      <td>4.41</td>\n",
       "      <td>687</td>\n",
       "      <td>[1 1/2 cups all-purpose flour, 3/4 cup white s...</td>\n",
       "      <td>127</td>\n",
       "      <td>849 Ratings</td>\n",
       "    </tr>\n",
       "    <tr>\n",
       "      <th>20</th>\n",
       "      <td>http://allrecipes.com/recipe/20153/chocolate-c...</td>\n",
       "      <td>Chocolate Chip Banana Bread II</td>\n",
       "      <td>4.7973461151123</td>\n",
       "      <td>4.80</td>\n",
       "      <td>631</td>\n",
       "      <td>[1 cup shortening, 2 cups white sugar, 2 eggs,...</td>\n",
       "      <td>346</td>\n",
       "      <td>829 Ratings</td>\n",
       "    </tr>\n",
       "    <tr>\n",
       "      <th>21</th>\n",
       "      <td>http://allrecipes.com/recipe/6713/easy-banana-...</td>\n",
       "      <td>Easy Banana Bread</td>\n",
       "      <td>4.71661710739136</td>\n",
       "      <td>4.72</td>\n",
       "      <td>561</td>\n",
       "      <td>[5 very ripe bananas, 4 eggs, 1 cup shortening...</td>\n",
       "      <td>258</td>\n",
       "      <td>674 Ratings</td>\n",
       "    </tr>\n",
       "    <tr>\n",
       "      <th>22</th>\n",
       "      <td>http://allrecipes.com/recipe/17754/janines-bes...</td>\n",
       "      <td>Janine's Best Banana Bread</td>\n",
       "      <td>4.5810809135437</td>\n",
       "      <td>4.58</td>\n",
       "      <td>546</td>\n",
       "      <td>[1/4 cup butter, softened, 1 cup white sugar, ...</td>\n",
       "      <td>248</td>\n",
       "      <td>666 Ratings</td>\n",
       "    </tr>\n",
       "    <tr>\n",
       "      <th>23</th>\n",
       "      <td>http://allrecipes.com/recipe/7155/whole-wheat-...</td>\n",
       "      <td>Whole Wheat Banana Nut Bread</td>\n",
       "      <td>4.6054630279541</td>\n",
       "      <td>4.61</td>\n",
       "      <td>570</td>\n",
       "      <td>[1/3 cup vegetable oil, 1/2 cup honey, 1 teasp...</td>\n",
       "      <td>218</td>\n",
       "      <td>659 Ratings</td>\n",
       "    </tr>\n",
       "    <tr>\n",
       "      <th>24</th>\n",
       "      <td>http://allrecipes.com/recipe/18015/lighter-ban...</td>\n",
       "      <td>Lighter Banana Muffins</td>\n",
       "      <td>4.28030300140381</td>\n",
       "      <td>4.28</td>\n",
       "      <td>468</td>\n",
       "      <td>[2 eggs, beaten, 3 very ripe bananas, mashed, ...</td>\n",
       "      <td>195</td>\n",
       "      <td>528 Ratings</td>\n",
       "    </tr>\n",
       "    <tr>\n",
       "      <th>25</th>\n",
       "      <td>http://allrecipes.com/recipe/230482/banana-cho...</td>\n",
       "      <td>Banana Chocolate Chip Bread</td>\n",
       "      <td>4.75308656692505</td>\n",
       "      <td>4.75</td>\n",
       "      <td>389</td>\n",
       "      <td>[2 cups all-purpose flour, 1 teaspoon baking p...</td>\n",
       "      <td>378</td>\n",
       "      <td>486 Ratings</td>\n",
       "    </tr>\n",
       "    <tr>\n",
       "      <th>26</th>\n",
       "      <td>http://allrecipes.com/recipe/219967/chef-johns...</td>\n",
       "      <td>Chef John's Banana Bread</td>\n",
       "      <td>4.69473695755005</td>\n",
       "      <td>4.69</td>\n",
       "      <td>381</td>\n",
       "      <td>[cooking spray, 2 cups all-purpose flour, 1 te...</td>\n",
       "      <td>334</td>\n",
       "      <td>475 Ratings</td>\n",
       "    </tr>\n",
       "    <tr>\n",
       "      <th>27</th>\n",
       "      <td>http://allrecipes.com/recipe/6754/lower-fat-ba...</td>\n",
       "      <td>Lower Fat Banana Bread I</td>\n",
       "      <td>4.67264556884766</td>\n",
       "      <td>4.67</td>\n",
       "      <td>377</td>\n",
       "      <td>[2/3 cup white sugar, 1/4 cup margarine, softe...</td>\n",
       "      <td>169</td>\n",
       "      <td>446 Ratings</td>\n",
       "    </tr>\n",
       "    <tr>\n",
       "      <th>28</th>\n",
       "      <td>http://allrecipes.com/recipe/241707/joys-easy-...</td>\n",
       "      <td>Joy's Easy Banana Bread</td>\n",
       "      <td>4.77272748947144</td>\n",
       "      <td>4.77</td>\n",
       "      <td>364</td>\n",
       "      <td>[3 ripe bananas, mashed, 1 cup white sugar, 1 ...</td>\n",
       "      <td>225</td>\n",
       "      <td>418 Ratings</td>\n",
       "    </tr>\n",
       "    <tr>\n",
       "      <th>29</th>\n",
       "      <td>http://allrecipes.com/recipe/22722/brown-sugar...</td>\n",
       "      <td>Brown Sugar Banana Nut Bread I</td>\n",
       "      <td>4.56310701370239</td>\n",
       "      <td>4.56</td>\n",
       "      <td>347</td>\n",
       "      <td>[1/2 cup butter, softened, 1 cup brown sugar, ...</td>\n",
       "      <td>273</td>\n",
       "      <td>412 Ratings</td>\n",
       "    </tr>\n",
       "    <tr>\n",
       "      <th>...</th>\n",
       "      <td>...</td>\n",
       "      <td>...</td>\n",
       "      <td>...</td>\n",
       "      <td>...</td>\n",
       "      <td>...</td>\n",
       "      <td>...</td>\n",
       "      <td>...</td>\n",
       "      <td>...</td>\n",
       "    </tr>\n",
       "    <tr>\n",
       "      <th>147</th>\n",
       "      <td>http://allrecipes.com/recipe/231284/whiskey-an...</td>\n",
       "      <td>Whiskey and Bacon Banana Bread</td>\n",
       "      <td>4.16666650772095</td>\n",
       "      <td>4.17</td>\n",
       "      <td>6</td>\n",
       "      <td>[butter-flavored cooking spray (such as Pam®),...</td>\n",
       "      <td>367</td>\n",
       "      <td>6 Ratings</td>\n",
       "    </tr>\n",
       "    <tr>\n",
       "      <th>148</th>\n",
       "      <td>http://allrecipes.com/recipe/204768/blueberry-...</td>\n",
       "      <td>Blueberry Upside-Down Banana Nut Bread</td>\n",
       "      <td>4</td>\n",
       "      <td>4.00</td>\n",
       "      <td>5</td>\n",
       "      <td>[1/2 cup canola oil, 1/3 cup cold water, 3 egg...</td>\n",
       "      <td>320</td>\n",
       "      <td>NaN</td>\n",
       "    </tr>\n",
       "    <tr>\n",
       "      <th>149</th>\n",
       "      <td>http://allrecipes.com/recipe/214582/my-aunts-b...</td>\n",
       "      <td>My Aunt's Banana Bread</td>\n",
       "      <td>3</td>\n",
       "      <td>3.00</td>\n",
       "      <td>5</td>\n",
       "      <td>[3 ripe bananas, mashed, 1 teaspoon distilled ...</td>\n",
       "      <td>354</td>\n",
       "      <td>NaN</td>\n",
       "    </tr>\n",
       "    <tr>\n",
       "      <th>150</th>\n",
       "      <td>http://allrecipes.com/recipe/223067/best-hawai...</td>\n",
       "      <td>Best Hawaiian Banana Nut Bread</td>\n",
       "      <td>4.59999990463257</td>\n",
       "      <td>4.60</td>\n",
       "      <td>4</td>\n",
       "      <td>[2 cups all-purpose flour, 1 1/4 cups white su...</td>\n",
       "      <td>441</td>\n",
       "      <td>NaN</td>\n",
       "    </tr>\n",
       "    <tr>\n",
       "      <th>151</th>\n",
       "      <td>http://allrecipes.com/recipe/242330/paleo-sunf...</td>\n",
       "      <td>Paleo Sunflower Banana Bread</td>\n",
       "      <td>4.19999980926514</td>\n",
       "      <td>4.20</td>\n",
       "      <td>5</td>\n",
       "      <td>[1/2 cup coconut flour, 1 teaspoon baking soda...</td>\n",
       "      <td>209</td>\n",
       "      <td>NaN</td>\n",
       "    </tr>\n",
       "    <tr>\n",
       "      <th>152</th>\n",
       "      <td>http://allrecipes.com/recipe/230483/nutty-bana...</td>\n",
       "      <td>Nutty Banana Chocolate Chip Bread</td>\n",
       "      <td>4.25</td>\n",
       "      <td>4.25</td>\n",
       "      <td>4</td>\n",
       "      <td>[3/4 cup unbleached all-purpose flour, 3/4 cup...</td>\n",
       "      <td>348</td>\n",
       "      <td>NaN</td>\n",
       "    </tr>\n",
       "    <tr>\n",
       "      <th>153</th>\n",
       "      <td>http://allrecipes.com/recipe/232379/whole-whea...</td>\n",
       "      <td>Whole Wheat Peanut Butter Banana Bread</td>\n",
       "      <td>4.5</td>\n",
       "      <td>4.50</td>\n",
       "      <td>4</td>\n",
       "      <td>[2 cups mashed bananas, 1/2 cup honey, 1/4 cup...</td>\n",
       "      <td>231</td>\n",
       "      <td>NaN</td>\n",
       "    </tr>\n",
       "    <tr>\n",
       "      <th>154</th>\n",
       "      <td>http://allrecipes.com/recipe/231317/bitter-cho...</td>\n",
       "      <td>Bitter Chocolate, Lavender, and Banana Tea Loaf</td>\n",
       "      <td>5</td>\n",
       "      <td>5.00</td>\n",
       "      <td>3</td>\n",
       "      <td>[1 cup mashed banana, 3/4 cup white sugar, 1/2...</td>\n",
       "      <td>442</td>\n",
       "      <td>NaN</td>\n",
       "    </tr>\n",
       "    <tr>\n",
       "      <th>155</th>\n",
       "      <td>http://allrecipes.com/recipe/228138/powerhouse...</td>\n",
       "      <td>Powerhouse Banana Bread</td>\n",
       "      <td>4.66666650772095</td>\n",
       "      <td>4.67</td>\n",
       "      <td>3</td>\n",
       "      <td>[1 tablespoon white sugar (optional), 2 teaspo...</td>\n",
       "      <td>374</td>\n",
       "      <td>NaN</td>\n",
       "    </tr>\n",
       "    <tr>\n",
       "      <th>156</th>\n",
       "      <td>http://allrecipes.com/recipe/219863/melted-ban...</td>\n",
       "      <td>Melted Banana Bread</td>\n",
       "      <td>3</td>\n",
       "      <td>3.00</td>\n",
       "      <td>3</td>\n",
       "      <td>[1 1/3 cups flour, 1/2 teaspoon salt, 1/2 teas...</td>\n",
       "      <td>270</td>\n",
       "      <td>NaN</td>\n",
       "    </tr>\n",
       "    <tr>\n",
       "      <th>157</th>\n",
       "      <td>http://allrecipes.com/recipe/142736/microwave-...</td>\n",
       "      <td>Microwave Tofu Banana Bread</td>\n",
       "      <td>3.33333325386047</td>\n",
       "      <td>3.33</td>\n",
       "      <td>3</td>\n",
       "      <td>[1/2 (12 ounce) package silken tofu, 2 ripe ba...</td>\n",
       "      <td>459</td>\n",
       "      <td>NaN</td>\n",
       "    </tr>\n",
       "    <tr>\n",
       "      <th>158</th>\n",
       "      <td>http://allrecipes.com/recipe/242243/vegan-bana...</td>\n",
       "      <td>Vegan Banana Bread</td>\n",
       "      <td>5</td>\n",
       "      <td>5.00</td>\n",
       "      <td>2</td>\n",
       "      <td>[2 1/2 cups pecan halves, 1 1/2 cups rolled oa...</td>\n",
       "      <td>218</td>\n",
       "      <td>NaN</td>\n",
       "    </tr>\n",
       "    <tr>\n",
       "      <th>159</th>\n",
       "      <td>http://allrecipes.com/recipe/238514/gluten-fre...</td>\n",
       "      <td>Gluten-Free Banana Bread</td>\n",
       "      <td>4.33333349227905</td>\n",
       "      <td>4.33</td>\n",
       "      <td>3</td>\n",
       "      <td>[1 teaspoon margarine, or as needed, softened,...</td>\n",
       "      <td>223</td>\n",
       "      <td>NaN</td>\n",
       "    </tr>\n",
       "    <tr>\n",
       "      <th>160</th>\n",
       "      <td>http://allrecipes.com/recipe/247088/whole-whea...</td>\n",
       "      <td>Whole Wheat Banana Bread with Flaxseed and Oats</td>\n",
       "      <td>3</td>\n",
       "      <td>3.00</td>\n",
       "      <td>2</td>\n",
       "      <td>[1 1/2 cups whole wheat flour, 2/3 cup brown s...</td>\n",
       "      <td>216</td>\n",
       "      <td>NaN</td>\n",
       "    </tr>\n",
       "    <tr>\n",
       "      <th>161</th>\n",
       "      <td>http://allrecipes.com/recipe/256401/cream-chee...</td>\n",
       "      <td>Cream Cheese Banana Bread</td>\n",
       "      <td>4</td>\n",
       "      <td>4.00</td>\n",
       "      <td>2</td>\n",
       "      <td>[cooking spray, Banana Bread:, 1/2 cup unsalte...</td>\n",
       "      <td>381</td>\n",
       "      <td>NaN</td>\n",
       "    </tr>\n",
       "    <tr>\n",
       "      <th>162</th>\n",
       "      <td>http://allrecipes.com/recipe/256564/gluten-fre...</td>\n",
       "      <td>Gluten-Free Banana Bread Made Easy</td>\n",
       "      <td>4</td>\n",
       "      <td>4.00</td>\n",
       "      <td>1</td>\n",
       "      <td>[3 large ripe bananas, 1 egg, 1 1/3 cups glute...</td>\n",
       "      <td>237</td>\n",
       "      <td>NaN</td>\n",
       "    </tr>\n",
       "    <tr>\n",
       "      <th>163</th>\n",
       "      <td>http://allrecipes.com/recipe/247086/very-banan...</td>\n",
       "      <td>Very Banana-y Whole Wheat Banana Bread</td>\n",
       "      <td>4</td>\n",
       "      <td>4.00</td>\n",
       "      <td>2</td>\n",
       "      <td>[1/2 cup lightly packed brown sugar, 2 tablesp...</td>\n",
       "      <td>185</td>\n",
       "      <td>NaN</td>\n",
       "    </tr>\n",
       "    <tr>\n",
       "      <th>164</th>\n",
       "      <td>http://allrecipes.com/recipe/231864/sugar-free...</td>\n",
       "      <td>Sugar Free Banana Bread</td>\n",
       "      <td>4.5</td>\n",
       "      <td>4.50</td>\n",
       "      <td>2</td>\n",
       "      <td>[1 cup all-purpose flour, 1 cup rice flour, 1/...</td>\n",
       "      <td>463</td>\n",
       "      <td>NaN</td>\n",
       "    </tr>\n",
       "    <tr>\n",
       "      <th>165</th>\n",
       "      <td>http://allrecipes.com/recipe/257629/papaya-bre...</td>\n",
       "      <td>Papaya Bread with a Twist</td>\n",
       "      <td>5</td>\n",
       "      <td>5.00</td>\n",
       "      <td>1</td>\n",
       "      <td>[1 cup butter, 1 cup white sugar, 4 eggs, 1 cu...</td>\n",
       "      <td>324</td>\n",
       "      <td>NaN</td>\n",
       "    </tr>\n",
       "    <tr>\n",
       "      <th>166</th>\n",
       "      <td>http://allrecipes.com/recipe/257670/black-sesa...</td>\n",
       "      <td>Black Sesame and Walnut Banana Bread</td>\n",
       "      <td>4</td>\n",
       "      <td>4.00</td>\n",
       "      <td>1</td>\n",
       "      <td>[3/4 cup all-purpose flour, 1/2 teaspoon bakin...</td>\n",
       "      <td>389</td>\n",
       "      <td>NaN</td>\n",
       "    </tr>\n",
       "    <tr>\n",
       "      <th>167</th>\n",
       "      <td>http://allrecipes.com/recipe/257243/the-best-m...</td>\n",
       "      <td>The Best Moist Lotus Cookie Butter Banana Brea...</td>\n",
       "      <td>4</td>\n",
       "      <td>4.00</td>\n",
       "      <td>1</td>\n",
       "      <td>[cooking spray, 1 cup white sugar, 1/2 cup but...</td>\n",
       "      <td>327</td>\n",
       "      <td>NaN</td>\n",
       "    </tr>\n",
       "    <tr>\n",
       "      <th>168</th>\n",
       "      <td>http://allrecipes.com/recipe/257403/delicious-...</td>\n",
       "      <td>Delicious Whole Grain Banana Bread</td>\n",
       "      <td>5</td>\n",
       "      <td>5.00</td>\n",
       "      <td>1</td>\n",
       "      <td>[1/3 cup butter, at room temperature, 1/3 cup ...</td>\n",
       "      <td>267</td>\n",
       "      <td>NaN</td>\n",
       "    </tr>\n",
       "    <tr>\n",
       "      <th>169</th>\n",
       "      <td>http://allrecipes.com/recipe/238561/organic-ba...</td>\n",
       "      <td>Organic Banana Bread</td>\n",
       "      <td>5</td>\n",
       "      <td>5.00</td>\n",
       "      <td>0</td>\n",
       "      <td>[3 over-ripe bananas, mashed, 2 eggs, 3 tables...</td>\n",
       "      <td>205</td>\n",
       "      <td>NaN</td>\n",
       "    </tr>\n",
       "    <tr>\n",
       "      <th>170</th>\n",
       "      <td>http://allrecipes.com/recipe/238961/sweet-and-...</td>\n",
       "      <td>Sweet and Tangy Sour Cream Banana Bread</td>\n",
       "      <td>0</td>\n",
       "      <td>0.00</td>\n",
       "      <td>0</td>\n",
       "      <td>[1/4 cup sucralose sugar substitute (such as S...</td>\n",
       "      <td>205</td>\n",
       "      <td>NaN</td>\n",
       "    </tr>\n",
       "    <tr>\n",
       "      <th>171</th>\n",
       "      <td>http://allrecipes.com/recipe/245434/banana-wal...</td>\n",
       "      <td>Banana Walnut Flax Seed Bread</td>\n",
       "      <td>0</td>\n",
       "      <td>0.00</td>\n",
       "      <td>0</td>\n",
       "      <td>[2 cups whole wheat flour, 1 cup flaxseed meal...</td>\n",
       "      <td>380</td>\n",
       "      <td>NaN</td>\n",
       "    </tr>\n",
       "    <tr>\n",
       "      <th>172</th>\n",
       "      <td>http://allrecipes.com/recipe/240448/sweet-pota...</td>\n",
       "      <td>Sweet Potato Banana Bread</td>\n",
       "      <td>0</td>\n",
       "      <td>0.00</td>\n",
       "      <td>0</td>\n",
       "      <td>[non-stick cooking spray, 1 cup white sugar, 1...</td>\n",
       "      <td>252</td>\n",
       "      <td>NaN</td>\n",
       "    </tr>\n",
       "    <tr>\n",
       "      <th>173</th>\n",
       "      <td>http://allrecipes.com/recipe/257433/best-banan...</td>\n",
       "      <td>Best Banana Yogurt Bread</td>\n",
       "      <td>0</td>\n",
       "      <td>0.00</td>\n",
       "      <td>0</td>\n",
       "      <td>[1 cup white sugar, 1/2 cup butter, softened, ...</td>\n",
       "      <td>371</td>\n",
       "      <td>NaN</td>\n",
       "    </tr>\n",
       "    <tr>\n",
       "      <th>174</th>\n",
       "      <td>http://allrecipes.com/recipe/257605/gluten-fre...</td>\n",
       "      <td>Gluten-Free Banana Giraffe Bread</td>\n",
       "      <td>0</td>\n",
       "      <td>0.00</td>\n",
       "      <td>0</td>\n",
       "      <td>[2 1/2 cups mashed ripe bananas, 4 eggs, 1/2 c...</td>\n",
       "      <td>301</td>\n",
       "      <td>NaN</td>\n",
       "    </tr>\n",
       "    <tr>\n",
       "      <th>175</th>\n",
       "      <td>http://allrecipes.com/recipe/256693/dark-choco...</td>\n",
       "      <td>Dark Chocolate Marbled Banana Bread with Greek...</td>\n",
       "      <td>0</td>\n",
       "      <td>0.00</td>\n",
       "      <td>0</td>\n",
       "      <td>[1 1/2 cups all-purpose flour, 1 teaspoon baki...</td>\n",
       "      <td>250</td>\n",
       "      <td>NaN</td>\n",
       "    </tr>\n",
       "    <tr>\n",
       "      <th>176</th>\n",
       "      <td>http://allrecipes.com/recipe/259018/double-cho...</td>\n",
       "      <td>Double Chocolate Banana Monkey Bread</td>\n",
       "      <td>0</td>\n",
       "      <td>0.00</td>\n",
       "      <td>0</td>\n",
       "      <td>[cooking spray, 1 cup brown sugar, 1 (3.4 ounc...</td>\n",
       "      <td>387</td>\n",
       "      <td>NaN</td>\n",
       "    </tr>\n",
       "  </tbody>\n",
       "</table>\n",
       "<p>177 rows × 8 columns</p>\n",
       "</div>"
      ],
      "text/plain": [
       "                                                   url  \\\n",
       "0    http://allrecipes.com/recipe/23082/janets-famo...   \n",
       "1    http://allrecipes.com/recipe/6765/4h-banana-br...   \n",
       "2    http://allrecipes.com/recipe/218541/caramel-ma...   \n",
       "3    http://allrecipes.com/recipe/219967/chef-johns...   \n",
       "4    http://allrecipes.com/recipe/7154/creamy-banan...   \n",
       "5    http://allrecipes.com/recipe/17252/chocolate-b...   \n",
       "6    http://allrecipes.com/recipe/228442/raspberry-...   \n",
       "7    http://allrecipes.com/recipe/16999/grandmas-ho...   \n",
       "8    http://allrecipes.com/recipe/141933/banana-zuc...   \n",
       "9    http://allrecipes.com/recipe/17652/banana-crum...   \n",
       "10   http://allrecipes.com/recipe/20144/banana-bana...   \n",
       "11   http://allrecipes.com/recipe/17066/janets-rich...   \n",
       "12   http://allrecipes.com/recipe/6984/banana-sour-...   \n",
       "13   http://allrecipes.com/recipe/67937/extreme-ban...   \n",
       "14   http://allrecipes.com/recipe/15747/best-ever-b...   \n",
       "15   http://allrecipes.com/recipe/16952/the-best-ba...   \n",
       "16     http://allrecipes.com/recipe/6687/banana-bread/   \n",
       "17   http://allrecipes.com/recipe/6993/cathys-banan...   \n",
       "18   http://allrecipes.com/recipe/6990/sarahs-banan...   \n",
       "19   http://allrecipes.com/recipe/23426/almost-no-f...   \n",
       "20   http://allrecipes.com/recipe/20153/chocolate-c...   \n",
       "21   http://allrecipes.com/recipe/6713/easy-banana-...   \n",
       "22   http://allrecipes.com/recipe/17754/janines-bes...   \n",
       "23   http://allrecipes.com/recipe/7155/whole-wheat-...   \n",
       "24   http://allrecipes.com/recipe/18015/lighter-ban...   \n",
       "25   http://allrecipes.com/recipe/230482/banana-cho...   \n",
       "26   http://allrecipes.com/recipe/219967/chef-johns...   \n",
       "27   http://allrecipes.com/recipe/6754/lower-fat-ba...   \n",
       "28   http://allrecipes.com/recipe/241707/joys-easy-...   \n",
       "29   http://allrecipes.com/recipe/22722/brown-sugar...   \n",
       "..                                                 ...   \n",
       "147  http://allrecipes.com/recipe/231284/whiskey-an...   \n",
       "148  http://allrecipes.com/recipe/204768/blueberry-...   \n",
       "149  http://allrecipes.com/recipe/214582/my-aunts-b...   \n",
       "150  http://allrecipes.com/recipe/223067/best-hawai...   \n",
       "151  http://allrecipes.com/recipe/242330/paleo-sunf...   \n",
       "152  http://allrecipes.com/recipe/230483/nutty-bana...   \n",
       "153  http://allrecipes.com/recipe/232379/whole-whea...   \n",
       "154  http://allrecipes.com/recipe/231317/bitter-cho...   \n",
       "155  http://allrecipes.com/recipe/228138/powerhouse...   \n",
       "156  http://allrecipes.com/recipe/219863/melted-ban...   \n",
       "157  http://allrecipes.com/recipe/142736/microwave-...   \n",
       "158  http://allrecipes.com/recipe/242243/vegan-bana...   \n",
       "159  http://allrecipes.com/recipe/238514/gluten-fre...   \n",
       "160  http://allrecipes.com/recipe/247088/whole-whea...   \n",
       "161  http://allrecipes.com/recipe/256401/cream-chee...   \n",
       "162  http://allrecipes.com/recipe/256564/gluten-fre...   \n",
       "163  http://allrecipes.com/recipe/247086/very-banan...   \n",
       "164  http://allrecipes.com/recipe/231864/sugar-free...   \n",
       "165  http://allrecipes.com/recipe/257629/papaya-bre...   \n",
       "166  http://allrecipes.com/recipe/257670/black-sesa...   \n",
       "167  http://allrecipes.com/recipe/257243/the-best-m...   \n",
       "168  http://allrecipes.com/recipe/257403/delicious-...   \n",
       "169  http://allrecipes.com/recipe/238561/organic-ba...   \n",
       "170  http://allrecipes.com/recipe/238961/sweet-and-...   \n",
       "171  http://allrecipes.com/recipe/245434/banana-wal...   \n",
       "172  http://allrecipes.com/recipe/240448/sweet-pota...   \n",
       "173  http://allrecipes.com/recipe/257433/best-banan...   \n",
       "174  http://allrecipes.com/recipe/257605/gluten-fre...   \n",
       "175  http://allrecipes.com/recipe/256693/dark-choco...   \n",
       "176  http://allrecipes.com/recipe/259018/double-cho...   \n",
       "\n",
       "                                                 title        longRating  \\\n",
       "0                      Janet's Famous Banana Nut Bread  4.63492059707642   \n",
       "1                                      4H Banana Bread  4.67164182662964   \n",
       "2                       Caramel Macchiato Banana Bread  4.18181800842285   \n",
       "3                             Chef John's Banana Bread  4.69473695755005   \n",
       "4                                  Creamy Banana Bread   4.6641001701355   \n",
       "5                               Chocolate Banana Bread  4.67378330230713   \n",
       "6                               Raspberry Banana Bread  4.68292665481567   \n",
       "7                      Grandma's Homemade Banana Bread  4.69541788101196   \n",
       "8                                Banana-Zucchini Bread  4.51702785491943   \n",
       "9                                 Banana Crumb Muffins    4.803551197052   \n",
       "10                                 Banana Banana Bread  4.57120370864868   \n",
       "11                           Janet's Rich Banana Bread  4.81578969955444   \n",
       "12                             Banana Sour Cream Bread   4.7706127166748   \n",
       "13                     Extreme Banana Nut Bread 'EBNB'  4.69037246704102   \n",
       "14                              Best Ever Banana Bread  4.73420476913452   \n",
       "15                               The Best Banana Bread  4.55555534362793   \n",
       "16                                        Banana Bread  4.69120121002197   \n",
       "17                                Cathy's Banana Bread  4.73080253601074   \n",
       "18                        Sarah's Banana Bread Muffins  4.62224817276001   \n",
       "19                          Almost No Fat Banana Bread  4.41342735290527   \n",
       "20                      Chocolate Chip Banana Bread II   4.7973461151123   \n",
       "21                                   Easy Banana Bread  4.71661710739136   \n",
       "22                          Janine's Best Banana Bread   4.5810809135437   \n",
       "23                        Whole Wheat Banana Nut Bread   4.6054630279541   \n",
       "24                              Lighter Banana Muffins  4.28030300140381   \n",
       "25                         Banana Chocolate Chip Bread  4.75308656692505   \n",
       "26                            Chef John's Banana Bread  4.69473695755005   \n",
       "27                            Lower Fat Banana Bread I  4.67264556884766   \n",
       "28                             Joy's Easy Banana Bread  4.77272748947144   \n",
       "29                      Brown Sugar Banana Nut Bread I  4.56310701370239   \n",
       "..                                                 ...               ...   \n",
       "147                     Whiskey and Bacon Banana Bread  4.16666650772095   \n",
       "148             Blueberry Upside-Down Banana Nut Bread                 4   \n",
       "149                             My Aunt's Banana Bread                 3   \n",
       "150                     Best Hawaiian Banana Nut Bread  4.59999990463257   \n",
       "151                       Paleo Sunflower Banana Bread  4.19999980926514   \n",
       "152                  Nutty Banana Chocolate Chip Bread              4.25   \n",
       "153             Whole Wheat Peanut Butter Banana Bread               4.5   \n",
       "154    Bitter Chocolate, Lavender, and Banana Tea Loaf                 5   \n",
       "155                            Powerhouse Banana Bread  4.66666650772095   \n",
       "156                                Melted Banana Bread                 3   \n",
       "157                        Microwave Tofu Banana Bread  3.33333325386047   \n",
       "158                                 Vegan Banana Bread                 5   \n",
       "159                           Gluten-Free Banana Bread  4.33333349227905   \n",
       "160    Whole Wheat Banana Bread with Flaxseed and Oats                 3   \n",
       "161                          Cream Cheese Banana Bread                 4   \n",
       "162                 Gluten-Free Banana Bread Made Easy                 4   \n",
       "163             Very Banana-y Whole Wheat Banana Bread                 4   \n",
       "164                            Sugar Free Banana Bread               4.5   \n",
       "165                          Papaya Bread with a Twist                 5   \n",
       "166               Black Sesame and Walnut Banana Bread                 4   \n",
       "167  The Best Moist Lotus Cookie Butter Banana Brea...                 4   \n",
       "168                 Delicious Whole Grain Banana Bread                 5   \n",
       "169                               Organic Banana Bread                 5   \n",
       "170            Sweet and Tangy Sour Cream Banana Bread                 0   \n",
       "171                      Banana Walnut Flax Seed Bread                 0   \n",
       "172                          Sweet Potato Banana Bread                 0   \n",
       "173                           Best Banana Yogurt Bread                 0   \n",
       "174                   Gluten-Free Banana Giraffe Bread                 0   \n",
       "175  Dark Chocolate Marbled Banana Bread with Greek...                 0   \n",
       "176               Double Chocolate Banana Monkey Bread                 0   \n",
       "\n",
       "    ratingValue reviewCount  \\\n",
       "0          4.63         110   \n",
       "1          4.67         881   \n",
       "2          4.18          57   \n",
       "3          4.69         381   \n",
       "4          4.66         869   \n",
       "5          4.67         925   \n",
       "6          4.68          32   \n",
       "7          4.70         312   \n",
       "8          4.52         263   \n",
       "9          4.80        9640   \n",
       "10         4.57        9827   \n",
       "11         4.82        4656   \n",
       "12         4.77        4071   \n",
       "13         4.69        1762   \n",
       "14         4.73        1471   \n",
       "15         4.56        1101   \n",
       "16         4.69         929   \n",
       "17         4.73         978   \n",
       "18         4.62         739   \n",
       "19         4.41         687   \n",
       "20         4.80         631   \n",
       "21         4.72         561   \n",
       "22         4.58         546   \n",
       "23         4.61         570   \n",
       "24         4.28         468   \n",
       "25         4.75         389   \n",
       "26         4.69         381   \n",
       "27         4.67         377   \n",
       "28         4.77         364   \n",
       "29         4.56         347   \n",
       "..          ...         ...   \n",
       "147        4.17           6   \n",
       "148        4.00           5   \n",
       "149        3.00           5   \n",
       "150        4.60           4   \n",
       "151        4.20           5   \n",
       "152        4.25           4   \n",
       "153        4.50           4   \n",
       "154        5.00           3   \n",
       "155        4.67           3   \n",
       "156        3.00           3   \n",
       "157        3.33           3   \n",
       "158        5.00           2   \n",
       "159        4.33           3   \n",
       "160        3.00           2   \n",
       "161        4.00           2   \n",
       "162        4.00           1   \n",
       "163        4.00           2   \n",
       "164        4.50           2   \n",
       "165        5.00           1   \n",
       "166        4.00           1   \n",
       "167        4.00           1   \n",
       "168        5.00           1   \n",
       "169        5.00           0   \n",
       "170        0.00           0   \n",
       "171        0.00           0   \n",
       "172        0.00           0   \n",
       "173        0.00           0   \n",
       "174        0.00           0   \n",
       "175        0.00           0   \n",
       "176        0.00           0   \n",
       "\n",
       "                                                recipe calories        ratings  \n",
       "0    [3 cups white sugar, 3/4 cup butter, softened,...      356    126 Ratings  \n",
       "1    [2 cups all-purpose flour, 1/2 teaspoon baking...      265   1072 Ratings  \n",
       "2    [cooking spray, 2 cups all-purpose flour, 1 te...      334     66 Ratings  \n",
       "3    [cooking spray, 2 cups all-purpose flour, 1 te...      334    475 Ratings  \n",
       "4    [1/2 cup margarine, softened, 1 (8 ounce) pack...      289   1039 Ratings  \n",
       "5    [1 cup margarine, softened, 2 cups white sugar...      278   1171 Ratings  \n",
       "6    [3/4 cup frozen unsweetened raspberries, thawe...      273     41 Ratings  \n",
       "7    [1 1/2 cups white sugar, 1/2 cup butter, softe...      226    371 Ratings  \n",
       "8    [3 eggs, 3/4 cup vegetable oil, 2/3 cup packed...      272    323 Ratings  \n",
       "9    [1 1/2 cups all-purpose flour, 1 teaspoon baki...      263  13123 Ratings  \n",
       "10   [2 cups all-purpose flour, 1 teaspoon baking s...      229  12703 Ratings  \n",
       "11   [1/2 cup butter, melted, 1 cup white sugar, 2 ...      218   6042 Ratings  \n",
       "12   [1/4 cup white sugar, 1 teaspoon ground cinnam...      263   5288 Ratings  \n",
       "13   [2 cups all-purpose flour, 1 teaspoon salt, 2 ...      232   2067 Ratings  \n",
       "14   [2 eggs, beaten, 1/3 cup buttermilk, 1/2 cup v...      307   1836 Ratings  \n",
       "15   [1/2 cup margarine, softened, 1 cup white suga...      196   1359 Ratings  \n",
       "16   [1 1/2 cups all-purpose flour, 1 teaspoon baki...      145   1182 Ratings  \n",
       "17   [1 cup mashed bananas, 1 cup sour cream, 1/4 c...      200   1159 Ratings  \n",
       "18   [1 cup white sugar, 1/2 cup vegetable oil, 1 e...      270    863 Ratings  \n",
       "19   [1 1/2 cups all-purpose flour, 3/4 cup white s...      127    849 Ratings  \n",
       "20   [1 cup shortening, 2 cups white sugar, 2 eggs,...      346    829 Ratings  \n",
       "21   [5 very ripe bananas, 4 eggs, 1 cup shortening...      258    674 Ratings  \n",
       "22   [1/4 cup butter, softened, 1 cup white sugar, ...      248    666 Ratings  \n",
       "23   [1/3 cup vegetable oil, 1/2 cup honey, 1 teasp...      218    659 Ratings  \n",
       "24   [2 eggs, beaten, 3 very ripe bananas, mashed, ...      195    528 Ratings  \n",
       "25   [2 cups all-purpose flour, 1 teaspoon baking p...      378    486 Ratings  \n",
       "26   [cooking spray, 2 cups all-purpose flour, 1 te...      334    475 Ratings  \n",
       "27   [2/3 cup white sugar, 1/4 cup margarine, softe...      169    446 Ratings  \n",
       "28   [3 ripe bananas, mashed, 1 cup white sugar, 1 ...      225    418 Ratings  \n",
       "29   [1/2 cup butter, softened, 1 cup brown sugar, ...      273    412 Ratings  \n",
       "..                                                 ...      ...            ...  \n",
       "147  [butter-flavored cooking spray (such as Pam®),...      367      6 Ratings  \n",
       "148  [1/2 cup canola oil, 1/3 cup cold water, 3 egg...      320            NaN  \n",
       "149  [3 ripe bananas, mashed, 1 teaspoon distilled ...      354            NaN  \n",
       "150  [2 cups all-purpose flour, 1 1/4 cups white su...      441            NaN  \n",
       "151  [1/2 cup coconut flour, 1 teaspoon baking soda...      209            NaN  \n",
       "152  [3/4 cup unbleached all-purpose flour, 3/4 cup...      348            NaN  \n",
       "153  [2 cups mashed bananas, 1/2 cup honey, 1/4 cup...      231            NaN  \n",
       "154  [1 cup mashed banana, 3/4 cup white sugar, 1/2...      442            NaN  \n",
       "155  [1 tablespoon white sugar (optional), 2 teaspo...      374            NaN  \n",
       "156  [1 1/3 cups flour, 1/2 teaspoon salt, 1/2 teas...      270            NaN  \n",
       "157  [1/2 (12 ounce) package silken tofu, 2 ripe ba...      459            NaN  \n",
       "158  [2 1/2 cups pecan halves, 1 1/2 cups rolled oa...      218            NaN  \n",
       "159  [1 teaspoon margarine, or as needed, softened,...      223            NaN  \n",
       "160  [1 1/2 cups whole wheat flour, 2/3 cup brown s...      216            NaN  \n",
       "161  [cooking spray, Banana Bread:, 1/2 cup unsalte...      381            NaN  \n",
       "162  [3 large ripe bananas, 1 egg, 1 1/3 cups glute...      237            NaN  \n",
       "163  [1/2 cup lightly packed brown sugar, 2 tablesp...      185            NaN  \n",
       "164  [1 cup all-purpose flour, 1 cup rice flour, 1/...      463            NaN  \n",
       "165  [1 cup butter, 1 cup white sugar, 4 eggs, 1 cu...      324            NaN  \n",
       "166  [3/4 cup all-purpose flour, 1/2 teaspoon bakin...      389            NaN  \n",
       "167  [cooking spray, 1 cup white sugar, 1/2 cup but...      327            NaN  \n",
       "168  [1/3 cup butter, at room temperature, 1/3 cup ...      267            NaN  \n",
       "169  [3 over-ripe bananas, mashed, 2 eggs, 3 tables...      205            NaN  \n",
       "170  [1/4 cup sucralose sugar substitute (such as S...      205            NaN  \n",
       "171  [2 cups whole wheat flour, 1 cup flaxseed meal...      380            NaN  \n",
       "172  [non-stick cooking spray, 1 cup white sugar, 1...      252            NaN  \n",
       "173  [1 cup white sugar, 1/2 cup butter, softened, ...      371            NaN  \n",
       "174  [2 1/2 cups mashed ripe bananas, 4 eggs, 1/2 c...      301            NaN  \n",
       "175  [1 1/2 cups all-purpose flour, 1 teaspoon baki...      250            NaN  \n",
       "176  [cooking spray, 1 cup brown sugar, 1 (3.4 ounc...      387            NaN  \n",
       "\n",
       "[177 rows x 8 columns]"
      ]
     },
     "execution_count": 50,
     "metadata": {},
     "output_type": "execute_result"
    }
   ],
   "source": [
    "table"
   ]
  },
  {
   "cell_type": "code",
   "execution_count": 51,
   "metadata": {
    "collapsed": true
   },
   "outputs": [],
   "source": [
    "table.to_csv(\"banana_bread_df.csv\")"
   ]
  },
  {
   "cell_type": "code",
   "execution_count": 68,
   "metadata": {},
   "outputs": [
    {
     "data": {
      "text/plain": [
       "'232'"
      ]
     },
     "execution_count": 68,
     "metadata": {},
     "output_type": "execute_result"
    }
   ],
   "source": [
    "table[\"calories\"][50]"
   ]
  },
  {
   "cell_type": "markdown",
   "metadata": {},
   "source": [
    "NUMBER 47 IS A BITCH"
   ]
  },
  {
   "cell_type": "code",
   "execution_count": 79,
   "metadata": {},
   "outputs": [],
   "source": [
    "ghetto = [int(x) for x in table[\"calories\"][0:46]] + [int(x) for x in table[\"calories\"][48:]]"
   ]
  },
  {
   "cell_type": "code",
   "execution_count": 88,
   "metadata": {},
   "outputs": [
    {
     "data": {
      "text/plain": [
       "[99,\n",
       " 101,\n",
       " 109,\n",
       " 127,\n",
       " 127,\n",
       " 128,\n",
       " 130,\n",
       " 131,\n",
       " 132,\n",
       " 137,\n",
       " 145,\n",
       " 148,\n",
       " 149,\n",
       " 159,\n",
       " 160,\n",
       " 164,\n",
       " 167,\n",
       " 168,\n",
       " 169,\n",
       " 169,\n",
       " 171,\n",
       " 175,\n",
       " 177,\n",
       " 178,\n",
       " 179,\n",
       " 181,\n",
       " 182,\n",
       " 182,\n",
       " 185,\n",
       " 188,\n",
       " 188,\n",
       " 190,\n",
       " 193,\n",
       " 195,\n",
       " 196,\n",
       " 196,\n",
       " 196,\n",
       " 197,\n",
       " 200,\n",
       " 201,\n",
       " 204,\n",
       " 205,\n",
       " 205,\n",
       " 205,\n",
       " 208,\n",
       " 208,\n",
       " 209,\n",
       " 210,\n",
       " 214,\n",
       " 215,\n",
       " 215,\n",
       " 215,\n",
       " 216,\n",
       " 218,\n",
       " 218,\n",
       " 218,\n",
       " 221,\n",
       " 223,\n",
       " 224,\n",
       " 225,\n",
       " 226,\n",
       " 226,\n",
       " 229,\n",
       " 229,\n",
       " 231,\n",
       " 232,\n",
       " 232,\n",
       " 232,\n",
       " 234,\n",
       " 234,\n",
       " 236,\n",
       " 237,\n",
       " 237,\n",
       " 239,\n",
       " 246,\n",
       " 247,\n",
       " 247,\n",
       " 248,\n",
       " 248,\n",
       " 249,\n",
       " 249,\n",
       " 250,\n",
       " 252,\n",
       " 253,\n",
       " 254,\n",
       " 254,\n",
       " 255,\n",
       " 256,\n",
       " 258,\n",
       " 258,\n",
       " 261,\n",
       " 263,\n",
       " 263,\n",
       " 263,\n",
       " 264,\n",
       " 264,\n",
       " 265,\n",
       " 265,\n",
       " 266,\n",
       " 266,\n",
       " 267,\n",
       " 268,\n",
       " 270,\n",
       " 270,\n",
       " 270,\n",
       " 272,\n",
       " 272,\n",
       " 272,\n",
       " 273,\n",
       " 273,\n",
       " 273,\n",
       " 277,\n",
       " 278,\n",
       " 278,\n",
       " 279,\n",
       " 281,\n",
       " 286,\n",
       " 289,\n",
       " 292,\n",
       " 292,\n",
       " 293,\n",
       " 296,\n",
       " 298,\n",
       " 298,\n",
       " 301,\n",
       " 303,\n",
       " 305,\n",
       " 307,\n",
       " 308,\n",
       " 311,\n",
       " 312,\n",
       " 320,\n",
       " 324,\n",
       " 327,\n",
       " 327,\n",
       " 328,\n",
       " 334,\n",
       " 334,\n",
       " 334,\n",
       " 334,\n",
       " 336,\n",
       " 339,\n",
       " 341,\n",
       " 345,\n",
       " 346,\n",
       " 347,\n",
       " 348,\n",
       " 354,\n",
       " 355,\n",
       " 355,\n",
       " 356,\n",
       " 356,\n",
       " 366,\n",
       " 367,\n",
       " 371,\n",
       " 374,\n",
       " 378,\n",
       " 380,\n",
       " 381,\n",
       " 381,\n",
       " 387,\n",
       " 389,\n",
       " 389,\n",
       " 391,\n",
       " 415,\n",
       " 427,\n",
       " 436,\n",
       " 441,\n",
       " 442,\n",
       " 450,\n",
       " 459,\n",
       " 463,\n",
       " 464,\n",
       " 545,\n",
       " 607]"
      ]
     },
     "execution_count": 88,
     "metadata": {},
     "output_type": "execute_result"
    }
   ],
   "source": [
    "ghetto"
   ]
  },
  {
   "cell_type": "code",
   "execution_count": 100,
   "metadata": {
    "collapsed": true
   },
   "outputs": [],
   "source": [
    "import matplotlib.pyplot as plt\n",
    "import seaborn as sns"
   ]
  },
  {
   "cell_type": "code",
   "execution_count": 99,
   "metadata": {},
   "outputs": [
    {
     "data": {
      "image/png": "[encoded data removed]",
      "text/plain": [
       "<matplotlib.figure.Figure at 0x1bad23dc6d8>"
      ]
     },
     "metadata": {},
     "output_type": "display_data"
    }
   ],
   "source": [
    "# SCORE DISTRIBUTION HISTOGRAM\n",
    "x = pd.Series(ghetto)\n",
    "\n",
    "sns.distplot(x, color=\"blue\")\n",
    "plt.title(\"Distribution of Calories of Banana Bread\")\n",
    "\n",
    "sns.plt.show()"
   ]
  },
  {
   "cell_type": "code",
   "execution_count": 102,
   "metadata": {},
   "outputs": [
    {
     "data": {
      "text/plain": [
       "265.54285714285714"
      ]
     },
     "execution_count": 102,
     "metadata": {},
     "output_type": "execute_result"
    }
   ],
   "source": [
    "np.mean(ghetto)"
   ]
  },
  {
   "cell_type": "code",
   "execution_count": 104,
   "metadata": {},
   "outputs": [
    {
     "data": {
      "text/plain": [
       "86.048870784370592"
      ]
     },
     "execution_count": 104,
     "metadata": {},
     "output_type": "execute_result"
    }
   ],
   "source": [
    "np.std(ghetto)"
   ]
  },
  {
   "cell_type": "code",
   "execution_count": null,
   "metadata": {
    "collapsed": true
   },
   "outputs": [],
   "source": []
  }
 ],
 "metadata": {
  "kernelspec": {
   "display_name": "Python 3",
   "language": "python",
   "name": "python3"
  },
  "language_info": {
   "codemirror_mode": {
    "name": "ipython",
    "version": 3
   },
   "file_extension": ".py",
   "mimetype": "text/x-python",
   "name": "python",
   "nbconvert_exporter": "python",
   "pygments_lexer": "ipython3",
   "version": "3.6.1"
  }
 },
 "nbformat": 4,
 "nbformat_minor": 2
}
