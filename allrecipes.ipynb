{
 "cells": [
  {
   "cell_type": "markdown",
   "metadata": {},
   "source": [
    "# Webscraping allrecipes.com\n",
    "<b>Edie Espejo</b>\n",
    "<br>\n",
    "2017-09-15 | 2017-09-07\n",
    "\n",
    "<b>Link</b>: http://allrecipes.com/recipes/343/bread/quick-bread/fruit-bread/banana-bread/?internalSource=hubcard&referringContentType=search%20results&clickId=cardslot%201"
   ]
  },
  {
   "cell_type": "markdown",
   "metadata": {},
   "source": [
    "# Install BeautifulSoup"
   ]
  },
  {
   "cell_type": "code",
   "execution_count": 2,
   "metadata": {
    "scrolled": false
   },
   "outputs": [
    {
     "name": "stdout",
     "output_type": "stream",
     "text": [
      "Collecting bs4\n",
      "  Downloading bs4-0.0.1.tar.gz\n",
      "Requirement already satisfied: beautifulsoup4 in d:\\users\\ehze\\anaconda3\\lib\\site-packages (from bs4)\n",
      "Building wheels for collected packages: bs4\n",
      "  Running setup.py bdist_wheel for bs4: started\n",
      "  Running setup.py bdist_wheel for bs4: finished with status 'done'\n",
      "  Stored in directory: C:\\Users\\ehze\\AppData\\Local\\pip\\Cache\\wheels\\84\\67\\d4\\9e09d9d5adede2ee1c7b7e8775ba3fbb04d07c4f946f0e4f11\n",
      "Successfully built bs4\n",
      "Installing collected packages: bs4\n",
      "Successfully installed bs4-0.0.1\n"
     ]
    },
    {
     "data": {
      "text/plain": [
       "0"
      ]
     },
     "execution_count": 2,
     "metadata": {},
     "output_type": "execute_result"
    }
   ],
   "source": [
    "# import pip\n",
    "# pip.main([\"install\", \"bs4\"])"
   ]
  },
  {
   "cell_type": "code",
   "execution_count": 12,
   "metadata": {},
   "outputs": [
    {
     "name": "stdout",
     "output_type": "stream",
     "text": [
      "Collecting requests_cache\n",
      "  Downloading requests_cache-0.4.13-py2.py3-none-any.whl\n",
      "Requirement already satisfied: requests>=1.1.0 in d:\\users\\ehze\\anaconda3\\lib\\site-packages (from requests_cache)\n",
      "Installing collected packages: requests-cache\n",
      "Successfully installed requests-cache-0.4.13\n"
     ]
    },
    {
     "data": {
      "text/plain": [
       "0"
      ]
     },
     "execution_count": 12,
     "metadata": {},
     "output_type": "execute_result"
    }
   ],
   "source": [
    "# pip.main([\"install\", \"requests_cache\"])"
   ]
  },
  {
   "cell_type": "code",
   "execution_count": 182,
   "metadata": {},
   "outputs": [
    {
     "name": "stdout",
     "output_type": "stream",
     "text": [
      "Collecting time\n"
     ]
    },
    {
     "name": "stderr",
     "output_type": "stream",
     "text": [
      "  Could not find a version that satisfies the requirement time (from versions: )\n",
      "No matching distribution found for time\n"
     ]
    },
    {
     "data": {
      "text/plain": [
       "1"
      ]
     },
     "execution_count": 182,
     "metadata": {},
     "output_type": "execute_result"
    }
   ],
   "source": [
    "# import pip\n",
    "# pip.main([\"install\", \"time\"])"
   ]
  },
  {
   "cell_type": "code",
   "execution_count": null,
   "metadata": {
    "collapsed": true
   },
   "outputs": [],
   "source": [
    "# import time \n",
    "# while True:\n",
    "#     print(\"This prints once a minute.\")\n",
    "#     time.sleep(60)   # Delay for 1 minute (60 seconds)."
   ]
  },
  {
   "cell_type": "code",
   "execution_count": 1,
   "metadata": {
    "collapsed": true
   },
   "outputs": [],
   "source": [
    "# IMPORTANT LIBRARIES\n",
    "import pandas as pd\n",
    "import numpy as np\n",
    "from bs4 import BeautifulSoup\n",
    "import requests\n",
    "import requests_cache"
   ]
  },
  {
   "cell_type": "markdown",
   "metadata": {},
   "source": [
    "### Don't forget to CACHE!"
   ]
  },
  {
   "cell_type": "code",
   "execution_count": null,
   "metadata": {
    "collapsed": true
   },
   "outputs": [],
   "source": [
    "# START CACHING\n",
    "requests_cache.install_cache(\"banana_cache_money\")"
   ]
  },
  {
   "cell_type": "markdown",
   "metadata": {},
   "source": [
    "# Collect Links\n",
    "It seems that the links are formatted in this fashion:\n",
    "http://allrecipes.com/recipes/343/bread/quick-bread/fruit-bread/banana-bread/?internalSource=hubcard&referringContentType=search%20results&clickId=cardslot%201&page=5#5\n",
    "\n",
    "where we can replace the last numbers to resemble integers from 2 to 9."
   ]
  },
  {
   "cell_type": "code",
   "execution_count": 34,
   "metadata": {
    "collapsed": true
   },
   "outputs": [],
   "source": [
    "# FORMAT LINKS\n",
    "home = \"http://allrecipes.com\"\n",
    "base_link = home + \"/recipes/343/bread/quick-bread/fruit-bread/banana-bread/?internalSource=hubcard&referringContentType=search%20results&clickId=cardslot%201&page=\"\n",
    "\n",
    "all_links = [base_link+str(integer)+\"#\"+str(integer) for integer in range(1,10)]"
   ]
  },
  {
   "cell_type": "code",
   "execution_count": 35,
   "metadata": {},
   "outputs": [
    {
     "data": {
      "text/plain": [
       "['http://allrecipes.com/recipes/343/bread/quick-bread/fruit-bread/banana-bread/?internalSource=hubcard&referringContentType=search%20results&clickId=cardslot%201&page=1#1',\n",
       " 'http://allrecipes.com/recipes/343/bread/quick-bread/fruit-bread/banana-bread/?internalSource=hubcard&referringContentType=search%20results&clickId=cardslot%201&page=2#2',\n",
       " 'http://allrecipes.com/recipes/343/bread/quick-bread/fruit-bread/banana-bread/?internalSource=hubcard&referringContentType=search%20results&clickId=cardslot%201&page=3#3',\n",
       " 'http://allrecipes.com/recipes/343/bread/quick-bread/fruit-bread/banana-bread/?internalSource=hubcard&referringContentType=search%20results&clickId=cardslot%201&page=4#4',\n",
       " 'http://allrecipes.com/recipes/343/bread/quick-bread/fruit-bread/banana-bread/?internalSource=hubcard&referringContentType=search%20results&clickId=cardslot%201&page=5#5',\n",
       " 'http://allrecipes.com/recipes/343/bread/quick-bread/fruit-bread/banana-bread/?internalSource=hubcard&referringContentType=search%20results&clickId=cardslot%201&page=6#6',\n",
       " 'http://allrecipes.com/recipes/343/bread/quick-bread/fruit-bread/banana-bread/?internalSource=hubcard&referringContentType=search%20results&clickId=cardslot%201&page=7#7',\n",
       " 'http://allrecipes.com/recipes/343/bread/quick-bread/fruit-bread/banana-bread/?internalSource=hubcard&referringContentType=search%20results&clickId=cardslot%201&page=8#8',\n",
       " 'http://allrecipes.com/recipes/343/bread/quick-bread/fruit-bread/banana-bread/?internalSource=hubcard&referringContentType=search%20results&clickId=cardslot%201&page=9#9']"
      ]
     },
     "execution_count": 35,
     "metadata": {},
     "output_type": "execute_result"
    }
   ],
   "source": [
    "all_links"
   ]
  },
  {
   "cell_type": "markdown",
   "metadata": {},
   "source": [
    "The markup sort of looks like this.\n",
    "\n",
    "        <h3 class=\"grid-col__h3 grid-col__h3--recipe-grid\">\n",
    "            Chef John's Banana Bread\n",
    "                <div class=\"grid-col__video\">\n",
    "                    <a href=\"/video/528/chef-johns-banana-bread/\" data-internal-referrer-link='hub recipe' data-click-id='cardslot 1'><span class=\"icon--videoplay-small-white\"></span></a>\n",
    "                </div>\n",
    "        </h3>"
   ]
  },
  {
   "cell_type": "code",
   "execution_count": 50,
   "metadata": {},
   "outputs": [],
   "source": [
    "# FUNCTION TO RETRIEVE URLS FROM ONE PAGE\n",
    "def one_page_recipes(url):\n",
    "    soup = BeautifulSoup((requests.get(url)).text, \"html.parser\")\n",
    "    page_recipes = soup.find_all(\"article\", {\"class\", \"grid-col--fixed-tiles\"})\n",
    "    \n",
    "    # INITIALIZE LIST\n",
    "    recipes = []\n",
    "    for page in page_recipes:\n",
    "        try:\n",
    "            temp = page.find_all(\"a\")[0][\"href\"]\n",
    "            if temp.startswith(\"/\"):\n",
    "                recipes.append(temp)\n",
    "        except:\n",
    "            continue\n",
    "                  \n",
    "    return(recipes)"
   ]
  },
  {
   "cell_type": "code",
   "execution_count": 54,
   "metadata": {},
   "outputs": [],
   "source": [
    "banana_bread_links = [one_page_recipes(this_link) for this_link in all_links]"
   ]
  },
  {
   "cell_type": "code",
   "execution_count": 71,
   "metadata": {},
   "outputs": [
    {
     "data": {
      "text/plain": [
       "['/recipe/7158/strawnana-bread/',\n",
       " '/recipe/6765/4h-banana-bread/',\n",
       " '/recipe/218541/caramel-macchiato-banana-bread/',\n",
       " '/recipe/219967/chef-johns-banana-bread/',\n",
       " '/recipe/7154/creamy-banana-bread/',\n",
       " '/recipe/17252/chocolate-banana-bread/',\n",
       " '/recipe/228442/raspberry-banana-bread/',\n",
       " '/recipe/16999/grandmas-homemade-banana-bread/',\n",
       " '/recipe/141933/banana-zucchini-bread/',\n",
       " '/video/4744/banana-chocolate-chip-bread/',\n",
       " '/recipe/17652/banana-crumb-muffins/',\n",
       " '/recipe/20144/banana-banana-bread/',\n",
       " '/recipe/17066/janets-rich-banana-bread/',\n",
       " '/recipe/6984/banana-sour-cream-bread/',\n",
       " '/video/1065/extreme-banana-nut-bread/',\n",
       " '/recipe/67937/extreme-banana-nut-bread-ebnb/',\n",
       " '/recipe/15747/best-ever-banana-bread/',\n",
       " '/recipe/16952/the-best-banana-bread/',\n",
       " '/recipe/6687/banana-bread/',\n",
       " '/video/673/banana-banana-bread/',\n",
       " '/recipe/6993/cathys-banana-bread/',\n",
       " '/video/528/chef-johns-banana-bread/',\n",
       " '/recipe/6990/sarahs-banana-bread-muffins/',\n",
       " '/recipe/23426/almost-no-fat-banana-bread/',\n",
       " '/recipe/20153/chocolate-chip-banana-bread-ii/',\n",
       " '/recipe/6713/easy-banana-bread/',\n",
       " '/recipe/17754/janines-best-banana-bread/',\n",
       " '/recipe/7155/whole-wheat-banana-nut-bread/',\n",
       " '/recipe/18015/lighter-banana-muffins/',\n",
       " '/recipe/230482/banana-chocolate-chip-bread/']"
      ]
     },
     "execution_count": 71,
     "metadata": {},
     "output_type": "execute_result"
    }
   ],
   "source": [
    "banana_bread_links[0]"
   ]
  },
  {
   "cell_type": "code",
   "execution_count": 72,
   "metadata": {},
   "outputs": [],
   "source": [
    "# CONCATENATE LIST AND FORMAT UNIVERSAL LINKS\n",
    "bblinks = [home+list_item for sublist in banana_bread_links for list_item in sublist]"
   ]
  },
  {
   "cell_type": "code",
   "execution_count": 73,
   "metadata": {},
   "outputs": [
    {
     "data": {
      "text/plain": [
       "['http://allrecipes.com/recipe/7158/strawnana-bread/',\n",
       " 'http://allrecipes.com/recipe/6765/4h-banana-bread/',\n",
       " 'http://allrecipes.com/recipe/218541/caramel-macchiato-banana-bread/',\n",
       " 'http://allrecipes.com/recipe/219967/chef-johns-banana-bread/',\n",
       " 'http://allrecipes.com/recipe/7154/creamy-banana-bread/']"
      ]
     },
     "execution_count": 73,
     "metadata": {},
     "output_type": "execute_result"
    }
   ],
   "source": [
    "bblinks[0:5]"
   ]
  },
  {
   "cell_type": "code",
   "execution_count": 74,
   "metadata": {
    "scrolled": true
   },
   "outputs": [
    {
     "data": {
      "text/plain": [
       "181"
      ]
     },
     "execution_count": 74,
     "metadata": {},
     "output_type": "execute_result"
    }
   ],
   "source": [
    "len(bblinks)"
   ]
  },
  {
   "cell_type": "markdown",
   "metadata": {},
   "source": [
    "We need to remove the videos."
   ]
  },
  {
   "cell_type": "code",
   "execution_count": 164,
   "metadata": {},
   "outputs": [],
   "source": [
    "bblinks_novids = [link for link in bblinks if \"video\" not in link]"
   ]
  },
  {
   "cell_type": "code",
   "execution_count": 165,
   "metadata": {},
   "outputs": [
    {
     "data": {
      "text/plain": [
       "177"
      ]
     },
     "execution_count": 165,
     "metadata": {},
     "output_type": "execute_result"
    }
   ],
   "source": [
    "len(bblinks_novids)"
   ]
  },
  {
   "cell_type": "markdown",
   "metadata": {},
   "source": [
    "Now the links have been collected, let's continue on to check out how to read one of the pages.\n",
    "\n",
    "# Gathering Page Information\n",
    "We're going to inspect one of the pages, then create a function that can be generalized to retrieve:\n",
    "<br>\n",
    "(1) Recipe Name\n",
    "<br>\n",
    "(2) Star Rating & Review Count\n",
    "<br>\n",
    "(4) Ingredients\n",
    "<br>\n",
    "(5) Calories"
   ]
  },
  {
   "cell_type": "code",
   "execution_count": 75,
   "metadata": {},
   "outputs": [
    {
     "data": {
      "text/plain": [
       "'http://allrecipes.com/recipe/7158/strawnana-bread/'"
      ]
     },
     "execution_count": 75,
     "metadata": {},
     "output_type": "execute_result"
    }
   ],
   "source": [
    "bblinks[0]"
   ]
  },
  {
   "cell_type": "markdown",
   "metadata": {},
   "source": [
    "### Recipe Name\n",
    "The markup for the recipe name looks like this. "
   ]
  },
  {
   "cell_type": "code",
   "execution_count": 78,
   "metadata": {
    "collapsed": true
   },
   "outputs": [],
   "source": [
    "# <section class=\"recipe-summary clearfix\">\n",
    "#     <meta property=\"og:rating\" content=\"4.41201734542847\" />\n",
    "#     <meta property=\"og:rating_scale\" content=\"5\" />\n",
    "#     <div id=\"karma-lazy-sponsorLogo\" class=\"recipe-summary__logo\"></div>\n",
    "#     <h1 class=\"recipe-summary__h1\" itemprop=\"name\">Strawnana Bread</h1>\n",
    "#     <!--rating stars-->\n",
    "#     <div class=\"recipe-summary__stars\">\n",
    "#         <div class=\"rating-stars\" data-scroll-to-anchor=\"reviews\" data-ratingstars= 4.41201734542847 >"
   ]
  },
  {
   "cell_type": "code",
   "execution_count": 77,
   "metadata": {},
   "outputs": [],
   "source": [
    "#         <span itemprop=\"aggregateRating\" itemscope itemtype=\"http://schema.org/AggregateRating\" class=\"aggregate-rating\">\n",
    "#             <meta itemprop=\"ratingValue\" content=\"4.41\">\n",
    "#             <meta itemprop=\"reviewCount\" content=\"182\">"
   ]
  },
  {
   "cell_type": "code",
   "execution_count": 82,
   "metadata": {},
   "outputs": [],
   "source": [
    "soup = BeautifulSoup((requests.get(bblinks[0])).text, \"html.parser\")\n",
    "clearfix = soup.find_all(\"section\", {\"class\", \"recipe-summary clearfix\"})[0]"
   ]
  },
  {
   "cell_type": "code",
   "execution_count": 83,
   "metadata": {},
   "outputs": [
    {
     "data": {
      "text/plain": [
       "<section class=\"recipe-summary clearfix\">\n",
       "<meta content=\"4.41201734542847\" property=\"og:rating\"/>\n",
       "<meta content=\"5\" property=\"og:rating_scale\"/>\n",
       "<div class=\"recipe-summary__logo\" id=\"karma-lazy-sponsorLogo\"></div>\n",
       "<h1 class=\"recipe-summary__h1\" itemprop=\"name\">Strawnana Bread</h1>\n",
       "<!--rating stars-->\n",
       "<div class=\"recipe-summary__stars\">\n",
       "<div class=\"rating-stars\" data-ratingstars=\"4.41201734542847\" data-scroll-to-anchor=\"reviews\">\n",
       "<img height=\"20\" src=\"http://images.media-allrecipes.com/ar-images/icons/rating-stars/full-star-2015.svg\" width=\"20\">\n",
       "<img height=\"20\" src=\"http://images.media-allrecipes.com/ar-images/icons/rating-stars/full-star-2015.svg\" width=\"20\">\n",
       "<img height=\"20\" src=\"http://images.media-allrecipes.com/ar-images/icons/rating-stars/full-star-2015.svg\" width=\"20\">\n",
       "<img height=\"20\" src=\"http://images.media-allrecipes.com/ar-images/icons/rating-stars/full-star-2015.svg\" width=\"20\">\n",
       "<img height=\"20\" src=\"http://images.media-allrecipes.com/ar-images/icons/rating-stars/half-star-2015.svg\" width=\"20\">\n",
       "</img></img></img></img></img></div>\n",
       "<span class=\"aggregate-rating\" itemprop=\"aggregateRating\" itemscope=\"\" itemtype=\"http://schema.org/AggregateRating\">\n",
       "<meta content=\"4.41\" itemprop=\"ratingValue\"/>\n",
       "<meta content=\"182\" itemprop=\"reviewCount\"/>\n",
       "</span>\n",
       "</div>\n",
       "<!-- total made it count & read review link -->\n",
       "<div class=\"summary-stats-box\">\n",
       "<div class=\"total-made-it\" data-ng-controller=\"ar_controllers_recipe_summary\" data-ng-init=\"init(75,null)\" data-ng-show=\"show\" ng-cloak=\"\">\n",
       "<span ng-controller=\"ar_controllers_recipe_reviews\" ng-init=\"init(7158, 2, 9, 'Recipe', 5, 'MostHelpful')\">\n",
       "<a class=\"read--reviews\" ng-click=\"$event.preventDefault();reviewModalDialog(0, sortBy)\" target=\"_self\">\n",
       "<span class=\"made-it-count\" ng-bind=\"totalRecipeMadeCount |largeNumberDisplay\"></span><span> made it</span><span>  | </span>\n",
       "<span class=\"review-count\">182 reviews</span>\n",
       "</a>\n",
       "</span>\n",
       "<span ng-controller=\"ar_controllers_recipe_photo\" ng-hide=\"showplayer\">\n",
       "<a class=\"icon-photoPage-link\" href=\"/recipe/7158/strawnana-bread/photos/67315/\" ng-click=\"$event.preventDefault(); openGalery(null, 7158, 'Strawnana Bread', ', null')\">\n",
       "<span>  |  </span><span class=\"picture-count-link\"><format-large-number number=\"38\"></format-large-number> photos</span>\n",
       "</a>\n",
       "</span>\n",
       "</div>\n",
       "</div>\n",
       "<div class=\"submitter\">\n",
       "<div class=\"submitter__img\">\n",
       "<a href=\"/cook/57490/\"><img alt=\"CORWYNN DARKHOLME\" class=\"img-profile img-profile--submitter\" src=\"http://images.media-allrecipes.com/userphotos/50x50/534164.jpg\" title=\"CORWYNN DARKHOLME\"/></a>\n",
       "<span><span class=\"icon--cook-card-follower\" title=\"Followers\"></span><span><format-large-number number=\"298\"></format-large-number></span></span>\n",
       "</div>\n",
       "<p>\n",
       "<span class=\"submitter__byline\">Recipe by: </span><span class=\"submitter__name\" itemprop=\"author\">CORWYNN DARKHOLME</span>\n",
       "</p>\n",
       "<div class=\"submitter__description\" itemprop=\"description\">\n",
       "\"Quick and easy to make, oh so fruity, and very yummy!!\"        </div>\n",
       "</div>\n",
       "</section>"
      ]
     },
     "execution_count": 83,
     "metadata": {},
     "output_type": "execute_result"
    }
   ],
   "source": [
    "clearfix"
   ]
  },
  {
   "cell_type": "code",
   "execution_count": 95,
   "metadata": {},
   "outputs": [
    {
     "data": {
      "text/plain": [
       "'Strawnana Bread'"
      ]
     },
     "execution_count": 95,
     "metadata": {},
     "output_type": "execute_result"
    }
   ],
   "source": [
    "clearfix.find(\"h1\").contents[0]"
   ]
  },
  {
   "cell_type": "markdown",
   "metadata": {},
   "source": [
    "### Star Rating & Review Count"
   ]
  },
  {
   "cell_type": "code",
   "execution_count": 106,
   "metadata": {},
   "outputs": [
    {
     "data": {
      "text/plain": [
       "'4.41201734542847'"
      ]
     },
     "execution_count": 106,
     "metadata": {},
     "output_type": "execute_result"
    }
   ],
   "source": [
    "clearfix.find(\"div\", {\"class\": \"recipe-summary__stars\"}).find(\"div\", {\"class\", \"rating-stars\"})[\"data-ratingstars\"]"
   ]
  },
  {
   "cell_type": "code",
   "execution_count": 112,
   "metadata": {},
   "outputs": [],
   "source": [
    "metas = clearfix.find(\"div\", {\"class\": \"recipe-summary__stars\"}).find(\"span\", {\"class\", \"aggregate-rating\"}).find_all(\"meta\")"
   ]
  },
  {
   "cell_type": "code",
   "execution_count": 113,
   "metadata": {},
   "outputs": [
    {
     "data": {
      "text/plain": [
       "[<meta content=\"4.41\" itemprop=\"ratingValue\"/>,\n",
       " <meta content=\"182\" itemprop=\"reviewCount\"/>]"
      ]
     },
     "execution_count": 113,
     "metadata": {},
     "output_type": "execute_result"
    }
   ],
   "source": [
    "metas"
   ]
  },
  {
   "cell_type": "code",
   "execution_count": 114,
   "metadata": {},
   "outputs": [
    {
     "data": {
      "text/plain": [
       "['4.41', '182']"
      ]
     },
     "execution_count": 114,
     "metadata": {},
     "output_type": "execute_result"
    }
   ],
   "source": [
    "[h[\"content\"] for h in metas]"
   ]
  },
  {
   "cell_type": "markdown",
   "metadata": {},
   "source": [
    "### Ingredients"
   ]
  },
  {
   "cell_type": "code",
   "execution_count": null,
   "metadata": {
    "collapsed": true
   },
   "outputs": [],
   "source": [
    "#   <ul class=\"checklist dropdownwrapper list-ingredients-1\" ng-hide=\"reloaded\" id=\"lst_ingredients_1\">\n",
    "#                 <li class=\"checkList__line\">\n",
    "#                     <label ng-class=\"{true: 'checkList__item'}[true]\">\n",
    "#                         <input data-id=\"16317\" name=\"ingredientCheckbox\" data-role=\"none\" type=\"checkbox\" value=\"N\" ng-click=\"saveIngredient($event,16317)\" />\n",
    "#                         \n",
    "#                     </label>\n",
    "#                         <div data-ng-repeat='deal in deals[\"16317\"]'>\n",
    "#                             <div class=\"offer-container\" data-ng-class='{\"hide-deals\":!deals[\"16317\"] || !localOffersService.localOffersUserEnabled()}' ng-cloak>\n",
    "#                                 <div class=\"left\">\n",
    "#                                     <p>\n",
    "#                                         <span class=\"offer-name\" data-ng-bind-html='deal.description'></span>\n",
    "#                                         <br/>\n",
    "#                                         <span ng-show='deal.isBIU' data-ng-bind-html='deal.price'></span>\n",
    "#                                         <span ng-show='!deal.isBIU' class='unit-cost' data-ng-bind-html='deal.priceWithExpiration'></span>\n",
    "#                                         <br/>\n",
    "#                                         <a data-no-follow-if-external ng-href='{{deal.actionUrl}}' target=\"_blank\" data-ng-click='fireClickPixels(deal.clickPixels)' data-ng-bind-html='deal.clickThroughText'></a>\n",
    "#                                         <br/>\n",
    "#                                         <span class=\"advertisement\" ng-show='deal.isBIU'>ADVERTISEMENT</span>\n",
    "#                                     </p>\n",
    "#                                     <div class=\"tracking-element\" load-dom-script script=\"deal.moatUrl\"></div>\n",
    "#                                     <img class=\"tracking-element\" data-ng-repeat=\"trackingUrl in deal.trackingPixels track by $index\" data-ng-src=\"{{trackingUrl}}\" />\n",
    "#                                     <img class=\"tracking-element\" data-ng-repeat=\"clickUrl in listClickPixels track by $index\" data-ng-src=\"{{clickUrl}}\" />\n",
    "#                                 </div>\n",
    "#                                 <div class=\"right\">\n",
    "#                                     <img data-ng-src='{{deal.imageUrl}}' class=\"offer-photo\" />\n",
    "#                                 </div>\n",
    "#                             </div>\n",
    "#                         </div>\n",
    "#                 </li>\n",
    "#                 <li class=\"checkList__line\">\n",
    "#                     <label ng-class=\"{true: 'checkList__item'}[true]\">\n",
    "#                         <input data-id=\"1526\" name=\"ingredientCheckbox\" data-role=\"none\" type=\"checkbox\" value=\"N\" ng-click=\"saveIngredient($event,1526)\" />\n",
    "#                         <span class=\"recipe-ingred_txt added\" data-id=\"1526\" data-nameid=\"1526\" itemprop=\"ingredients\">2 cups white sugar</span>\n",
    "#                     </label>\n",
    "#                         <div data-ng-repeat='deal in deals[\"1526\"]'>\n",
    "#                             <div class=\"offer-container\" data-ng-class='{\"hide-deals\":!deals[\"1526\"] || !localOffersService.localOffersUserEnabled()}' ng-cloak>\n",
    "#                                 <div class=\"left\">\n",
    "#                                     <p>\n",
    "#                                         <span class=\"offer-name\" data-ng-bind-html='deal.description'></span>\n",
    "#                                         <br/>\n",
    "#                                         <span ng-show='deal.isBIU' data-ng-bind-html='deal.price'></span>\n",
    "#                                         <span ng-show='!deal.isBIU' class='unit-cost' data-ng-bind-html='deal.priceWithExpiration'></span>\n",
    "#                                         <br/>\n",
    "#                                         <a data-no-follow-if-external ng-href='{{deal.actionUrl}}' target=\"_blank\" data-ng-click='fireClickPixels(deal.clickPixels)' data-ng-bind-html='deal.clickThroughText'></a>\n",
    "#                                         <br/>\n",
    "#                                         <span class=\"advertisement\" ng-show='deal.isBIU'>ADVERTISEMENT</span>\n",
    "#                                     </p>\n",
    "#                                     <div class=\"tracking-element\" load-dom-script script=\"deal.moatUrl\"></div>\n",
    "#                                     <img class=\"tracking-element\" data-ng-repeat=\"trackingUrl in deal.trackingPixels track by $index\" data-ng-src=\"{{trackingUrl}}\" />\n",
    "#                                     <img class=\"tracking-element\" data-ng-repeat=\"clickUrl in listClickPixels track by $index\" data-ng-src=\"{{clickUrl}}\" />\n",
    "#                                 </div>\n",
    "#                                 <div class=\"right\">\n",
    "#                                     <img data-ng-src='{{deal.imageUrl}}' class=\"offer-photo\" />\n",
    "#                                 </div>\n",
    "#                             </div>\n",
    "#                         </div>\n",
    "#                 </li>"
   ]
  },
  {
   "cell_type": "code",
   "execution_count": null,
   "metadata": {
    "collapsed": true
   },
   "outputs": [],
   "source": [
    "# <span class=\"recipe-ingred_txt added\" data-id=\"16317\" data-nameid=\"16317\" itemprop=\"ingredients\">4 eggs, lightly beaten</span>"
   ]
  },
  {
   "cell_type": "code",
   "execution_count": 121,
   "metadata": {
    "collapsed": true
   },
   "outputs": [],
   "source": [
    "ingredients = soup.find_all(\"span\", {\"class\", \"recipe-ingred_txt added\"})"
   ]
  },
  {
   "cell_type": "code",
   "execution_count": 122,
   "metadata": {},
   "outputs": [
    {
     "data": {
      "text/plain": [
       "12"
      ]
     },
     "execution_count": 122,
     "metadata": {},
     "output_type": "execute_result"
    }
   ],
   "source": [
    "len(ingredients)"
   ]
  },
  {
   "cell_type": "code",
   "execution_count": 126,
   "metadata": {},
   "outputs": [
    {
     "data": {
      "text/plain": [
       "['4 eggs, lightly beaten',\n",
       " '2 cups white sugar',\n",
       " '1 1/2 cups strawberries, mashed',\n",
       " '1 cup mashed bananas',\n",
       " '1 tablespoon orange zest',\n",
       " '1 cup vegetable oil',\n",
       " '3 cups all-purpose flour',\n",
       " '1 teaspoon baking soda',\n",
       " '1 1/2 teaspoons ground cinnamon',\n",
       " '1/2 teaspoon salt',\n",
       " '1/4 teaspoon ground nutmeg',\n",
       " '1 cup chopped walnuts']"
      ]
     },
     "execution_count": 126,
     "metadata": {},
     "output_type": "execute_result"
    }
   ],
   "source": [
    "[item.contents[0] for item in ingredients]"
   ]
  },
  {
   "cell_type": "markdown",
   "metadata": {},
   "source": [
    "### Calories"
   ]
  },
  {
   "cell_type": "code",
   "execution_count": 127,
   "metadata": {
    "collapsed": true
   },
   "outputs": [],
   "source": [
    "# <span class=\"calorie-count\" ng-class=\"{'active': nutritionSection_showing}\"><span>258</span> <span class=\"calorie-count__desc\" ng-class=\"{'active': nutritionSection_showing}\"> cals</span></span>"
   ]
  },
  {
   "cell_type": "code",
   "execution_count": 143,
   "metadata": {},
   "outputs": [
    {
     "data": {
      "text/plain": [
       "'258'"
      ]
     },
     "execution_count": 143,
     "metadata": {},
     "output_type": "execute_result"
    }
   ],
   "source": [
    "soup.find_all(\"span\", {\"class\", \"calorie-count\"})[0].find(\"span\").contents[0]"
   ]
  },
  {
   "cell_type": "markdown",
   "metadata": {},
   "source": [
    "### Function To Retrieve All\n",
    "Now, what remains is the task to make a function to wrangle these data from a generic page!"
   ]
  },
  {
   "cell_type": "code",
   "execution_count": null,
   "metadata": {
    "collapsed": true
   },
   "outputs": [],
   "source": [
    "# def read_a_page(url):\n",
    "#     # CONVERT PAGE\n",
    "#     soup = BeautifulSoup((requests.get(url)).text, \"html.parser\")\n",
    "    \n",
    "#     # RECIPE TITLE\n",
    "#     try:\n",
    "#         clearfix = soup.find_all(\"section\", {\"class\", \"recipe-summary clearfix\"})[0]\n",
    "#         title = clearfix.find(\"h1\").contents[0]\n",
    "#     except:\n",
    "#         print(url)\n",
    "\n",
    "#     # RATINGS\n",
    "#     try:\n",
    "#         longRating = clearfix.find(\"div\", {\"class\": \"recipe-summary__stars\"}).find(\"div\", {\"class\", \"rating-stars\"})[\"data-ratingstars\"]\n",
    "#         metas = clearfix.find(\"div\", {\"class\": \"recipe-summary__stars\"}).find(\"span\", {\"class\", \"aggregate-rating\"}).find_all(\"meta\")\n",
    "#         metas_content = [h[\"content\"] for h in metas]\n",
    "#         ratingValue, reviewCount = metas_content[0], metas_content[1]\n",
    "#     except:\n",
    "#         print(url)\n",
    "    \n",
    "#     # INGREDIENTS\n",
    "#     try:\n",
    "#         ingredients = soup.find_all(\"span\", {\"class\", \"recipe-ingred_txt added\"})\n",
    "#         recipe = [item.contents[0] for item in ingredients]\n",
    "#     except:\n",
    "#         print(url)\n",
    "                         \n",
    "#     # CALORIES\n",
    "#     try:\n",
    "#         calories = soup.find_all(\"span\", {\"class\", \"calorie-count\"})[0].find(\"span\").contents[0]\n",
    "#     except:\n",
    "#         print(url)\n",
    "    \n",
    "#     try:\n",
    "#         return([title, longRating, ratingValue, reviewCount, recipe, calories])\n",
    "#     except:\n",
    "#         return(0)"
   ]
  },
  {
   "cell_type": "code",
   "execution_count": 178,
   "metadata": {},
   "outputs": [],
   "source": [
    "def read_a_page(url):\n",
    "    # CONVERT PAGE\n",
    "    soup = BeautifulSoup((requests.get(url)).text, \"html.parser\")\n",
    "    \n",
    "    # RECIPE TITLE\n",
    "    try:\n",
    "        clearfix = soup.find_all(\"section\", {\"class\", \"recipe-summary clearfix\"})[0]\n",
    "        title = clearfix.find(\"h1\").contents[0]\n",
    "    except:\n",
    "        title = np.NaN\n",
    "\n",
    "    # RATINGS\n",
    "    longRating = clearfix.find(\"div\", {\"class\": \"recipe-summary__stars\"}).find(\"div\", {\"class\", \"rating-stars\"})[\"data-ratingstars\"]\n",
    "    metas = clearfix.find(\"div\", {\"class\": \"recipe-summary__stars\"}).find(\"span\", {\"class\", \"aggregate-rating\"}).find_all(\"meta\")\n",
    "    metas_content = [h[\"content\"] for h in metas]\n",
    "    ratingValue, reviewCount = metas_content[0], metas_content[1]\n",
    "    \n",
    "    # INGREDIENTS\n",
    "    ingredients = soup.find_all(\"span\", {\"class\", \"recipe-ingred_txt added\"})\n",
    "    recipe = [item.contents[0] for item in ingredients]\n",
    "                         \n",
    "    # CALORIES\n",
    "    try:\n",
    "        calories = soup.find_all(\"span\", {\"class\", \"calorie-count\"})[0].find(\"span\").contents[0]\n",
    "    except:\n",
    "        calories = np.NaN\n",
    "    \n",
    "    return([url, title, longRating, ratingValue, reviewCount, recipe, calories])                     \n",
    "    "
   ]
  },
  {
   "cell_type": "code",
   "execution_count": 179,
   "metadata": {},
   "outputs": [
    {
     "ename": "ConnectionError",
     "evalue": "('Connection aborted.', ConnectionResetError(10054, 'An existing connection was forcibly closed by the remote host', None, 10054, None))",
     "output_type": "error",
     "traceback": [
      "\u001b[1;31m---------------------------------------------------------------------------\u001b[0m",
      "\u001b[1;31mConnectionResetError\u001b[0m                      Traceback (most recent call last)",
      "\u001b[1;32mD:\\Users\\ehze\\Anaconda3\\lib\\site-packages\\requests\\packages\\urllib3\\connectionpool.py\u001b[0m in \u001b[0;36murlopen\u001b[1;34m(self, method, url, body, headers, retries, redirect, assert_same_host, timeout, pool_timeout, release_conn, chunked, body_pos, **response_kw)\u001b[0m\n\u001b[0;32m    599\u001b[0m                                                   \u001b[0mbody\u001b[0m\u001b[1;33m=\u001b[0m\u001b[0mbody\u001b[0m\u001b[1;33m,\u001b[0m \u001b[0mheaders\u001b[0m\u001b[1;33m=\u001b[0m\u001b[0mheaders\u001b[0m\u001b[1;33m,\u001b[0m\u001b[1;33m\u001b[0m\u001b[0m\n\u001b[1;32m--> 600\u001b[1;33m                                                   chunked=chunked)\n\u001b[0m\u001b[0;32m    601\u001b[0m \u001b[1;33m\u001b[0m\u001b[0m\n",
      "\u001b[1;32mD:\\Users\\ehze\\Anaconda3\\lib\\site-packages\\requests\\packages\\urllib3\\connectionpool.py\u001b[0m in \u001b[0;36m_make_request\u001b[1;34m(self, conn, method, url, timeout, chunked, **httplib_request_kw)\u001b[0m\n\u001b[0;32m    385\u001b[0m                     \u001b[1;31m# otherwise it looks like a programming error was the cause.\u001b[0m\u001b[1;33m\u001b[0m\u001b[1;33m\u001b[0m\u001b[0m\n\u001b[1;32m--> 386\u001b[1;33m                     \u001b[0msix\u001b[0m\u001b[1;33m.\u001b[0m\u001b[0mraise_from\u001b[0m\u001b[1;33m(\u001b[0m\u001b[0me\u001b[0m\u001b[1;33m,\u001b[0m \u001b[1;32mNone\u001b[0m\u001b[1;33m)\u001b[0m\u001b[1;33m\u001b[0m\u001b[0m\n\u001b[0m\u001b[0;32m    387\u001b[0m         \u001b[1;32mexcept\u001b[0m \u001b[1;33m(\u001b[0m\u001b[0mSocketTimeout\u001b[0m\u001b[1;33m,\u001b[0m \u001b[0mBaseSSLError\u001b[0m\u001b[1;33m,\u001b[0m \u001b[0mSocketError\u001b[0m\u001b[1;33m)\u001b[0m \u001b[1;32mas\u001b[0m \u001b[0me\u001b[0m\u001b[1;33m:\u001b[0m\u001b[1;33m\u001b[0m\u001b[0m\n",
      "\u001b[1;32mD:\\Users\\ehze\\Anaconda3\\lib\\site-packages\\requests\\packages\\urllib3\\packages\\six.py\u001b[0m in \u001b[0;36mraise_from\u001b[1;34m(value, from_value)\u001b[0m\n",
      "\u001b[1;32mD:\\Users\\ehze\\Anaconda3\\lib\\site-packages\\requests\\packages\\urllib3\\connectionpool.py\u001b[0m in \u001b[0;36m_make_request\u001b[1;34m(self, conn, method, url, timeout, chunked, **httplib_request_kw)\u001b[0m\n\u001b[0;32m    381\u001b[0m                 \u001b[1;32mtry\u001b[0m\u001b[1;33m:\u001b[0m\u001b[1;33m\u001b[0m\u001b[0m\n\u001b[1;32m--> 382\u001b[1;33m                     \u001b[0mhttplib_response\u001b[0m \u001b[1;33m=\u001b[0m \u001b[0mconn\u001b[0m\u001b[1;33m.\u001b[0m\u001b[0mgetresponse\u001b[0m\u001b[1;33m(\u001b[0m\u001b[1;33m)\u001b[0m\u001b[1;33m\u001b[0m\u001b[0m\n\u001b[0m\u001b[0;32m    383\u001b[0m                 \u001b[1;32mexcept\u001b[0m \u001b[0mException\u001b[0m \u001b[1;32mas\u001b[0m \u001b[0me\u001b[0m\u001b[1;33m:\u001b[0m\u001b[1;33m\u001b[0m\u001b[0m\n",
      "\u001b[1;32mD:\\Users\\ehze\\Anaconda3\\lib\\http\\client.py\u001b[0m in \u001b[0;36mgetresponse\u001b[1;34m(self)\u001b[0m\n\u001b[0;32m   1330\u001b[0m             \u001b[1;32mtry\u001b[0m\u001b[1;33m:\u001b[0m\u001b[1;33m\u001b[0m\u001b[0m\n\u001b[1;32m-> 1331\u001b[1;33m                 \u001b[0mresponse\u001b[0m\u001b[1;33m.\u001b[0m\u001b[0mbegin\u001b[0m\u001b[1;33m(\u001b[0m\u001b[1;33m)\u001b[0m\u001b[1;33m\u001b[0m\u001b[0m\n\u001b[0m\u001b[0;32m   1332\u001b[0m             \u001b[1;32mexcept\u001b[0m \u001b[0mConnectionError\u001b[0m\u001b[1;33m:\u001b[0m\u001b[1;33m\u001b[0m\u001b[0m\n",
      "\u001b[1;32mD:\\Users\\ehze\\Anaconda3\\lib\\http\\client.py\u001b[0m in \u001b[0;36mbegin\u001b[1;34m(self)\u001b[0m\n\u001b[0;32m    296\u001b[0m         \u001b[1;32mwhile\u001b[0m \u001b[1;32mTrue\u001b[0m\u001b[1;33m:\u001b[0m\u001b[1;33m\u001b[0m\u001b[0m\n\u001b[1;32m--> 297\u001b[1;33m             \u001b[0mversion\u001b[0m\u001b[1;33m,\u001b[0m \u001b[0mstatus\u001b[0m\u001b[1;33m,\u001b[0m \u001b[0mreason\u001b[0m \u001b[1;33m=\u001b[0m \u001b[0mself\u001b[0m\u001b[1;33m.\u001b[0m\u001b[0m_read_status\u001b[0m\u001b[1;33m(\u001b[0m\u001b[1;33m)\u001b[0m\u001b[1;33m\u001b[0m\u001b[0m\n\u001b[0m\u001b[0;32m    298\u001b[0m             \u001b[1;32mif\u001b[0m \u001b[0mstatus\u001b[0m \u001b[1;33m!=\u001b[0m \u001b[0mCONTINUE\u001b[0m\u001b[1;33m:\u001b[0m\u001b[1;33m\u001b[0m\u001b[0m\n",
      "\u001b[1;32mD:\\Users\\ehze\\Anaconda3\\lib\\http\\client.py\u001b[0m in \u001b[0;36m_read_status\u001b[1;34m(self)\u001b[0m\n\u001b[0;32m    257\u001b[0m     \u001b[1;32mdef\u001b[0m \u001b[0m_read_status\u001b[0m\u001b[1;33m(\u001b[0m\u001b[0mself\u001b[0m\u001b[1;33m)\u001b[0m\u001b[1;33m:\u001b[0m\u001b[1;33m\u001b[0m\u001b[0m\n\u001b[1;32m--> 258\u001b[1;33m         \u001b[0mline\u001b[0m \u001b[1;33m=\u001b[0m \u001b[0mstr\u001b[0m\u001b[1;33m(\u001b[0m\u001b[0mself\u001b[0m\u001b[1;33m.\u001b[0m\u001b[0mfp\u001b[0m\u001b[1;33m.\u001b[0m\u001b[0mreadline\u001b[0m\u001b[1;33m(\u001b[0m\u001b[0m_MAXLINE\u001b[0m \u001b[1;33m+\u001b[0m \u001b[1;36m1\u001b[0m\u001b[1;33m)\u001b[0m\u001b[1;33m,\u001b[0m \u001b[1;34m\"iso-8859-1\"\u001b[0m\u001b[1;33m)\u001b[0m\u001b[1;33m\u001b[0m\u001b[0m\n\u001b[0m\u001b[0;32m    259\u001b[0m         \u001b[1;32mif\u001b[0m \u001b[0mlen\u001b[0m\u001b[1;33m(\u001b[0m\u001b[0mline\u001b[0m\u001b[1;33m)\u001b[0m \u001b[1;33m>\u001b[0m \u001b[0m_MAXLINE\u001b[0m\u001b[1;33m:\u001b[0m\u001b[1;33m\u001b[0m\u001b[0m\n",
      "\u001b[1;32mD:\\Users\\ehze\\Anaconda3\\lib\\socket.py\u001b[0m in \u001b[0;36mreadinto\u001b[1;34m(self, b)\u001b[0m\n\u001b[0;32m    585\u001b[0m             \u001b[1;32mtry\u001b[0m\u001b[1;33m:\u001b[0m\u001b[1;33m\u001b[0m\u001b[0m\n\u001b[1;32m--> 586\u001b[1;33m                 \u001b[1;32mreturn\u001b[0m \u001b[0mself\u001b[0m\u001b[1;33m.\u001b[0m\u001b[0m_sock\u001b[0m\u001b[1;33m.\u001b[0m\u001b[0mrecv_into\u001b[0m\u001b[1;33m(\u001b[0m\u001b[0mb\u001b[0m\u001b[1;33m)\u001b[0m\u001b[1;33m\u001b[0m\u001b[0m\n\u001b[0m\u001b[0;32m    587\u001b[0m             \u001b[1;32mexcept\u001b[0m \u001b[0mtimeout\u001b[0m\u001b[1;33m:\u001b[0m\u001b[1;33m\u001b[0m\u001b[0m\n",
      "\u001b[1;31mConnectionResetError\u001b[0m: [WinError 10054] An existing connection was forcibly closed by the remote host",
      "\nDuring handling of the above exception, another exception occurred:\n",
      "\u001b[1;31mProtocolError\u001b[0m                             Traceback (most recent call last)",
      "\u001b[1;32mD:\\Users\\ehze\\Anaconda3\\lib\\site-packages\\requests\\adapters.py\u001b[0m in \u001b[0;36msend\u001b[1;34m(self, request, stream, timeout, verify, cert, proxies)\u001b[0m\n\u001b[0;32m    437\u001b[0m                     \u001b[0mretries\u001b[0m\u001b[1;33m=\u001b[0m\u001b[0mself\u001b[0m\u001b[1;33m.\u001b[0m\u001b[0mmax_retries\u001b[0m\u001b[1;33m,\u001b[0m\u001b[1;33m\u001b[0m\u001b[0m\n\u001b[1;32m--> 438\u001b[1;33m                     \u001b[0mtimeout\u001b[0m\u001b[1;33m=\u001b[0m\u001b[0mtimeout\u001b[0m\u001b[1;33m\u001b[0m\u001b[0m\n\u001b[0m\u001b[0;32m    439\u001b[0m                 )\n",
      "\u001b[1;32mD:\\Users\\ehze\\Anaconda3\\lib\\site-packages\\requests\\packages\\urllib3\\connectionpool.py\u001b[0m in \u001b[0;36murlopen\u001b[1;34m(self, method, url, body, headers, retries, redirect, assert_same_host, timeout, pool_timeout, release_conn, chunked, body_pos, **response_kw)\u001b[0m\n\u001b[0;32m    648\u001b[0m             retries = retries.increment(method, url, error=e, _pool=self,\n\u001b[1;32m--> 649\u001b[1;33m                                         _stacktrace=sys.exc_info()[2])\n\u001b[0m\u001b[0;32m    650\u001b[0m             \u001b[0mretries\u001b[0m\u001b[1;33m.\u001b[0m\u001b[0msleep\u001b[0m\u001b[1;33m(\u001b[0m\u001b[1;33m)\u001b[0m\u001b[1;33m\u001b[0m\u001b[0m\n",
      "\u001b[1;32mD:\\Users\\ehze\\Anaconda3\\lib\\site-packages\\requests\\packages\\urllib3\\util\\retry.py\u001b[0m in \u001b[0;36mincrement\u001b[1;34m(self, method, url, response, error, _pool, _stacktrace)\u001b[0m\n\u001b[0;32m    356\u001b[0m             \u001b[1;32mif\u001b[0m \u001b[0mread\u001b[0m \u001b[1;32mis\u001b[0m \u001b[1;32mFalse\u001b[0m \u001b[1;32mor\u001b[0m \u001b[1;32mnot\u001b[0m \u001b[0mself\u001b[0m\u001b[1;33m.\u001b[0m\u001b[0m_is_method_retryable\u001b[0m\u001b[1;33m(\u001b[0m\u001b[0mmethod\u001b[0m\u001b[1;33m)\u001b[0m\u001b[1;33m:\u001b[0m\u001b[1;33m\u001b[0m\u001b[0m\n\u001b[1;32m--> 357\u001b[1;33m                 \u001b[1;32mraise\u001b[0m \u001b[0msix\u001b[0m\u001b[1;33m.\u001b[0m\u001b[0mreraise\u001b[0m\u001b[1;33m(\u001b[0m\u001b[0mtype\u001b[0m\u001b[1;33m(\u001b[0m\u001b[0merror\u001b[0m\u001b[1;33m)\u001b[0m\u001b[1;33m,\u001b[0m \u001b[0merror\u001b[0m\u001b[1;33m,\u001b[0m \u001b[0m_stacktrace\u001b[0m\u001b[1;33m)\u001b[0m\u001b[1;33m\u001b[0m\u001b[0m\n\u001b[0m\u001b[0;32m    358\u001b[0m             \u001b[1;32melif\u001b[0m \u001b[0mread\u001b[0m \u001b[1;32mis\u001b[0m \u001b[1;32mnot\u001b[0m \u001b[1;32mNone\u001b[0m\u001b[1;33m:\u001b[0m\u001b[1;33m\u001b[0m\u001b[0m\n",
      "\u001b[1;32mD:\\Users\\ehze\\Anaconda3\\lib\\site-packages\\requests\\packages\\urllib3\\packages\\six.py\u001b[0m in \u001b[0;36mreraise\u001b[1;34m(tp, value, tb)\u001b[0m\n\u001b[0;32m    684\u001b[0m         \u001b[1;32mif\u001b[0m \u001b[0mvalue\u001b[0m\u001b[1;33m.\u001b[0m\u001b[0m__traceback__\u001b[0m \u001b[1;32mis\u001b[0m \u001b[1;32mnot\u001b[0m \u001b[0mtb\u001b[0m\u001b[1;33m:\u001b[0m\u001b[1;33m\u001b[0m\u001b[0m\n\u001b[1;32m--> 685\u001b[1;33m             \u001b[1;32mraise\u001b[0m \u001b[0mvalue\u001b[0m\u001b[1;33m.\u001b[0m\u001b[0mwith_traceback\u001b[0m\u001b[1;33m(\u001b[0m\u001b[0mtb\u001b[0m\u001b[1;33m)\u001b[0m\u001b[1;33m\u001b[0m\u001b[0m\n\u001b[0m\u001b[0;32m    686\u001b[0m         \u001b[1;32mraise\u001b[0m \u001b[0mvalue\u001b[0m\u001b[1;33m\u001b[0m\u001b[0m\n",
      "\u001b[1;32mD:\\Users\\ehze\\Anaconda3\\lib\\site-packages\\requests\\packages\\urllib3\\connectionpool.py\u001b[0m in \u001b[0;36murlopen\u001b[1;34m(self, method, url, body, headers, retries, redirect, assert_same_host, timeout, pool_timeout, release_conn, chunked, body_pos, **response_kw)\u001b[0m\n\u001b[0;32m    599\u001b[0m                                                   \u001b[0mbody\u001b[0m\u001b[1;33m=\u001b[0m\u001b[0mbody\u001b[0m\u001b[1;33m,\u001b[0m \u001b[0mheaders\u001b[0m\u001b[1;33m=\u001b[0m\u001b[0mheaders\u001b[0m\u001b[1;33m,\u001b[0m\u001b[1;33m\u001b[0m\u001b[0m\n\u001b[1;32m--> 600\u001b[1;33m                                                   chunked=chunked)\n\u001b[0m\u001b[0;32m    601\u001b[0m \u001b[1;33m\u001b[0m\u001b[0m\n",
      "\u001b[1;32mD:\\Users\\ehze\\Anaconda3\\lib\\site-packages\\requests\\packages\\urllib3\\connectionpool.py\u001b[0m in \u001b[0;36m_make_request\u001b[1;34m(self, conn, method, url, timeout, chunked, **httplib_request_kw)\u001b[0m\n\u001b[0;32m    385\u001b[0m                     \u001b[1;31m# otherwise it looks like a programming error was the cause.\u001b[0m\u001b[1;33m\u001b[0m\u001b[1;33m\u001b[0m\u001b[0m\n\u001b[1;32m--> 386\u001b[1;33m                     \u001b[0msix\u001b[0m\u001b[1;33m.\u001b[0m\u001b[0mraise_from\u001b[0m\u001b[1;33m(\u001b[0m\u001b[0me\u001b[0m\u001b[1;33m,\u001b[0m \u001b[1;32mNone\u001b[0m\u001b[1;33m)\u001b[0m\u001b[1;33m\u001b[0m\u001b[0m\n\u001b[0m\u001b[0;32m    387\u001b[0m         \u001b[1;32mexcept\u001b[0m \u001b[1;33m(\u001b[0m\u001b[0mSocketTimeout\u001b[0m\u001b[1;33m,\u001b[0m \u001b[0mBaseSSLError\u001b[0m\u001b[1;33m,\u001b[0m \u001b[0mSocketError\u001b[0m\u001b[1;33m)\u001b[0m \u001b[1;32mas\u001b[0m \u001b[0me\u001b[0m\u001b[1;33m:\u001b[0m\u001b[1;33m\u001b[0m\u001b[0m\n",
      "\u001b[1;32mD:\\Users\\ehze\\Anaconda3\\lib\\site-packages\\requests\\packages\\urllib3\\packages\\six.py\u001b[0m in \u001b[0;36mraise_from\u001b[1;34m(value, from_value)\u001b[0m\n",
      "\u001b[1;32mD:\\Users\\ehze\\Anaconda3\\lib\\site-packages\\requests\\packages\\urllib3\\connectionpool.py\u001b[0m in \u001b[0;36m_make_request\u001b[1;34m(self, conn, method, url, timeout, chunked, **httplib_request_kw)\u001b[0m\n\u001b[0;32m    381\u001b[0m                 \u001b[1;32mtry\u001b[0m\u001b[1;33m:\u001b[0m\u001b[1;33m\u001b[0m\u001b[0m\n\u001b[1;32m--> 382\u001b[1;33m                     \u001b[0mhttplib_response\u001b[0m \u001b[1;33m=\u001b[0m \u001b[0mconn\u001b[0m\u001b[1;33m.\u001b[0m\u001b[0mgetresponse\u001b[0m\u001b[1;33m(\u001b[0m\u001b[1;33m)\u001b[0m\u001b[1;33m\u001b[0m\u001b[0m\n\u001b[0m\u001b[0;32m    383\u001b[0m                 \u001b[1;32mexcept\u001b[0m \u001b[0mException\u001b[0m \u001b[1;32mas\u001b[0m \u001b[0me\u001b[0m\u001b[1;33m:\u001b[0m\u001b[1;33m\u001b[0m\u001b[0m\n",
      "\u001b[1;32mD:\\Users\\ehze\\Anaconda3\\lib\\http\\client.py\u001b[0m in \u001b[0;36mgetresponse\u001b[1;34m(self)\u001b[0m\n\u001b[0;32m   1330\u001b[0m             \u001b[1;32mtry\u001b[0m\u001b[1;33m:\u001b[0m\u001b[1;33m\u001b[0m\u001b[0m\n\u001b[1;32m-> 1331\u001b[1;33m                 \u001b[0mresponse\u001b[0m\u001b[1;33m.\u001b[0m\u001b[0mbegin\u001b[0m\u001b[1;33m(\u001b[0m\u001b[1;33m)\u001b[0m\u001b[1;33m\u001b[0m\u001b[0m\n\u001b[0m\u001b[0;32m   1332\u001b[0m             \u001b[1;32mexcept\u001b[0m \u001b[0mConnectionError\u001b[0m\u001b[1;33m:\u001b[0m\u001b[1;33m\u001b[0m\u001b[0m\n",
      "\u001b[1;32mD:\\Users\\ehze\\Anaconda3\\lib\\http\\client.py\u001b[0m in \u001b[0;36mbegin\u001b[1;34m(self)\u001b[0m\n\u001b[0;32m    296\u001b[0m         \u001b[1;32mwhile\u001b[0m \u001b[1;32mTrue\u001b[0m\u001b[1;33m:\u001b[0m\u001b[1;33m\u001b[0m\u001b[0m\n\u001b[1;32m--> 297\u001b[1;33m             \u001b[0mversion\u001b[0m\u001b[1;33m,\u001b[0m \u001b[0mstatus\u001b[0m\u001b[1;33m,\u001b[0m \u001b[0mreason\u001b[0m \u001b[1;33m=\u001b[0m \u001b[0mself\u001b[0m\u001b[1;33m.\u001b[0m\u001b[0m_read_status\u001b[0m\u001b[1;33m(\u001b[0m\u001b[1;33m)\u001b[0m\u001b[1;33m\u001b[0m\u001b[0m\n\u001b[0m\u001b[0;32m    298\u001b[0m             \u001b[1;32mif\u001b[0m \u001b[0mstatus\u001b[0m \u001b[1;33m!=\u001b[0m \u001b[0mCONTINUE\u001b[0m\u001b[1;33m:\u001b[0m\u001b[1;33m\u001b[0m\u001b[0m\n",
      "\u001b[1;32mD:\\Users\\ehze\\Anaconda3\\lib\\http\\client.py\u001b[0m in \u001b[0;36m_read_status\u001b[1;34m(self)\u001b[0m\n\u001b[0;32m    257\u001b[0m     \u001b[1;32mdef\u001b[0m \u001b[0m_read_status\u001b[0m\u001b[1;33m(\u001b[0m\u001b[0mself\u001b[0m\u001b[1;33m)\u001b[0m\u001b[1;33m:\u001b[0m\u001b[1;33m\u001b[0m\u001b[0m\n\u001b[1;32m--> 258\u001b[1;33m         \u001b[0mline\u001b[0m \u001b[1;33m=\u001b[0m \u001b[0mstr\u001b[0m\u001b[1;33m(\u001b[0m\u001b[0mself\u001b[0m\u001b[1;33m.\u001b[0m\u001b[0mfp\u001b[0m\u001b[1;33m.\u001b[0m\u001b[0mreadline\u001b[0m\u001b[1;33m(\u001b[0m\u001b[0m_MAXLINE\u001b[0m \u001b[1;33m+\u001b[0m \u001b[1;36m1\u001b[0m\u001b[1;33m)\u001b[0m\u001b[1;33m,\u001b[0m \u001b[1;34m\"iso-8859-1\"\u001b[0m\u001b[1;33m)\u001b[0m\u001b[1;33m\u001b[0m\u001b[0m\n\u001b[0m\u001b[0;32m    259\u001b[0m         \u001b[1;32mif\u001b[0m \u001b[0mlen\u001b[0m\u001b[1;33m(\u001b[0m\u001b[0mline\u001b[0m\u001b[1;33m)\u001b[0m \u001b[1;33m>\u001b[0m \u001b[0m_MAXLINE\u001b[0m\u001b[1;33m:\u001b[0m\u001b[1;33m\u001b[0m\u001b[0m\n",
      "\u001b[1;32mD:\\Users\\ehze\\Anaconda3\\lib\\socket.py\u001b[0m in \u001b[0;36mreadinto\u001b[1;34m(self, b)\u001b[0m\n\u001b[0;32m    585\u001b[0m             \u001b[1;32mtry\u001b[0m\u001b[1;33m:\u001b[0m\u001b[1;33m\u001b[0m\u001b[0m\n\u001b[1;32m--> 586\u001b[1;33m                 \u001b[1;32mreturn\u001b[0m \u001b[0mself\u001b[0m\u001b[1;33m.\u001b[0m\u001b[0m_sock\u001b[0m\u001b[1;33m.\u001b[0m\u001b[0mrecv_into\u001b[0m\u001b[1;33m(\u001b[0m\u001b[0mb\u001b[0m\u001b[1;33m)\u001b[0m\u001b[1;33m\u001b[0m\u001b[0m\n\u001b[0m\u001b[0;32m    587\u001b[0m             \u001b[1;32mexcept\u001b[0m \u001b[0mtimeout\u001b[0m\u001b[1;33m:\u001b[0m\u001b[1;33m\u001b[0m\u001b[0m\n",
      "\u001b[1;31mProtocolError\u001b[0m: ('Connection aborted.', ConnectionResetError(10054, 'An existing connection was forcibly closed by the remote host', None, 10054, None))",
      "\nDuring handling of the above exception, another exception occurred:\n",
      "\u001b[1;31mConnectionError\u001b[0m                           Traceback (most recent call last)",
      "\u001b[1;32m<ipython-input-179-faa4b0dc88f1>\u001b[0m in \u001b[0;36m<module>\u001b[1;34m()\u001b[0m\n\u001b[1;32m----> 1\u001b[1;33m \u001b[0mtable\u001b[0m \u001b[1;33m=\u001b[0m \u001b[0mpd\u001b[0m\u001b[1;33m.\u001b[0m\u001b[0mDataFrame\u001b[0m\u001b[1;33m(\u001b[0m\u001b[1;33m[\u001b[0m\u001b[0mread_a_page\u001b[0m\u001b[1;33m(\u001b[0m\u001b[0mthis_link\u001b[0m\u001b[1;33m)\u001b[0m \u001b[1;32mfor\u001b[0m \u001b[0mthis_link\u001b[0m \u001b[1;32min\u001b[0m \u001b[0mbblinks_novids\u001b[0m\u001b[1;33m]\u001b[0m\u001b[1;33m)\u001b[0m\u001b[1;33m\u001b[0m\u001b[0m\n\u001b[0m",
      "\u001b[1;32m<ipython-input-179-faa4b0dc88f1>\u001b[0m in \u001b[0;36m<listcomp>\u001b[1;34m(.0)\u001b[0m\n\u001b[1;32m----> 1\u001b[1;33m \u001b[0mtable\u001b[0m \u001b[1;33m=\u001b[0m \u001b[0mpd\u001b[0m\u001b[1;33m.\u001b[0m\u001b[0mDataFrame\u001b[0m\u001b[1;33m(\u001b[0m\u001b[1;33m[\u001b[0m\u001b[0mread_a_page\u001b[0m\u001b[1;33m(\u001b[0m\u001b[0mthis_link\u001b[0m\u001b[1;33m)\u001b[0m \u001b[1;32mfor\u001b[0m \u001b[0mthis_link\u001b[0m \u001b[1;32min\u001b[0m \u001b[0mbblinks_novids\u001b[0m\u001b[1;33m]\u001b[0m\u001b[1;33m)\u001b[0m\u001b[1;33m\u001b[0m\u001b[0m\n\u001b[0m",
      "\u001b[1;32m<ipython-input-178-6880702c1917>\u001b[0m in \u001b[0;36mread_a_page\u001b[1;34m(url)\u001b[0m\n\u001b[0;32m      1\u001b[0m \u001b[1;32mdef\u001b[0m \u001b[0mread_a_page\u001b[0m\u001b[1;33m(\u001b[0m\u001b[0murl\u001b[0m\u001b[1;33m)\u001b[0m\u001b[1;33m:\u001b[0m\u001b[1;33m\u001b[0m\u001b[0m\n\u001b[0;32m      2\u001b[0m     \u001b[1;31m# CONVERT PAGE\u001b[0m\u001b[1;33m\u001b[0m\u001b[1;33m\u001b[0m\u001b[0m\n\u001b[1;32m----> 3\u001b[1;33m     \u001b[0msoup\u001b[0m \u001b[1;33m=\u001b[0m \u001b[0mBeautifulSoup\u001b[0m\u001b[1;33m(\u001b[0m\u001b[1;33m(\u001b[0m\u001b[0mrequests\u001b[0m\u001b[1;33m.\u001b[0m\u001b[0mget\u001b[0m\u001b[1;33m(\u001b[0m\u001b[0murl\u001b[0m\u001b[1;33m)\u001b[0m\u001b[1;33m)\u001b[0m\u001b[1;33m.\u001b[0m\u001b[0mtext\u001b[0m\u001b[1;33m,\u001b[0m \u001b[1;34m\"html.parser\"\u001b[0m\u001b[1;33m)\u001b[0m\u001b[1;33m\u001b[0m\u001b[0m\n\u001b[0m\u001b[0;32m      4\u001b[0m \u001b[1;33m\u001b[0m\u001b[0m\n\u001b[0;32m      5\u001b[0m     \u001b[1;31m# RECIPE TITLE\u001b[0m\u001b[1;33m\u001b[0m\u001b[1;33m\u001b[0m\u001b[0m\n",
      "\u001b[1;32mD:\\Users\\ehze\\Anaconda3\\lib\\site-packages\\requests\\api.py\u001b[0m in \u001b[0;36mget\u001b[1;34m(url, params, **kwargs)\u001b[0m\n\u001b[0;32m     70\u001b[0m \u001b[1;33m\u001b[0m\u001b[0m\n\u001b[0;32m     71\u001b[0m     \u001b[0mkwargs\u001b[0m\u001b[1;33m.\u001b[0m\u001b[0msetdefault\u001b[0m\u001b[1;33m(\u001b[0m\u001b[1;34m'allow_redirects'\u001b[0m\u001b[1;33m,\u001b[0m \u001b[1;32mTrue\u001b[0m\u001b[1;33m)\u001b[0m\u001b[1;33m\u001b[0m\u001b[0m\n\u001b[1;32m---> 72\u001b[1;33m     \u001b[1;32mreturn\u001b[0m \u001b[0mrequest\u001b[0m\u001b[1;33m(\u001b[0m\u001b[1;34m'get'\u001b[0m\u001b[1;33m,\u001b[0m \u001b[0murl\u001b[0m\u001b[1;33m,\u001b[0m \u001b[0mparams\u001b[0m\u001b[1;33m=\u001b[0m\u001b[0mparams\u001b[0m\u001b[1;33m,\u001b[0m \u001b[1;33m**\u001b[0m\u001b[0mkwargs\u001b[0m\u001b[1;33m)\u001b[0m\u001b[1;33m\u001b[0m\u001b[0m\n\u001b[0m\u001b[0;32m     73\u001b[0m \u001b[1;33m\u001b[0m\u001b[0m\n\u001b[0;32m     74\u001b[0m \u001b[1;33m\u001b[0m\u001b[0m\n",
      "\u001b[1;32mD:\\Users\\ehze\\Anaconda3\\lib\\site-packages\\requests\\api.py\u001b[0m in \u001b[0;36mrequest\u001b[1;34m(method, url, **kwargs)\u001b[0m\n\u001b[0;32m     56\u001b[0m     \u001b[1;31m# cases, and look like a memory leak in others.\u001b[0m\u001b[1;33m\u001b[0m\u001b[1;33m\u001b[0m\u001b[0m\n\u001b[0;32m     57\u001b[0m     \u001b[1;32mwith\u001b[0m \u001b[0msessions\u001b[0m\u001b[1;33m.\u001b[0m\u001b[0mSession\u001b[0m\u001b[1;33m(\u001b[0m\u001b[1;33m)\u001b[0m \u001b[1;32mas\u001b[0m \u001b[0msession\u001b[0m\u001b[1;33m:\u001b[0m\u001b[1;33m\u001b[0m\u001b[0m\n\u001b[1;32m---> 58\u001b[1;33m         \u001b[1;32mreturn\u001b[0m \u001b[0msession\u001b[0m\u001b[1;33m.\u001b[0m\u001b[0mrequest\u001b[0m\u001b[1;33m(\u001b[0m\u001b[0mmethod\u001b[0m\u001b[1;33m=\u001b[0m\u001b[0mmethod\u001b[0m\u001b[1;33m,\u001b[0m \u001b[0murl\u001b[0m\u001b[1;33m=\u001b[0m\u001b[0murl\u001b[0m\u001b[1;33m,\u001b[0m \u001b[1;33m**\u001b[0m\u001b[0mkwargs\u001b[0m\u001b[1;33m)\u001b[0m\u001b[1;33m\u001b[0m\u001b[0m\n\u001b[0m\u001b[0;32m     59\u001b[0m \u001b[1;33m\u001b[0m\u001b[0m\n\u001b[0;32m     60\u001b[0m \u001b[1;33m\u001b[0m\u001b[0m\n",
      "\u001b[1;32mD:\\Users\\ehze\\Anaconda3\\lib\\site-packages\\requests\\sessions.py\u001b[0m in \u001b[0;36mrequest\u001b[1;34m(self, method, url, params, data, headers, cookies, files, auth, timeout, allow_redirects, proxies, hooks, stream, verify, cert, json)\u001b[0m\n\u001b[0;32m    516\u001b[0m         }\n\u001b[0;32m    517\u001b[0m         \u001b[0msend_kwargs\u001b[0m\u001b[1;33m.\u001b[0m\u001b[0mupdate\u001b[0m\u001b[1;33m(\u001b[0m\u001b[0msettings\u001b[0m\u001b[1;33m)\u001b[0m\u001b[1;33m\u001b[0m\u001b[0m\n\u001b[1;32m--> 518\u001b[1;33m         \u001b[0mresp\u001b[0m \u001b[1;33m=\u001b[0m \u001b[0mself\u001b[0m\u001b[1;33m.\u001b[0m\u001b[0msend\u001b[0m\u001b[1;33m(\u001b[0m\u001b[0mprep\u001b[0m\u001b[1;33m,\u001b[0m \u001b[1;33m**\u001b[0m\u001b[0msend_kwargs\u001b[0m\u001b[1;33m)\u001b[0m\u001b[1;33m\u001b[0m\u001b[0m\n\u001b[0m\u001b[0;32m    519\u001b[0m \u001b[1;33m\u001b[0m\u001b[0m\n\u001b[0;32m    520\u001b[0m         \u001b[1;32mreturn\u001b[0m \u001b[0mresp\u001b[0m\u001b[1;33m\u001b[0m\u001b[0m\n",
      "\u001b[1;32mD:\\Users\\ehze\\Anaconda3\\lib\\site-packages\\requests\\sessions.py\u001b[0m in \u001b[0;36msend\u001b[1;34m(self, request, **kwargs)\u001b[0m\n\u001b[0;32m    637\u001b[0m \u001b[1;33m\u001b[0m\u001b[0m\n\u001b[0;32m    638\u001b[0m         \u001b[1;31m# Send the request\u001b[0m\u001b[1;33m\u001b[0m\u001b[1;33m\u001b[0m\u001b[0m\n\u001b[1;32m--> 639\u001b[1;33m         \u001b[0mr\u001b[0m \u001b[1;33m=\u001b[0m \u001b[0madapter\u001b[0m\u001b[1;33m.\u001b[0m\u001b[0msend\u001b[0m\u001b[1;33m(\u001b[0m\u001b[0mrequest\u001b[0m\u001b[1;33m,\u001b[0m \u001b[1;33m**\u001b[0m\u001b[0mkwargs\u001b[0m\u001b[1;33m)\u001b[0m\u001b[1;33m\u001b[0m\u001b[0m\n\u001b[0m\u001b[0;32m    640\u001b[0m \u001b[1;33m\u001b[0m\u001b[0m\n\u001b[0;32m    641\u001b[0m         \u001b[1;31m# Total elapsed time of the request (approximately)\u001b[0m\u001b[1;33m\u001b[0m\u001b[1;33m\u001b[0m\u001b[0m\n",
      "\u001b[1;32mD:\\Users\\ehze\\Anaconda3\\lib\\site-packages\\requests\\adapters.py\u001b[0m in \u001b[0;36msend\u001b[1;34m(self, request, stream, timeout, verify, cert, proxies)\u001b[0m\n\u001b[0;32m    486\u001b[0m \u001b[1;33m\u001b[0m\u001b[0m\n\u001b[0;32m    487\u001b[0m         \u001b[1;32mexcept\u001b[0m \u001b[1;33m(\u001b[0m\u001b[0mProtocolError\u001b[0m\u001b[1;33m,\u001b[0m \u001b[0msocket\u001b[0m\u001b[1;33m.\u001b[0m\u001b[0merror\u001b[0m\u001b[1;33m)\u001b[0m \u001b[1;32mas\u001b[0m \u001b[0merr\u001b[0m\u001b[1;33m:\u001b[0m\u001b[1;33m\u001b[0m\u001b[0m\n\u001b[1;32m--> 488\u001b[1;33m             \u001b[1;32mraise\u001b[0m \u001b[0mConnectionError\u001b[0m\u001b[1;33m(\u001b[0m\u001b[0merr\u001b[0m\u001b[1;33m,\u001b[0m \u001b[0mrequest\u001b[0m\u001b[1;33m=\u001b[0m\u001b[0mrequest\u001b[0m\u001b[1;33m)\u001b[0m\u001b[1;33m\u001b[0m\u001b[0m\n\u001b[0m\u001b[0;32m    489\u001b[0m \u001b[1;33m\u001b[0m\u001b[0m\n\u001b[0;32m    490\u001b[0m         \u001b[1;32mexcept\u001b[0m \u001b[0mMaxRetryError\u001b[0m \u001b[1;32mas\u001b[0m \u001b[0me\u001b[0m\u001b[1;33m:\u001b[0m\u001b[1;33m\u001b[0m\u001b[0m\n",
      "\u001b[1;31mConnectionError\u001b[0m: ('Connection aborted.', ConnectionResetError(10054, 'An existing connection was forcibly closed by the remote host', None, 10054, None))"
     ]
    }
   ],
   "source": [
    "table = pd.DataFrame([read_a_page(this_link) for this_link in bblinks_novids])"
   ]
  },
  {
   "cell_type": "code",
   "execution_count": 162,
   "metadata": {},
   "outputs": [
    {
     "name": "stdout",
     "output_type": "stream",
     "text": [
      "0\n",
      "['Strawnana Bread', '4.41201734542847', '4.41', '182', ['4 eggs, lightly beaten', '2 cups white sugar', '1 1/2 cups strawberries, mashed', '1 cup mashed bananas', '1 tablespoon orange zest', '1 cup vegetable oil', '3 cups all-purpose flour', '1 teaspoon baking soda', '1 1/2 teaspoons ground cinnamon', '1/2 teaspoon salt', '1/4 teaspoon ground nutmeg', '1 cup chopped walnuts'], '258']\n",
      "1\n",
      "['4H Banana Bread', '4.67133522033691', '4.67', '881', ['2 cups all-purpose flour', '1/2 teaspoon baking soda', '1 cup white sugar', '1 egg', '5 tablespoons milk', '1 teaspoon baking powder', '1/2 teaspoon salt', '1/2 cup margarine', '1 cup mashed bananas', '1/2 cup chopped walnuts (optional)'], '265']\n",
      "2\n",
      "['Caramel Macchiato Banana Bread', '4.18181800842285', '4.18', '57', ['cooking spray', '2 cups all-purpose flour', '1 teaspoon baking soda', '1 teaspoon baking powder', '1/2 teaspoon ground cinnamon', '1/8 teaspoon salt', '2 large very ripe bananas', '1/2 cup caramel macchiato flavored liquid coffee creamer (such as International Delight®)', '1/2 cup vegetable oil', '2 eggs', '2/3 cup white sugar', '2 tablespoons instant coffee granules', '6 tablespoons unsalted butter', '6 tablespoons packed brown sugar', '1 teaspoon vanilla extract'], '334']\n",
      "3\n",
      "[\"Chef John's Banana Bread\", '4.69409275054932', '4.69', '380', ['cooking spray', '2 cups all-purpose flour', '1 teaspoon salt', '1 teaspoon baking powder', '1 teaspoon baking soda', '1/2 cup butter, softened', '3 ripe bananas, mashed', '1 cup white sugar', '2 large eggs', '1/4 teaspoon vanilla extract', '1 tablespoon milk', '1 cup chopped walnuts', '1/3 cup semisweet chocolate chips'], '334']\n",
      "4\n",
      "['Creamy Banana Bread', '4.6641001701355', '4.66', '869', ['1/2 cup margarine, softened', '1 (8 ounce) package cream cheese, softened', '1 1/4 cups white sugar', '2 eggs', '1 cup mashed bananas', '1 teaspoon vanilla extract', '2 1/4 cups all-purpose flour', '1 1/2 teaspoons baking powder', '1/2 teaspoon baking soda', '3/4 cup chopped pecans', '2 tablespoons brown sugar', '2 teaspoons ground cinnamon'], '289']\n",
      "5\n",
      "['Chocolate Banana Bread', '4.67378330230713', '4.67', '925', ['1 cup margarine, softened', '2 cups white sugar', '4 eggs', '6 bananas, mashed', '2 teaspoons vanilla extract', '3 cups all-purpose flour', '2 teaspoons baking soda', '1/4 cup unsweetened cocoa powder', '1 cup lite sour cream', '1 cup semisweet chocolate chips'], '278']\n",
      "6\n",
      "['Raspberry Banana Bread', '4.68292665481567', '4.68', '32', ['3/4 cup frozen unsweetened raspberries, thawed', '1 ripe banana', '1 1/2 cups all-purpose flour', '3/4 teaspoon ground cinnamon', '1/2 teaspoon baking soda', '1/4 teaspoon salt', '1/8 teaspoon ground nutmeg', '1 cup white sugar', '2 eggs', '1/2 cup vegetable oil', '1/2 teaspoon lemon extract'], '273']\n",
      "7\n",
      "[\"Grandma's Homemade Banana Bread\", '4.69541788101196', '4.70', '312', ['1 1/2 cups white sugar', '1/2 cup butter, softened', '3 bananas, mashed', '2 eggs', '2 cups all-purpose flour', '1/2 teaspoon baking soda', '1/3 cup sour milk', '1/4 teaspoon salt', '1 teaspoon vanilla extract'], '226']\n",
      "8\n",
      "['Banana-Zucchini Bread', '4.5186333656311', '4.52', '262', ['3 eggs', '3/4 cup vegetable oil', '2/3 cup packed brown sugar', '1 cup white sugar', '1 cup grated zucchini', '2 bananas, mashed', '2 teaspoons vanilla extract', '3 1/2 cups all-purpose flour', '1 tablespoon ground cinnamon', '1 1/2 teaspoons baking powder', '1 teaspoon baking soda', '1 teaspoon salt', '1/2 cup dried cranberries', '1/2 cup chopped walnuts'], '272']\n",
      "9\n",
      "http://allrecipes.com/video/4744/banana-chocolate-chip-bread/\n",
      "http://allrecipes.com/video/4744/banana-chocolate-chip-bread/\n",
      "http://allrecipes.com/video/4744/banana-chocolate-chip-bread/\n",
      "0\n",
      "10\n",
      "['Banana Crumb Muffins', '4.80353593826294', '4.80', '9640', ['1 1/2 cups all-purpose flour', '1 teaspoon baking soda', '1 teaspoon baking powder', '1/2 teaspoon salt', '3 bananas, mashed', '3/4 cup white sugar', '1 egg, lightly beaten', '1/3 cup butter, melted', '1/3 cup packed brown sugar', '2 tablespoons all-purpose flour', '1/8 teaspoon ground cinnamon', '1 tablespoon butter'], '263']\n",
      "11\n",
      "['Banana Banana Bread', '4.5715184211731', '4.57', '9822', ['2 cups all-purpose flour', '1 teaspoon baking soda', '1/4 teaspoon salt', '1/2 cup butter', '3/4 cup brown sugar', '2 eggs, beaten', '2 1/3 cups mashed overripe bananas'], '229']\n",
      "12\n",
      "[\"Janet's Rich Banana Bread\", '4.81557559967041', '4.82', '4651', ['1/2 cup butter, melted', '1 cup white sugar', '2 eggs', '1 teaspoon vanilla extract', '1 1/2 cups all-purpose flour', '1 teaspoon baking soda', '1/2 teaspoon salt', '1/2 cup sour cream', '1/2 cup chopped walnuts', '2 medium bananas, sliced'], '218']\n",
      "13\n",
      "['Banana Sour Cream Bread', '4.7706127166748', '4.77', '4071', ['1/4 cup white sugar', '1 teaspoon ground cinnamon', '3/4 cup butter', '3 cups white sugar', '3 eggs', '6 very ripe bananas, mashed', '1 (16 ounce) container sour cream', '2 teaspoons vanilla extract', '2 teaspoons ground cinnamon', '1/2 teaspoon salt', '3 teaspoons baking soda', '4 1/2 cups all-purpose flour', '1 cup chopped walnuts (optional)'], '263']\n",
      "14\n",
      "http://allrecipes.com/video/1065/extreme-banana-nut-bread/\n",
      "http://allrecipes.com/video/1065/extreme-banana-nut-bread/\n",
      "http://allrecipes.com/video/1065/extreme-banana-nut-bread/\n",
      "0\n",
      "15\n",
      "[\"Extreme Banana Nut Bread 'EBNB'\", '4.68828678131104', '4.69', '1761', ['2 cups all-purpose flour', '1 teaspoon salt', '2 teaspoons baking soda', '1 cup butter or margarine', '2 cups white sugar', '2 cups mashed overripe bananas', '4 eggs, beaten', '1 cup chopped walnuts'], '232']\n",
      "16\n",
      "['Best Ever Banana Bread', '4.73376989364624', '4.73', '1470', ['2 eggs, beaten', '1/3 cup buttermilk', '1/2 cup vegetable oil', '1 cup mashed bananas', '1 1/2 cups white sugar', '1 3/4 cups all-purpose flour', '1 teaspoon baking soda', '1/2 teaspoon salt', '1/2 cup chopped pecans (optional)'], '307']\n",
      "17\n",
      "['The Best Banana Bread', '4.55555534362793', '4.56', '1101', ['1/2 cup margarine, softened', '1 cup white sugar', '2 eggs', '1 1/2 cups mashed banana', '2 cups all-purpose flour', '1 teaspoon baking soda'], '196']\n",
      "18\n",
      "['Banana Bread', '4.69120121002197', '4.69', '929', ['1 1/2 cups all-purpose flour', '1 teaspoon baking soda', '1/2 teaspoon salt', '1 cup white sugar', '2 eggs, beaten', '1/4 cup butter, melted', '3 bananas, mashed'], '145']\n",
      "19\n",
      "http://allrecipes.com/video/673/banana-banana-bread/\n",
      "http://allrecipes.com/video/673/banana-banana-bread/\n",
      "http://allrecipes.com/video/673/banana-banana-bread/\n",
      "0\n",
      "20\n",
      "[\"Cathy's Banana Bread\", '4.73080253601074', '4.73', '978', ['1 cup mashed bananas', '1 cup sour cream', '1/4 cup margarine', '1 1/3 cups white sugar', '2 eggs', '1 teaspoon vanilla extract', '2 cups all-purpose flour', '1 teaspoon baking soda', '1 teaspoon baking powder', '1/4 teaspoon salt'], '200']\n",
      "21\n",
      "http://allrecipes.com/video/528/chef-johns-banana-bread/\n",
      "http://allrecipes.com/video/528/chef-johns-banana-bread/\n",
      "http://allrecipes.com/video/528/chef-johns-banana-bread/\n",
      "0\n",
      "22\n",
      "[\"Sarah's Banana Bread Muffins\", '4.62180995941162', '4.62', '738', ['1 cup white sugar', '1/2 cup vegetable oil', '1 egg', '3 ripe bananas, mashed', '1/4 cup chopped walnuts', '2 cups all-purpose flour', '1 teaspoon baking soda', '1/2 teaspoon salt'], '270']\n",
      "23\n",
      "['Almost No Fat Banana Bread', '4.41342735290527', '4.41', '687', ['1 1/2 cups all-purpose flour', '3/4 cup white sugar', '1 1/4 teaspoons baking powder', '1/2 teaspoon baking soda', '1/2 teaspoon ground cinnamon', '2 egg whites', '1 cup banana, mashed', '1/4 cup applesauce'], '127']\n",
      "24\n",
      "['Chocolate Chip Banana Bread II', '4.7973461151123', '4.80', '631', ['1 cup shortening', '2 cups white sugar', '2 eggs', '2 tablespoons mayonnaise', '6 very ripe bananas, mashed', '3 cups all-purpose flour', '1/2 teaspoon salt', '1 teaspoon baking powder', '2 teaspoons baking soda', '1 cup semi-sweet chocolate chips', '1/2 cup chopped walnuts'], '346']\n",
      "25\n",
      "['Easy Banana Bread', '4.71661710739136', '4.72', '561', ['5 very ripe bananas', '4 eggs', '1 cup shortening', '2 1/2 cups white sugar', '1 tablespoon vanilla extract', '3 1/2 cups all-purpose flour', '2 teaspoons baking soda', '1 teaspoon salt'], '258']\n",
      "26\n",
      "[\"Janine's Best Banana Bread\", '4.5810809135437', '4.58', '546', ['1/4 cup butter, softened', '1 cup white sugar', '1 egg', '3 ripe bananas, mashed', '2 cups all-purpose flour', '1 teaspoon baking soda', '1/2 teaspoon salt'], '248']\n",
      "27\n"
     ]
    },
    {
     "name": "stdout",
     "output_type": "stream",
     "text": [
      "['Whole Wheat Banana Nut Bread', '4.6054630279541', '4.61', '570', ['1/3 cup vegetable oil', '1/2 cup honey', '1 teaspoon vanilla extract', '2 eggs', '1 cup mashed bananas', '1 3/4 cups whole wheat flour', '1/2 teaspoon salt', '1 teaspoon baking soda', '1/4 cup hot water', '1/2 cup chopped walnuts'], '218']\n",
      "28\n",
      "['Lighter Banana Muffins', '4.28030300140381', '4.28', '468', ['2 eggs, beaten', '3 very ripe bananas, mashed', '2 cups all-purpose flour', '1 teaspoon salt', '3/4 cup white sugar', '1 teaspoon baking soda'], '195']\n",
      "29\n",
      "['Banana Chocolate Chip Bread', '4.75257730484009', '4.75', '388', ['2 cups all-purpose flour', '1 teaspoon baking powder', '1 teaspoon baking soda', '1 teaspoon salt', '3 ripe bananas, mashed', '1 tablespoon milk', '1 teaspoon ground cinnamon, or to taste', '1/2 cup butter, softened', '1 cup white sugar', '2 eggs', '1 cup semisweet chocolate chips'], '378']\n",
      "30\n",
      "[\"Chef John's Banana Bread\", '4.69409275054932', '4.69', '380', ['cooking spray', '2 cups all-purpose flour', '1 teaspoon salt', '1 teaspoon baking powder', '1 teaspoon baking soda', '1/2 cup butter, softened', '3 ripe bananas, mashed', '1 cup white sugar', '2 large eggs', '1/4 teaspoon vanilla extract', '1 tablespoon milk', '1 cup chopped walnuts', '1/3 cup semisweet chocolate chips'], '334']\n",
      "31\n",
      "['Lower Fat Banana Bread I', '4.67264556884766', '4.67', '377', ['2/3 cup white sugar', '1/4 cup margarine, softened', '2 eggs', '1 cup mashed bananas', '1/4 cup water', '1 2/3 cups all-purpose flour', '1 teaspoon baking soda', '1/2 teaspoon salt', '1/4 teaspoon baking powder'], '169']\n",
      "32\n",
      "[\"Joy's Easy Banana Bread\", '4.77403831481934', '4.77', '362', ['3 ripe bananas, mashed', '1 cup white sugar', '1 egg', '1/4 cup melted butter', '1 1/2 cups all-purpose flour', '1 teaspoon baking soda', '1 teaspoon salt'], '225']\n",
      "33\n",
      "['Brown Sugar Banana Nut Bread I', '4.56310701370239', '4.56', '347', ['1/2 cup butter, softened', '1 cup brown sugar', '2 eggs', '1 tablespoon vanilla extract', '4 very ripe bananas, mashed', '2 cups all-purpose flour', '3 teaspoons baking powder', '1/2 teaspoon salt', '1/2 cup chopped walnuts'], '273']\n",
      "34\n",
      "['Banana Pumpkin Bread', '4.33740854263306', '4.34', '348', ['2 ripe bananas, mashed', '2 eggs', '1/3 cup vegetable oil', '1 1/3 cups canned pumpkin puree', '1/2 cup honey', '1/2 cup white sugar', '2 1/2 cups all-purpose flour', '1 teaspoon baking powder', '1 teaspoon baking soda', '1/2 teaspoon salt', '2 teaspoons pumpkin pie spice', '1 teaspoon ground cinnamon', '3/4 cup raisins (optional)', '1/2 cup walnut pieces (optional)'], '328']\n",
      "35\n",
      "['Banana Bread - Quick Bread for Machines', '4.09375', '4.09', '326', ['2 cups all-purpose flour', '1 teaspoon baking powder', '1/2 teaspoon baking soda', '3/4 cup white sugar', '3 tablespoons vegetable oil', '2 eggs', '2 bananas, peeled and halved lengthwise'], '221']\n",
      "36\n",
      "['Banana Nut Bread I', '4.59791135787964', '4.60', '310', ['2 1/2 cups white sugar', '1 cup shortening', '3 eggs', '1 1/2 cups mashed bananas', '3 cups all-purpose flour', '1 1/4 cups buttermilk', '1 1/2 teaspoons baking soda', '1 1/2 teaspoons baking powder', '1 teaspoon vanilla extract', '1/2 cup chopped walnuts'], '256']\n",
      "37\n",
      "['Hawaiian Banana Nut Bread', '4.70976257324219', '4.71', '337', ['3 cups all-purpose flour', '3/4 teaspoon salt', '1 teaspoon baking soda', '2 cups white sugar', '1 teaspoon ground cinnamon', '1 cup chopped walnuts', '3 eggs, beaten', '1 cup vegetable oil', '2 cups mashed very ripe banana', '1 (8 ounce) can crushed pineapple, drained', '2 teaspoons vanilla extract', '1 cup flaked coconut', '1 cup maraschino cherries, diced'], '234']\n",
      "38\n",
      "[\"Grandma's Homemade Banana Bread\", '4.69541788101196', '4.70', '312', ['1 1/2 cups white sugar', '1/2 cup butter, softened', '3 bananas, mashed', '2 eggs', '2 cups all-purpose flour', '1/2 teaspoon baking soda', '1/3 cup sour milk', '1/4 teaspoon salt', '1 teaspoon vanilla extract'], '226']\n",
      "39\n",
      "['Banana Peanut Butter Bread', '4.14246559143066', '4.14', '295', ['1/2 cup butter, softened', '1 cup white sugar', '2 eggs', '1/2 cup peanut butter', '2 bananas, mashed', '2 cups all-purpose flour', '1 teaspoon baking soda', '1/2 cup chopped walnuts'], '266']\n",
      "40\n",
      "['Lower Fat Banana Bread II', '4.5747127532959', '4.57', '304', ['2 eggs', '2/3 cup white sugar', '2 very ripe bananas, mashed', '1/4 cup applesauce', '1/3 cup nonfat milk', '1 tablespoon vegetable oil', '1 tablespoon vanilla extract', '1 3/4 cups all-purpose flour', '2 teaspoons baking powder', '1/2 teaspoon baking soda', '1/2 teaspoon salt', '1/3 cup chopped walnuts'], '178']\n",
      "41\n",
      "['Favorite Banana Blueberry Quick Bread', '4.39285707473755', '4.39', '280', ['1/2 cup fresh blueberries', '1 5/8 cups all-purpose flour', '1/2 cup quick cooking oats', '1/2 cup chopped pecans', '1 teaspoon baking soda', '1/4 teaspoon salt', '1/2 cup shortening', '1 cup white sugar', '2 eggs', '1 cup mashed bananas'], '278']\n",
      "42\n",
      "['Banana Oatmeal Bread', '4.66467046737671', '4.66', '269', ['1/2 cup shortening', '1 cup white sugar', '2 eggs, beaten', '1/2 teaspoon vanilla extract', '1 cup all-purpose flour', '1 cup quick cooking oats', '1 teaspoon baking soda', '1/2 teaspoon salt', '1/4 cup milk', '1/2 teaspoon ground cinnamon', '1 1/2 cups mashed bananas', '1/2 cup chopped raisins (optional)'], '264']\n",
      "43\n",
      "['Rich and Delicious Banana Bread', '4.61746978759766', '4.62', '279', ['1/2 cup shortening', '1 cup white sugar', '1 1/2 cups all-purpose flour', '1 teaspoon baking soda', '1 teaspoon salt', '3 ripe bananas'], '268']\n",
      "44\n",
      "['Banana Bran Muffins', '4.70336389541626', '4.70', '272', ['1/2 cup butter, softened', '1/2 cup brown sugar', '3 bananas, mashed', '1/4 cup milk', '1 teaspoon vanilla extract', '2 eggs', '1 1/2 cups all-purpose flour', '1/2 cup wheat bran', '1 teaspoon baking powder', '1 teaspoon baking soda', '1/4 teaspoon salt', '1/2 cup chopped walnuts'], '239']\n",
      "45\n",
      "['Banana-Zucchini Bread', '4.5186333656311', '4.52', '262', ['3 eggs', '3/4 cup vegetable oil', '2/3 cup packed brown sugar', '1 cup white sugar', '1 cup grated zucchini', '2 bananas, mashed', '2 teaspoons vanilla extract', '3 1/2 cups all-purpose flour', '1 tablespoon ground cinnamon', '1 1/2 teaspoons baking powder', '1 teaspoon baking soda', '1 teaspoon salt', '1/2 cup dried cranberries', '1/2 cup chopped walnuts'], '272']\n",
      "46\n",
      "['Banana Coconut Loaf', '4.61589384078979', '4.62', '255', ['2 eggs', '1 cup white sugar', '1/2 cup butter, melted', '1 cup mashed bananas', '1/2 teaspoon almond extract', '1 1/2 cups all-purpose flour', '1/2 cup flaked coconut', '1 1/2 teaspoons baking powder', '1/2 teaspoon baking soda', '1/2 teaspoon salt', '1/2 cup chopped walnuts', '1/2 cup maraschino cherries, chopped'], '277']\n",
      "47\n"
     ]
    },
    {
     "ename": "KeyboardInterrupt",
     "evalue": "",
     "output_type": "error",
     "traceback": [
      "\u001b[1;31m---------------------------------------------------------------------------\u001b[0m",
      "\u001b[1;31mKeyboardInterrupt\u001b[0m                         Traceback (most recent call last)",
      "\u001b[1;32m<ipython-input-162-3a7df34d120d>\u001b[0m in \u001b[0;36m<module>\u001b[1;34m()\u001b[0m\n\u001b[0;32m      2\u001b[0m \u001b[1;32mfor\u001b[0m \u001b[0mthis_link\u001b[0m \u001b[1;32min\u001b[0m \u001b[0mbblinks\u001b[0m\u001b[1;33m:\u001b[0m\u001b[1;33m\u001b[0m\u001b[0m\n\u001b[0;32m      3\u001b[0m     \u001b[0mprint\u001b[0m\u001b[1;33m(\u001b[0m\u001b[0mi\u001b[0m\u001b[1;33m)\u001b[0m\u001b[1;33m\u001b[0m\u001b[0m\n\u001b[1;32m----> 4\u001b[1;33m     \u001b[0mprint\u001b[0m\u001b[1;33m(\u001b[0m\u001b[0mread_a_page\u001b[0m\u001b[1;33m(\u001b[0m\u001b[0mthis_link\u001b[0m\u001b[1;33m)\u001b[0m\u001b[1;33m)\u001b[0m\u001b[1;33m\u001b[0m\u001b[0m\n\u001b[0m\u001b[0;32m      5\u001b[0m     \u001b[0mi\u001b[0m \u001b[1;33m=\u001b[0m \u001b[0mi\u001b[0m \u001b[1;33m+\u001b[0m \u001b[1;36m1\u001b[0m\u001b[1;33m\u001b[0m\u001b[0m\n",
      "\u001b[1;32m<ipython-input-159-c14a9e943c13>\u001b[0m in \u001b[0;36mread_a_page\u001b[1;34m(url)\u001b[0m\n\u001b[0;32m      1\u001b[0m \u001b[1;32mdef\u001b[0m \u001b[0mread_a_page\u001b[0m\u001b[1;33m(\u001b[0m\u001b[0murl\u001b[0m\u001b[1;33m)\u001b[0m\u001b[1;33m:\u001b[0m\u001b[1;33m\u001b[0m\u001b[0m\n\u001b[0;32m      2\u001b[0m     \u001b[1;31m# CONVERT PAGE\u001b[0m\u001b[1;33m\u001b[0m\u001b[1;33m\u001b[0m\u001b[0m\n\u001b[1;32m----> 3\u001b[1;33m     \u001b[0msoup\u001b[0m \u001b[1;33m=\u001b[0m \u001b[0mBeautifulSoup\u001b[0m\u001b[1;33m(\u001b[0m\u001b[1;33m(\u001b[0m\u001b[0mrequests\u001b[0m\u001b[1;33m.\u001b[0m\u001b[0mget\u001b[0m\u001b[1;33m(\u001b[0m\u001b[0murl\u001b[0m\u001b[1;33m)\u001b[0m\u001b[1;33m)\u001b[0m\u001b[1;33m.\u001b[0m\u001b[0mtext\u001b[0m\u001b[1;33m,\u001b[0m \u001b[1;34m\"html.parser\"\u001b[0m\u001b[1;33m)\u001b[0m\u001b[1;33m\u001b[0m\u001b[0m\n\u001b[0m\u001b[0;32m      4\u001b[0m \u001b[1;33m\u001b[0m\u001b[0m\n\u001b[0;32m      5\u001b[0m     \u001b[1;31m# RECIPE TITLE\u001b[0m\u001b[1;33m\u001b[0m\u001b[1;33m\u001b[0m\u001b[0m\n",
      "\u001b[1;32mD:\\Users\\ehze\\Anaconda3\\lib\\site-packages\\requests\\api.py\u001b[0m in \u001b[0;36mget\u001b[1;34m(url, params, **kwargs)\u001b[0m\n\u001b[0;32m     70\u001b[0m \u001b[1;33m\u001b[0m\u001b[0m\n\u001b[0;32m     71\u001b[0m     \u001b[0mkwargs\u001b[0m\u001b[1;33m.\u001b[0m\u001b[0msetdefault\u001b[0m\u001b[1;33m(\u001b[0m\u001b[1;34m'allow_redirects'\u001b[0m\u001b[1;33m,\u001b[0m \u001b[1;32mTrue\u001b[0m\u001b[1;33m)\u001b[0m\u001b[1;33m\u001b[0m\u001b[0m\n\u001b[1;32m---> 72\u001b[1;33m     \u001b[1;32mreturn\u001b[0m \u001b[0mrequest\u001b[0m\u001b[1;33m(\u001b[0m\u001b[1;34m'get'\u001b[0m\u001b[1;33m,\u001b[0m \u001b[0murl\u001b[0m\u001b[1;33m,\u001b[0m \u001b[0mparams\u001b[0m\u001b[1;33m=\u001b[0m\u001b[0mparams\u001b[0m\u001b[1;33m,\u001b[0m \u001b[1;33m**\u001b[0m\u001b[0mkwargs\u001b[0m\u001b[1;33m)\u001b[0m\u001b[1;33m\u001b[0m\u001b[0m\n\u001b[0m\u001b[0;32m     73\u001b[0m \u001b[1;33m\u001b[0m\u001b[0m\n\u001b[0;32m     74\u001b[0m \u001b[1;33m\u001b[0m\u001b[0m\n",
      "\u001b[1;32mD:\\Users\\ehze\\Anaconda3\\lib\\site-packages\\requests\\api.py\u001b[0m in \u001b[0;36mrequest\u001b[1;34m(method, url, **kwargs)\u001b[0m\n\u001b[0;32m     56\u001b[0m     \u001b[1;31m# cases, and look like a memory leak in others.\u001b[0m\u001b[1;33m\u001b[0m\u001b[1;33m\u001b[0m\u001b[0m\n\u001b[0;32m     57\u001b[0m     \u001b[1;32mwith\u001b[0m \u001b[0msessions\u001b[0m\u001b[1;33m.\u001b[0m\u001b[0mSession\u001b[0m\u001b[1;33m(\u001b[0m\u001b[1;33m)\u001b[0m \u001b[1;32mas\u001b[0m \u001b[0msession\u001b[0m\u001b[1;33m:\u001b[0m\u001b[1;33m\u001b[0m\u001b[0m\n\u001b[1;32m---> 58\u001b[1;33m         \u001b[1;32mreturn\u001b[0m \u001b[0msession\u001b[0m\u001b[1;33m.\u001b[0m\u001b[0mrequest\u001b[0m\u001b[1;33m(\u001b[0m\u001b[0mmethod\u001b[0m\u001b[1;33m=\u001b[0m\u001b[0mmethod\u001b[0m\u001b[1;33m,\u001b[0m \u001b[0murl\u001b[0m\u001b[1;33m=\u001b[0m\u001b[0murl\u001b[0m\u001b[1;33m,\u001b[0m \u001b[1;33m**\u001b[0m\u001b[0mkwargs\u001b[0m\u001b[1;33m)\u001b[0m\u001b[1;33m\u001b[0m\u001b[0m\n\u001b[0m\u001b[0;32m     59\u001b[0m \u001b[1;33m\u001b[0m\u001b[0m\n\u001b[0;32m     60\u001b[0m \u001b[1;33m\u001b[0m\u001b[0m\n",
      "\u001b[1;32mD:\\Users\\ehze\\Anaconda3\\lib\\site-packages\\requests\\sessions.py\u001b[0m in \u001b[0;36mrequest\u001b[1;34m(self, method, url, params, data, headers, cookies, files, auth, timeout, allow_redirects, proxies, hooks, stream, verify, cert, json)\u001b[0m\n\u001b[0;32m    516\u001b[0m         }\n\u001b[0;32m    517\u001b[0m         \u001b[0msend_kwargs\u001b[0m\u001b[1;33m.\u001b[0m\u001b[0mupdate\u001b[0m\u001b[1;33m(\u001b[0m\u001b[0msettings\u001b[0m\u001b[1;33m)\u001b[0m\u001b[1;33m\u001b[0m\u001b[0m\n\u001b[1;32m--> 518\u001b[1;33m         \u001b[0mresp\u001b[0m \u001b[1;33m=\u001b[0m \u001b[0mself\u001b[0m\u001b[1;33m.\u001b[0m\u001b[0msend\u001b[0m\u001b[1;33m(\u001b[0m\u001b[0mprep\u001b[0m\u001b[1;33m,\u001b[0m \u001b[1;33m**\u001b[0m\u001b[0msend_kwargs\u001b[0m\u001b[1;33m)\u001b[0m\u001b[1;33m\u001b[0m\u001b[0m\n\u001b[0m\u001b[0;32m    519\u001b[0m \u001b[1;33m\u001b[0m\u001b[0m\n\u001b[0;32m    520\u001b[0m         \u001b[1;32mreturn\u001b[0m \u001b[0mresp\u001b[0m\u001b[1;33m\u001b[0m\u001b[0m\n",
      "\u001b[1;32mD:\\Users\\ehze\\Anaconda3\\lib\\site-packages\\requests\\sessions.py\u001b[0m in \u001b[0;36msend\u001b[1;34m(self, request, **kwargs)\u001b[0m\n\u001b[0;32m    670\u001b[0m \u001b[1;33m\u001b[0m\u001b[0m\n\u001b[0;32m    671\u001b[0m         \u001b[1;32mif\u001b[0m \u001b[1;32mnot\u001b[0m \u001b[0mstream\u001b[0m\u001b[1;33m:\u001b[0m\u001b[1;33m\u001b[0m\u001b[0m\n\u001b[1;32m--> 672\u001b[1;33m             \u001b[0mr\u001b[0m\u001b[1;33m.\u001b[0m\u001b[0mcontent\u001b[0m\u001b[1;33m\u001b[0m\u001b[0m\n\u001b[0m\u001b[0;32m    673\u001b[0m \u001b[1;33m\u001b[0m\u001b[0m\n\u001b[0;32m    674\u001b[0m         \u001b[1;32mreturn\u001b[0m \u001b[0mr\u001b[0m\u001b[1;33m\u001b[0m\u001b[0m\n",
      "\u001b[1;32mD:\\Users\\ehze\\Anaconda3\\lib\\site-packages\\requests\\models.py\u001b[0m in \u001b[0;36mcontent\u001b[1;34m(self)\u001b[0m\n\u001b[0;32m    814\u001b[0m                 \u001b[0mself\u001b[0m\u001b[1;33m.\u001b[0m\u001b[0m_content\u001b[0m \u001b[1;33m=\u001b[0m \u001b[1;32mNone\u001b[0m\u001b[1;33m\u001b[0m\u001b[0m\n\u001b[0;32m    815\u001b[0m             \u001b[1;32melse\u001b[0m\u001b[1;33m:\u001b[0m\u001b[1;33m\u001b[0m\u001b[0m\n\u001b[1;32m--> 816\u001b[1;33m                 \u001b[0mself\u001b[0m\u001b[1;33m.\u001b[0m\u001b[0m_content\u001b[0m \u001b[1;33m=\u001b[0m \u001b[0mbytes\u001b[0m\u001b[1;33m(\u001b[0m\u001b[1;33m)\u001b[0m\u001b[1;33m.\u001b[0m\u001b[0mjoin\u001b[0m\u001b[1;33m(\u001b[0m\u001b[0mself\u001b[0m\u001b[1;33m.\u001b[0m\u001b[0miter_content\u001b[0m\u001b[1;33m(\u001b[0m\u001b[0mCONTENT_CHUNK_SIZE\u001b[0m\u001b[1;33m)\u001b[0m\u001b[1;33m)\u001b[0m \u001b[1;32mor\u001b[0m \u001b[0mbytes\u001b[0m\u001b[1;33m(\u001b[0m\u001b[1;33m)\u001b[0m\u001b[1;33m\u001b[0m\u001b[0m\n\u001b[0m\u001b[0;32m    817\u001b[0m \u001b[1;33m\u001b[0m\u001b[0m\n\u001b[0;32m    818\u001b[0m         \u001b[0mself\u001b[0m\u001b[1;33m.\u001b[0m\u001b[0m_content_consumed\u001b[0m \u001b[1;33m=\u001b[0m \u001b[1;32mTrue\u001b[0m\u001b[1;33m\u001b[0m\u001b[0m\n",
      "\u001b[1;32mD:\\Users\\ehze\\Anaconda3\\lib\\site-packages\\requests\\models.py\u001b[0m in \u001b[0;36mgenerate\u001b[1;34m()\u001b[0m\n\u001b[0;32m    736\u001b[0m             \u001b[1;32mif\u001b[0m \u001b[0mhasattr\u001b[0m\u001b[1;33m(\u001b[0m\u001b[0mself\u001b[0m\u001b[1;33m.\u001b[0m\u001b[0mraw\u001b[0m\u001b[1;33m,\u001b[0m \u001b[1;34m'stream'\u001b[0m\u001b[1;33m)\u001b[0m\u001b[1;33m:\u001b[0m\u001b[1;33m\u001b[0m\u001b[0m\n\u001b[0;32m    737\u001b[0m                 \u001b[1;32mtry\u001b[0m\u001b[1;33m:\u001b[0m\u001b[1;33m\u001b[0m\u001b[0m\n\u001b[1;32m--> 738\u001b[1;33m                     \u001b[1;32mfor\u001b[0m \u001b[0mchunk\u001b[0m \u001b[1;32min\u001b[0m \u001b[0mself\u001b[0m\u001b[1;33m.\u001b[0m\u001b[0mraw\u001b[0m\u001b[1;33m.\u001b[0m\u001b[0mstream\u001b[0m\u001b[1;33m(\u001b[0m\u001b[0mchunk_size\u001b[0m\u001b[1;33m,\u001b[0m \u001b[0mdecode_content\u001b[0m\u001b[1;33m=\u001b[0m\u001b[1;32mTrue\u001b[0m\u001b[1;33m)\u001b[0m\u001b[1;33m:\u001b[0m\u001b[1;33m\u001b[0m\u001b[0m\n\u001b[0m\u001b[0;32m    739\u001b[0m                         \u001b[1;32myield\u001b[0m \u001b[0mchunk\u001b[0m\u001b[1;33m\u001b[0m\u001b[0m\n\u001b[0;32m    740\u001b[0m                 \u001b[1;32mexcept\u001b[0m \u001b[0mProtocolError\u001b[0m \u001b[1;32mas\u001b[0m \u001b[0me\u001b[0m\u001b[1;33m:\u001b[0m\u001b[1;33m\u001b[0m\u001b[0m\n",
      "\u001b[1;32mD:\\Users\\ehze\\Anaconda3\\lib\\site-packages\\requests\\packages\\urllib3\\response.py\u001b[0m in \u001b[0;36mstream\u001b[1;34m(self, amt, decode_content)\u001b[0m\n\u001b[0;32m    434\u001b[0m         \u001b[1;32melse\u001b[0m\u001b[1;33m:\u001b[0m\u001b[1;33m\u001b[0m\u001b[0m\n\u001b[0;32m    435\u001b[0m             \u001b[1;32mwhile\u001b[0m \u001b[1;32mnot\u001b[0m \u001b[0mis_fp_closed\u001b[0m\u001b[1;33m(\u001b[0m\u001b[0mself\u001b[0m\u001b[1;33m.\u001b[0m\u001b[0m_fp\u001b[0m\u001b[1;33m)\u001b[0m\u001b[1;33m:\u001b[0m\u001b[1;33m\u001b[0m\u001b[0m\n\u001b[1;32m--> 436\u001b[1;33m                 \u001b[0mdata\u001b[0m \u001b[1;33m=\u001b[0m \u001b[0mself\u001b[0m\u001b[1;33m.\u001b[0m\u001b[0mread\u001b[0m\u001b[1;33m(\u001b[0m\u001b[0mamt\u001b[0m\u001b[1;33m=\u001b[0m\u001b[0mamt\u001b[0m\u001b[1;33m,\u001b[0m \u001b[0mdecode_content\u001b[0m\u001b[1;33m=\u001b[0m\u001b[0mdecode_content\u001b[0m\u001b[1;33m)\u001b[0m\u001b[1;33m\u001b[0m\u001b[0m\n\u001b[0m\u001b[0;32m    437\u001b[0m \u001b[1;33m\u001b[0m\u001b[0m\n\u001b[0;32m    438\u001b[0m                 \u001b[1;32mif\u001b[0m \u001b[0mdata\u001b[0m\u001b[1;33m:\u001b[0m\u001b[1;33m\u001b[0m\u001b[0m\n",
      "\u001b[1;32mD:\\Users\\ehze\\Anaconda3\\lib\\site-packages\\requests\\packages\\urllib3\\response.py\u001b[0m in \u001b[0;36mread\u001b[1;34m(self, amt, decode_content, cache_content)\u001b[0m\n\u001b[0;32m    382\u001b[0m             \u001b[1;32melse\u001b[0m\u001b[1;33m:\u001b[0m\u001b[1;33m\u001b[0m\u001b[0m\n\u001b[0;32m    383\u001b[0m                 \u001b[0mcache_content\u001b[0m \u001b[1;33m=\u001b[0m \u001b[1;32mFalse\u001b[0m\u001b[1;33m\u001b[0m\u001b[0m\n\u001b[1;32m--> 384\u001b[1;33m                 \u001b[0mdata\u001b[0m \u001b[1;33m=\u001b[0m \u001b[0mself\u001b[0m\u001b[1;33m.\u001b[0m\u001b[0m_fp\u001b[0m\u001b[1;33m.\u001b[0m\u001b[0mread\u001b[0m\u001b[1;33m(\u001b[0m\u001b[0mamt\u001b[0m\u001b[1;33m)\u001b[0m\u001b[1;33m\u001b[0m\u001b[0m\n\u001b[0m\u001b[0;32m    385\u001b[0m                 \u001b[1;32mif\u001b[0m \u001b[0mamt\u001b[0m \u001b[1;33m!=\u001b[0m \u001b[1;36m0\u001b[0m \u001b[1;32mand\u001b[0m \u001b[1;32mnot\u001b[0m \u001b[0mdata\u001b[0m\u001b[1;33m:\u001b[0m  \u001b[1;31m# Platform-specific: Buggy versions of Python.\u001b[0m\u001b[1;33m\u001b[0m\u001b[0m\n\u001b[0;32m    386\u001b[0m                     \u001b[1;31m# Close the connection when no data is returned\u001b[0m\u001b[1;33m\u001b[0m\u001b[1;33m\u001b[0m\u001b[0m\n",
      "\u001b[1;32mD:\\Users\\ehze\\Anaconda3\\lib\\http\\client.py\u001b[0m in \u001b[0;36mread\u001b[1;34m(self, amt)\u001b[0m\n\u001b[0;32m    447\u001b[0m             \u001b[1;31m# Amount is given, implement using readinto\u001b[0m\u001b[1;33m\u001b[0m\u001b[1;33m\u001b[0m\u001b[0m\n\u001b[0;32m    448\u001b[0m             \u001b[0mb\u001b[0m \u001b[1;33m=\u001b[0m \u001b[0mbytearray\u001b[0m\u001b[1;33m(\u001b[0m\u001b[0mamt\u001b[0m\u001b[1;33m)\u001b[0m\u001b[1;33m\u001b[0m\u001b[0m\n\u001b[1;32m--> 449\u001b[1;33m             \u001b[0mn\u001b[0m \u001b[1;33m=\u001b[0m \u001b[0mself\u001b[0m\u001b[1;33m.\u001b[0m\u001b[0mreadinto\u001b[0m\u001b[1;33m(\u001b[0m\u001b[0mb\u001b[0m\u001b[1;33m)\u001b[0m\u001b[1;33m\u001b[0m\u001b[0m\n\u001b[0m\u001b[0;32m    450\u001b[0m             \u001b[1;32mreturn\u001b[0m \u001b[0mmemoryview\u001b[0m\u001b[1;33m(\u001b[0m\u001b[0mb\u001b[0m\u001b[1;33m)\u001b[0m\u001b[1;33m[\u001b[0m\u001b[1;33m:\u001b[0m\u001b[0mn\u001b[0m\u001b[1;33m]\u001b[0m\u001b[1;33m.\u001b[0m\u001b[0mtobytes\u001b[0m\u001b[1;33m(\u001b[0m\u001b[1;33m)\u001b[0m\u001b[1;33m\u001b[0m\u001b[0m\n\u001b[0;32m    451\u001b[0m         \u001b[1;32melse\u001b[0m\u001b[1;33m:\u001b[0m\u001b[1;33m\u001b[0m\u001b[0m\n",
      "\u001b[1;32mD:\\Users\\ehze\\Anaconda3\\lib\\http\\client.py\u001b[0m in \u001b[0;36mreadinto\u001b[1;34m(self, b)\u001b[0m\n\u001b[0;32m    491\u001b[0m         \u001b[1;31m# connection, and the user is reading more bytes than will be provided\u001b[0m\u001b[1;33m\u001b[0m\u001b[1;33m\u001b[0m\u001b[0m\n\u001b[0;32m    492\u001b[0m         \u001b[1;31m# (for example, reading in 1k chunks)\u001b[0m\u001b[1;33m\u001b[0m\u001b[1;33m\u001b[0m\u001b[0m\n\u001b[1;32m--> 493\u001b[1;33m         \u001b[0mn\u001b[0m \u001b[1;33m=\u001b[0m \u001b[0mself\u001b[0m\u001b[1;33m.\u001b[0m\u001b[0mfp\u001b[0m\u001b[1;33m.\u001b[0m\u001b[0mreadinto\u001b[0m\u001b[1;33m(\u001b[0m\u001b[0mb\u001b[0m\u001b[1;33m)\u001b[0m\u001b[1;33m\u001b[0m\u001b[0m\n\u001b[0m\u001b[0;32m    494\u001b[0m         \u001b[1;32mif\u001b[0m \u001b[1;32mnot\u001b[0m \u001b[0mn\u001b[0m \u001b[1;32mand\u001b[0m \u001b[0mb\u001b[0m\u001b[1;33m:\u001b[0m\u001b[1;33m\u001b[0m\u001b[0m\n\u001b[0;32m    495\u001b[0m             \u001b[1;31m# Ideally, we would raise IncompleteRead if the content-length\u001b[0m\u001b[1;33m\u001b[0m\u001b[1;33m\u001b[0m\u001b[0m\n",
      "\u001b[1;32mD:\\Users\\ehze\\Anaconda3\\lib\\socket.py\u001b[0m in \u001b[0;36mreadinto\u001b[1;34m(self, b)\u001b[0m\n\u001b[0;32m    584\u001b[0m         \u001b[1;32mwhile\u001b[0m \u001b[1;32mTrue\u001b[0m\u001b[1;33m:\u001b[0m\u001b[1;33m\u001b[0m\u001b[0m\n\u001b[0;32m    585\u001b[0m             \u001b[1;32mtry\u001b[0m\u001b[1;33m:\u001b[0m\u001b[1;33m\u001b[0m\u001b[0m\n\u001b[1;32m--> 586\u001b[1;33m                 \u001b[1;32mreturn\u001b[0m \u001b[0mself\u001b[0m\u001b[1;33m.\u001b[0m\u001b[0m_sock\u001b[0m\u001b[1;33m.\u001b[0m\u001b[0mrecv_into\u001b[0m\u001b[1;33m(\u001b[0m\u001b[0mb\u001b[0m\u001b[1;33m)\u001b[0m\u001b[1;33m\u001b[0m\u001b[0m\n\u001b[0m\u001b[0;32m    587\u001b[0m             \u001b[1;32mexcept\u001b[0m \u001b[0mtimeout\u001b[0m\u001b[1;33m:\u001b[0m\u001b[1;33m\u001b[0m\u001b[0m\n\u001b[0;32m    588\u001b[0m                 \u001b[0mself\u001b[0m\u001b[1;33m.\u001b[0m\u001b[0m_timeout_occurred\u001b[0m \u001b[1;33m=\u001b[0m \u001b[1;32mTrue\u001b[0m\u001b[1;33m\u001b[0m\u001b[0m\n",
      "\u001b[1;31mKeyboardInterrupt\u001b[0m: "
     ]
    }
   ],
   "source": [
    "i = 0\n",
    "for this_link in bblinks:\n",
    "    print(i)\n",
    "    print(read_a_page(this_link))\n",
    "    i = i + 1"
   ]
  },
  {
   "cell_type": "code",
   "execution_count": 177,
   "metadata": {},
   "outputs": [
    {
     "data": {
      "text/plain": [
       "['http://allrecipes.com/recipe/7158/strawnana-bread/',\n",
       " 'http://allrecipes.com/recipe/6765/4h-banana-bread/',\n",
       " 'http://allrecipes.com/recipe/218541/caramel-macchiato-banana-bread/',\n",
       " 'http://allrecipes.com/recipe/219967/chef-johns-banana-bread/',\n",
       " 'http://allrecipes.com/recipe/7154/creamy-banana-bread/',\n",
       " 'http://allrecipes.com/recipe/17252/chocolate-banana-bread/',\n",
       " 'http://allrecipes.com/recipe/228442/raspberry-banana-bread/',\n",
       " 'http://allrecipes.com/recipe/16999/grandmas-homemade-banana-bread/',\n",
       " 'http://allrecipes.com/recipe/141933/banana-zucchini-bread/',\n",
       " 'http://allrecipes.com/recipe/17652/banana-crumb-muffins/',\n",
       " 'http://allrecipes.com/recipe/20144/banana-banana-bread/',\n",
       " 'http://allrecipes.com/recipe/17066/janets-rich-banana-bread/',\n",
       " 'http://allrecipes.com/recipe/6984/banana-sour-cream-bread/',\n",
       " 'http://allrecipes.com/recipe/67937/extreme-banana-nut-bread-ebnb/',\n",
       " 'http://allrecipes.com/recipe/15747/best-ever-banana-bread/',\n",
       " 'http://allrecipes.com/recipe/16952/the-best-banana-bread/',\n",
       " 'http://allrecipes.com/recipe/6687/banana-bread/',\n",
       " 'http://allrecipes.com/recipe/6993/cathys-banana-bread/',\n",
       " 'http://allrecipes.com/recipe/6990/sarahs-banana-bread-muffins/',\n",
       " 'http://allrecipes.com/recipe/23426/almost-no-fat-banana-bread/',\n",
       " 'http://allrecipes.com/recipe/20153/chocolate-chip-banana-bread-ii/',\n",
       " 'http://allrecipes.com/recipe/6713/easy-banana-bread/',\n",
       " 'http://allrecipes.com/recipe/17754/janines-best-banana-bread/',\n",
       " 'http://allrecipes.com/recipe/7155/whole-wheat-banana-nut-bread/',\n",
       " 'http://allrecipes.com/recipe/18015/lighter-banana-muffins/',\n",
       " 'http://allrecipes.com/recipe/230482/banana-chocolate-chip-bread/',\n",
       " 'http://allrecipes.com/recipe/219967/chef-johns-banana-bread/',\n",
       " 'http://allrecipes.com/recipe/6754/lower-fat-banana-bread-i/',\n",
       " 'http://allrecipes.com/recipe/241707/joys-easy-banana-bread/',\n",
       " 'http://allrecipes.com/recipe/22722/brown-sugar-banana-nut-bread-i/',\n",
       " 'http://allrecipes.com/recipe/16706/banana-pumpkin-bread/',\n",
       " 'http://allrecipes.com/recipe/7116/banana-bread---quick-bread-for-machines/',\n",
       " 'http://allrecipes.com/recipe/6777/banana-nut-bread-i/',\n",
       " 'http://allrecipes.com/recipe/17050/hawaiian-banana-nut-bread/',\n",
       " 'http://allrecipes.com/recipe/16999/grandmas-homemade-banana-bread/',\n",
       " 'http://allrecipes.com/recipe/17013/banana-peanut-butter-bread/',\n",
       " 'http://allrecipes.com/recipe/24930/lower-fat-banana-bread-ii/',\n",
       " 'http://allrecipes.com/recipe/7163/favorite-banana-blueberry-quick-bread/',\n",
       " 'http://allrecipes.com/recipe/15746/banana-oatmeal-bread/',\n",
       " 'http://allrecipes.com/recipe/17656/rich-and-delicious-banana-bread/',\n",
       " 'http://allrecipes.com/recipe/16666/banana-bran-muffins/',\n",
       " 'http://allrecipes.com/recipe/141933/banana-zucchini-bread/',\n",
       " 'http://allrecipes.com/recipe/6894/banana-coconut-loaf/',\n",
       " 'http://allrecipes.com/recipe/24575/oatmeal-banana-nut-bread/',\n",
       " 'http://allrecipes.com/recipe/7141/banana-nut-bread-ii/',\n",
       " 'http://allrecipes.com/recipe/6690/mothers-banana-bread/',\n",
       " 'http://allrecipes.com/recipe/7024/banana-nut-bread-baked-in-a-jar/',\n",
       " 'http://allrecipes.com/recipe/22967/nannas-banana-bread/',\n",
       " 'http://allrecipes.com/recipe/7158/strawnana-bread/',\n",
       " 'http://allrecipes.com/recipe/9460/banana-nut-bread-iii/',\n",
       " 'http://allrecipes.com/recipe/6686/banana-wheat-bread/',\n",
       " 'http://allrecipes.com/recipe/229021/blueberry-banana-bread/',\n",
       " 'http://allrecipes.com/recipe/20739/banana-loaf/',\n",
       " 'http://allrecipes.com/recipe/20164/grannys-banana-bread/',\n",
       " 'http://allrecipes.com/recipe/23645/sweet-banana-bread/',\n",
       " 'http://allrecipes.com/recipe/6921/quick-banana-bread/',\n",
       " 'http://allrecipes.com/recipe/164205/spiced-banana-bread/',\n",
       " 'http://allrecipes.com/recipe/93289/whole-grain-healthy-banana-bread/',\n",
       " 'http://allrecipes.com/recipe/23082/janets-famous-banana-nut-bread/',\n",
       " 'http://allrecipes.com/recipe/217065/gluten-free-banana-bread/',\n",
       " 'http://allrecipes.com/recipe/20152/chocolate-chip-banana-bread-i/',\n",
       " 'http://allrecipes.com/recipe/41679/banana-cranberry-bread/',\n",
       " 'http://allrecipes.com/recipe/36772/maple-banana-bread/',\n",
       " 'http://allrecipes.com/recipe/7223/banana-chocolate-chip-muffins/',\n",
       " 'http://allrecipes.com/recipe/229353/sour-cream-banana-bread/',\n",
       " 'http://allrecipes.com/recipe/7069/special-banana-bread/',\n",
       " 'http://allrecipes.com/recipe/21619/banana-date-flaxseed-bread/',\n",
       " 'http://allrecipes.com/recipe/222082/healthier-banana-banana-bread/',\n",
       " 'http://allrecipes.com/recipe/23810/grandmas-banana-bread/',\n",
       " 'http://allrecipes.com/recipe/7175/banana-chai-bread/',\n",
       " 'http://allrecipes.com/recipe/6757/simple-banana-bread/',\n",
       " 'http://allrecipes.com/recipe/220941/peanut-butter-chocolate-chip-banana-bread/',\n",
       " 'http://allrecipes.com/recipe/18503/country-banana-bread/',\n",
       " 'http://allrecipes.com/recipe/52536/whole-grain-banana-muffins/',\n",
       " 'http://allrecipes.com/recipe/218541/caramel-macchiato-banana-bread/',\n",
       " 'http://allrecipes.com/recipe/202895/whole-wheat-chocolate-banana-bread/',\n",
       " 'http://allrecipes.com/recipe/104999/we-be-jammin-jamaican-banana-bread/',\n",
       " 'http://allrecipes.com/recipe/219816/family-banana-nut-bread-recipe/',\n",
       " 'http://allrecipes.com/recipe/242314/browned-butter-banana-bread/',\n",
       " 'http://allrecipes.com/recipe/198829/bananas-foster-monkey-bread/',\n",
       " 'http://allrecipes.com/recipe/214581/brown-sugar-banana-bread/',\n",
       " 'http://allrecipes.com/recipe/228684/paleo-banana-bread/',\n",
       " 'http://allrecipes.com/recipe/22470/really-rich-banana-bread/',\n",
       " 'http://allrecipes.com/recipe/211180/bangin-banana-bread/',\n",
       " 'http://allrecipes.com/recipe/17281/molasses-banana-bread/',\n",
       " 'http://allrecipes.com/recipe/7200/banana-nut-and-ginger-bread/',\n",
       " 'http://allrecipes.com/recipe/6830/whole-wheat-banana-strawberry-loaf/',\n",
       " 'http://allrecipes.com/recipe/218978/banana-apple-bread/',\n",
       " 'http://allrecipes.com/recipe/213007/banana-butterscotch-bread/',\n",
       " 'http://allrecipes.com/recipe/41682/napoleons-banana-muffin/',\n",
       " 'http://allrecipes.com/recipe/20196/banana-walnut-cornbread/',\n",
       " 'http://allrecipes.com/recipe/216436/low-fat-banana-bread/',\n",
       " 'http://allrecipes.com/recipe/228442/raspberry-banana-bread/',\n",
       " 'http://allrecipes.com/recipe/231183/quick-banana-nut-bread/',\n",
       " 'http://allrecipes.com/recipe/239725/banana-zucchini-bread-muffins/',\n",
       " 'http://allrecipes.com/recipe/15426/cranapana-bread/',\n",
       " 'http://allrecipes.com/recipe/142527/amish-friendship-banana-nut-bread/',\n",
       " 'http://allrecipes.com/recipe/216774/angies-to-die-for-banana-bread/',\n",
       " 'http://allrecipes.com/recipe/16705/banana-maple-nut-bread/',\n",
       " 'http://allrecipes.com/recipe/24519/brown-sugar-banana-nut-bread-ii/',\n",
       " 'http://allrecipes.com/recipe/23008/delicious-raisin-nut-banana-bread/',\n",
       " 'http://allrecipes.com/recipe/216540/cranberry-banana-oat-bread/',\n",
       " 'http://allrecipes.com/recipe/218585/mommys-banana-bread/',\n",
       " 'http://allrecipes.com/recipe/147988/banana-bran-zucchini-bread/',\n",
       " 'http://allrecipes.com/recipe/215623/bobras-banana-bread/',\n",
       " 'http://allrecipes.com/recipe/17601/the-greatest-banana-bread/',\n",
       " 'http://allrecipes.com/recipe/24931/nutty-banana-bread/',\n",
       " 'http://allrecipes.com/recipe/17403/strawnana-smoothie-bread/',\n",
       " 'http://allrecipes.com/recipe/212769/cranberry-pumpkin-banana-bread/',\n",
       " 'http://allrecipes.com/recipe/7242/cardamom-banana-bread/',\n",
       " 'http://allrecipes.com/recipe/214760/roasted-pecan-banana-bread-loaves/',\n",
       " 'http://allrecipes.com/recipe/166496/ozs-banana-nut-and-raisin-bread-for-abm/',\n",
       " 'http://allrecipes.com/recipe/6775/mrs-kurtzs-banana-bread/',\n",
       " 'http://allrecipes.com/recipe/236474/salted-caramel-banana-bread/',\n",
       " 'http://allrecipes.com/recipe/6747/lower-fat-banana-nut-bread/',\n",
       " 'http://allrecipes.com/recipe/135490/banana-bread-with-oat-streusel-topping/',\n",
       " 'http://allrecipes.com/recipe/232380/simple-peanut-butter-banana-bread/',\n",
       " 'http://allrecipes.com/recipe/239246/banana-walnut-bread/',\n",
       " 'http://allrecipes.com/recipe/235521/grain-free-banana-bread/',\n",
       " 'http://allrecipes.com/recipe/143084/simply-delicious-banana-crumb-bread/',\n",
       " 'http://allrecipes.com/recipe/6712/brazilian-banana-bread/',\n",
       " 'http://allrecipes.com/recipe/237470/ginger-banana-bread/',\n",
       " 'http://allrecipes.com/recipe/7090/banana-macadamia-nut-bread/',\n",
       " 'http://allrecipes.com/recipe/234521/paleo-chocolate-and-cinnamon-banana-bread/',\n",
       " 'http://allrecipes.com/recipe/222147/healthier-banana-sour-cream-bread/',\n",
       " 'http://allrecipes.com/recipe/231961/double-banana-nut-bread/',\n",
       " 'http://allrecipes.com/recipe/74845/moist-banana-raisin-bread/',\n",
       " 'http://allrecipes.com/recipe/154339/fig-and-banana-loaf/',\n",
       " 'http://allrecipes.com/recipe/223066/blueberry-banana-nut-bread/',\n",
       " 'http://allrecipes.com/recipe/239454/banana-bread-from-motts/',\n",
       " 'http://allrecipes.com/recipe/21435/oatmeal-banana-cinnamon-bread/',\n",
       " 'http://allrecipes.com/recipe/215139/banana-plum-bread/',\n",
       " 'http://allrecipes.com/recipe/7035/basic-fruit-bread-recipe/',\n",
       " 'http://allrecipes.com/recipe/20662/delicious-raisin-nut-banana-bread/',\n",
       " 'http://allrecipes.com/recipe/219814/dads-banana-nut-bread/',\n",
       " 'http://allrecipes.com/recipe/240750/moms-carrot-banana-bread/',\n",
       " 'http://allrecipes.com/recipe/247087/honey-spice-whole-wheat-banana-bread/',\n",
       " 'http://allrecipes.com/recipe/219815/quick-mix-banana-nut-bread/',\n",
       " 'http://allrecipes.com/recipe/216466/breakfast-banana-cake/',\n",
       " 'http://allrecipes.com/recipe/218721/bates-banana-bread/',\n",
       " 'http://allrecipes.com/recipe/229003/banana-peach-bread/',\n",
       " 'http://allrecipes.com/recipe/241552/buttermilk-banana-bread/',\n",
       " 'http://allrecipes.com/recipe/236593/gluten-free-moist-choc-chip-banana-bread/',\n",
       " 'http://allrecipes.com/recipe/233752/banana-strawberry-oat-bread/',\n",
       " 'http://allrecipes.com/recipe/7094/banana-nut-oatmeal-bread/',\n",
       " 'http://allrecipes.com/recipe/235224/cherry-pineapple-banana-bread/',\n",
       " 'http://allrecipes.com/recipe/236059/favorite-banana-bread/',\n",
       " 'http://allrecipes.com/recipe/231284/whiskey-and-bacon-banana-bread/',\n",
       " 'http://allrecipes.com/recipe/204768/blueberry-upside-down-banana-nut-bread/',\n",
       " 'http://allrecipes.com/recipe/214582/my-aunts-banana-bread/',\n",
       " 'http://allrecipes.com/recipe/223067/best-hawaiian-banana-nut-bread/',\n",
       " 'http://allrecipes.com/recipe/242330/paleo-sunflower-banana-bread/',\n",
       " 'http://allrecipes.com/recipe/230483/nutty-banana-chocolate-chip-bread/',\n",
       " 'http://allrecipes.com/recipe/232379/whole-wheat-peanut-butter-banana-bread/',\n",
       " 'http://allrecipes.com/recipe/231317/bitter-chocolate-lavender-and-banana-tea-loaf/',\n",
       " 'http://allrecipes.com/recipe/228138/powerhouse-banana-bread/',\n",
       " 'http://allrecipes.com/recipe/219863/melted-banana-bread/',\n",
       " 'http://allrecipes.com/recipe/142736/microwave-tofu-banana-bread/',\n",
       " 'http://allrecipes.com/recipe/242243/vegan-banana-bread/',\n",
       " 'http://allrecipes.com/recipe/238514/gluten-free-banana-bread/',\n",
       " 'http://allrecipes.com/recipe/247088/whole-wheat-banana-bread-with-flaxseed-and-oats/',\n",
       " 'http://allrecipes.com/recipe/256401/cream-cheese-banana-bread/',\n",
       " 'http://allrecipes.com/recipe/256564/gluten-free-banana-bread-made-easy/',\n",
       " 'http://allrecipes.com/recipe/247086/very-banana-y-whole-wheat-banana-bread/',\n",
       " 'http://allrecipes.com/recipe/231864/sugar-free-banana-bread/',\n",
       " 'http://allrecipes.com/recipe/257629/papaya-bread-with-a-twist/',\n",
       " 'http://allrecipes.com/recipe/257670/black-sesame-and-walnut-banana-bread/',\n",
       " 'http://allrecipes.com/recipe/257243/the-best-moist-lotus-cookie-butter-banana-bread-recipe-ever/',\n",
       " 'http://allrecipes.com/recipe/257403/delicious-whole-grain-banana-bread/',\n",
       " 'http://allrecipes.com/recipe/238561/organic-banana-bread/',\n",
       " 'http://allrecipes.com/recipe/238961/sweet-and-tangy-sour-cream-banana-bread/',\n",
       " 'http://allrecipes.com/recipe/245434/banana-walnut-flax-seed-bread/',\n",
       " 'http://allrecipes.com/recipe/240448/sweet-potato-banana-bread/',\n",
       " 'http://allrecipes.com/recipe/257433/best-banana-yogurt-bread/',\n",
       " 'http://allrecipes.com/recipe/257605/gluten-free-banana-giraffe-bread/',\n",
       " 'http://allrecipes.com/recipe/256693/dark-chocolate-marbled-banana-bread-with-greek-yogurt/',\n",
       " 'http://allrecipes.com/recipe/259018/double-chocolate-banana-monkey-bread/']"
      ]
     },
     "execution_count": 177,
     "metadata": {},
     "output_type": "execute_result"
    }
   ],
   "source": [
    "bblinks_novids"
   ]
  },
  {
   "cell_type": "code",
   "execution_count": 183,
   "metadata": {},
   "outputs": [
    {
     "ename": "NameError",
     "evalue": "name 'table' is not defined",
     "output_type": "error",
     "traceback": [
      "\u001b[1;31m---------------------------------------------------------------------------\u001b[0m",
      "\u001b[1;31mNameError\u001b[0m                                 Traceback (most recent call last)",
      "\u001b[1;32m<ipython-input-183-8afb93df9265>\u001b[0m in \u001b[0;36m<module>\u001b[1;34m()\u001b[0m\n\u001b[1;32m----> 1\u001b[1;33m \u001b[0mtable\u001b[0m\u001b[1;33m\u001b[0m\u001b[0m\n\u001b[0m",
      "\u001b[1;31mNameError\u001b[0m: name 'table' is not defined"
     ]
    }
   ],
   "source": [
    "table"
   ]
  },
  {
   "cell_type": "markdown",
   "metadata": {},
   "source": [
    "I got kicked off at home."
   ]
  }
 ],
 "metadata": {
  "kernelspec": {
   "display_name": "Python 3",
   "language": "python",
   "name": "python3"
  },
  "language_info": {
   "codemirror_mode": {
    "name": "ipython",
    "version": 3
   },
   "file_extension": ".py",
   "mimetype": "text/x-python",
   "name": "python",
   "nbconvert_exporter": "python",
   "pygments_lexer": "ipython3",
   "version": "3.6.1"
  }
 },
 "nbformat": 4,
 "nbformat_minor": 2
}
