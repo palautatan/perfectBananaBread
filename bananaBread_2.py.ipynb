{
 "cells": [
  {
   "cell_type": "markdown",
   "metadata": {},
   "source": [
    "# Debugging bananaBread.py"
   ]
  },
  {
   "cell_type": "code",
   "execution_count": 64,
   "metadata": {
    "collapsed": false
   },
   "outputs": [],
   "source": [
    "# LIBRARIES\n",
    "import requests\n",
    "from bs4 import BeautifulSoup\n",
    "import re\n",
    "import requests_cache\n",
    "\n",
    "# START THE CACHE\n",
    "requests_cache.install_cache(\"Desktop\")"
   ]
  },
  {
   "cell_type": "code",
   "execution_count": 65,
   "metadata": {
    "collapsed": false
   },
   "outputs": [],
   "source": [
    "# START BEAUTIFUL SOUP\n",
    "html = requests.get(\"http://allrecipes.com/search/results/?wt=banana%20bread&sort=re\").text\n",
    "soup = BeautifulSoup(html, \"html.parser\")"
   ]
  },
  {
   "cell_type": "code",
   "execution_count": 114,
   "metadata": {
    "collapsed": true
   },
   "outputs": [],
   "source": [
    "# NARROW DOWN TO SECTION CLASS\n",
    "section = soup.find(\"section\", {\"id\": \"grid\"})"
   ]
  },
  {
   "cell_type": "code",
   "execution_count": 125,
   "metadata": {
    "collapsed": false
   },
   "outputs": [],
   "source": [
    "# NARROW DOWN TO ARTICLE CLASS\n",
    "articles = section.find_all(\"article\")"
   ]
  },
  {
   "cell_type": "markdown",
   "metadata": {},
   "source": [
    "I am now checking what is in the article class."
   ]
  },
  {
   "cell_type": "code",
   "execution_count": 126,
   "metadata": {
    "collapsed": false
   },
   "outputs": [
    {
     "data": {
      "text/plain": [
       "<article class=\"grid-col--fixed-tiles hub-card\">\\n<a data-click-id=\"cardslot 1\" data-internal-referrer-link=\"hubcard\" href=\"/recipes/343\" target=\"_self\">\\n<ul class=\"hub-card__image-wrap\">\\n<li><img alt=\"Banana Bread\" class=\"grid-col__hub-image\" data-lazy-load=\"\" data-original-src=\"http://images.media-allrecipes.com/images/74657.jpg\" src=\"http://images.media-allrecipes.com/images/74657.jpg\" title=\"Banana Bread\"/></li>\\n<li class=\"grid-col__hub-image--sm\">\\n<img src=\"http://images.media-allrecipes.com/userphotos/250x250/01/04/26/1042616.jpg\">\\n<img src=\"http://images.media-allrecipes.com/userphotos/250x250/00/67/67/676783.jpg\">\\n<img src=\"http://images.media-allrecipes.com/userphotos/250x250/02/22/10/2221074.jpg\">\\n</img></img></img></li>\\n</ul>\\n<span class=\"grid-col__header-text\">Popular Category</span>\\n<h3 class=\"grid-col__h3 grid-col__h3--recipe-grid\">\\n                Banana Bread\\n            </h3>\\n<div class=\"grid-col__ratings\">\\n<div class=\"hub-card__description\">When life gives you bananas, it\\u2019s time to make banana bread. Bake bananas into sweet loaves of goodness, with nuts, chocolate, or plain and delicious.</div>\\n</div>\\n<ul class=\"hub-card__stats\" ng-cloak=\"\">\\n<li><span><format-large-number number=\"171\"></format-large-number></span> recipes</li>\\n<li>\\n<span>, </span><span>\\n<format-large-number number=\"15\"></format-large-number>\\n                            videos\\n                        </span>\\n</li>\\n</ul>\\n</a>\\n</article>"
      ]
     },
     "execution_count": 126,
     "metadata": {},
     "output_type": "execute_result"
    }
   ],
   "source": [
    "articles[0]"
   ]
  },
  {
   "cell_type": "markdown",
   "metadata": {},
   "source": [
    "Let's see the links per article class."
   ]
  },
  {
   "cell_type": "code",
   "execution_count": 130,
   "metadata": {
    "collapsed": false
   },
   "outputs": [
    {
     "data": {
      "text/plain": [
       "u'/recipes/343'"
      ]
     },
     "execution_count": 130,
     "metadata": {},
     "output_type": "execute_result"
    }
   ],
   "source": [
    "articles[0].find(\"a\")[\"href\"]"
   ]
  },
  {
   "cell_type": "code",
   "execution_count": 131,
   "metadata": {
    "collapsed": false
   },
   "outputs": [
    {
     "data": {
      "text/plain": [
       "u'/recipe/6687/banana-bread/'"
      ]
     },
     "execution_count": 131,
     "metadata": {},
     "output_type": "execute_result"
    }
   ],
   "source": [
    "articles[1].find(\"a\")[\"href\"]"
   ]
  },
  {
   "cell_type": "code",
   "execution_count": 132,
   "metadata": {
    "collapsed": false
   },
   "outputs": [
    {
     "data": {
      "text/plain": [
       "u'/recipe/17066/janets-rich-banana-bread/'"
      ]
     },
     "execution_count": 132,
     "metadata": {},
     "output_type": "execute_result"
    }
   ],
   "source": [
    "articles[2].find(\"a\")[\"href\"]"
   ]
  },
  {
   "cell_type": "markdown",
   "metadata": {},
   "source": [
    "Let's continue with that _(~barfs~)_ for loop."
   ]
  },
  {
   "cell_type": "code",
   "execution_count": 142,
   "metadata": {
    "collapsed": false
   },
   "outputs": [
    {
     "name": "stdout",
     "output_type": "stream",
     "text": [
      "skipped item\n",
      "skipped item\n",
      "skipped item\n"
     ]
    }
   ],
   "source": [
    "links = []\n",
    "for a in articles:\n",
    "    try:\n",
    "        if \"/recipe/\" in a.find(\"a\")[\"href\"]:\n",
    "            links.append(a.find('a')[\"href\"])\n",
    "    except:\n",
    "        print(\"skipped item\")"
   ]
  },
  {
   "cell_type": "code",
   "execution_count": 143,
   "metadata": {
    "collapsed": false
   },
   "outputs": [
    {
     "data": {
      "text/plain": [
       "[u'/recipe/6687/banana-bread/',\n",
       " u'/recipe/17066/janets-rich-banana-bread/',\n",
       " u'/recipe/15747/best-ever-banana-bread/',\n",
       " u'/recipe/6765/4h-banana-bread/',\n",
       " u'/recipe/219967/chef-johns-banana-bread/',\n",
       " u'/recipe/20144/banana-banana-bread/',\n",
       " u'/recipe/16952/the-best-banana-bread/',\n",
       " u'/recipe/6993/cathys-banana-bread/',\n",
       " u'/recipe/241707/joys-easy-banana-bread/',\n",
       " u'/recipe/6713/easy-banana-bread/',\n",
       " u'/recipe/17252/chocolate-banana-bread/',\n",
       " u'/recipe/7154/creamy-banana-bread/',\n",
       " u'/recipe/235521/grain-free-banana-bread/',\n",
       " u'/recipe/222082/healthier-banana-banana-bread/',\n",
       " u'/recipe/16999/grandmas-homemade-banana-bread/',\n",
       " u'/recipe/6990/sarahs-banana-bread-muffins/',\n",
       " u'/recipe/229021/blueberry-banana-bread/',\n",
       " u'/recipe/22967/nannas-banana-bread/',\n",
       " u'/recipe/17656/rich-and-delicious-banana-bread/',\n",
       " u'/recipe/17754/janines-best-banana-bread/']"
      ]
     },
     "execution_count": 143,
     "metadata": {},
     "output_type": "execute_result"
    }
   ],
   "source": [
    "links"
   ]
  },
  {
   "cell_type": "markdown",
   "metadata": {},
   "source": [
    "It seems like we have the links we want."
   ]
  }
 ],
 "metadata": {
  "kernelspec": {
   "display_name": "Python 2",
   "language": "python",
   "name": "python2"
  },
  "language_info": {
   "codemirror_mode": {
    "name": "ipython",
    "version": 2
   },
   "file_extension": ".py",
   "mimetype": "text/x-python",
   "name": "python",
   "nbconvert_exporter": "python",
   "pygments_lexer": "ipython2",
   "version": "2.7.13"
  }
 },
 "nbformat": 4,
 "nbformat_minor": 2
}
