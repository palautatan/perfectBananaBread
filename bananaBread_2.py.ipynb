{
 "cells": [
  {
   "cell_type": "code",
   "execution_count": 64,
   "metadata": {
    "collapsed": false
   },
   "outputs": [],
   "source": [
    "import requests\n",
    "from bs4 import BeautifulSoup\n",
    "import re\n",
    "import requests_cache\n",
    "requests_cache.install_cache(\"Desktop\")"
   ]
  },
  {
   "cell_type": "code",
   "execution_count": 65,
   "metadata": {
    "collapsed": false
   },
   "outputs": [],
   "source": [
    "html = requests.get(\"http://allrecipes.com/search/results/?wt=banana%20bread&sort=re\").text\n",
    "soup = BeautifulSoup(html, \"html.parser\")"
   ]
  },
  {
   "cell_type": "code",
   "execution_count": 66,
   "metadata": {
    "collapsed": false
   },
   "outputs": [],
   "source": [
    "test = soup.find(\"section\", {\"id\": \"grid\"}).findAll(\"a\", href=re.compile(\"/recipe/[0-9]*/.*/\"))\n",
    "# test = soup.find(\"section\", {\"id\": \"grid\"}).findAll(\"a\")"
   ]
  },
  {
   "cell_type": "code",
   "execution_count": 67,
   "metadata": {
    "collapsed": false
   },
   "outputs": [
    {
     "data": {
      "text/plain": [
       "40"
      ]
     },
     "execution_count": 67,
     "metadata": {},
     "output_type": "execute_result"
    }
   ],
   "source": [
    "<a data-click-id=\"cardslot 2\" data-internal-referrer-link=\"hub recipe\" href=\"/recipe/6687/banana-bread/\">"
   ]
  },
  {
   "cell_type": "code",
   "execution_count": 114,
   "metadata": {
    "collapsed": true
   },
   "outputs": [],
   "source": [
    "section = soup.find(\"section\", {\"id\": \"grid\"})"
   ]
  },
  {
   "cell_type": "code",
   "execution_count": 125,
   "metadata": {
    "collapsed": false
   },
   "outputs": [],
   "source": [
    "articles = section.find_all(\"article\")"
   ]
  },
  {
   "cell_type": "code",
   "execution_count": 126,
   "metadata": {
    "collapsed": false
   },
   "outputs": [
    {
     "data": {
      "text/plain": [
       "<article class=\"grid-col--fixed-tiles hub-card\">\\n<a data-click-id=\"cardslot 1\" data-internal-referrer-link=\"hubcard\" href=\"/recipes/343\" target=\"_self\">\\n<ul class=\"hub-card__image-wrap\">\\n<li><img alt=\"Banana Bread\" class=\"grid-col__hub-image\" data-lazy-load=\"\" data-original-src=\"http://images.media-allrecipes.com/images/74657.jpg\" src=\"http://images.media-allrecipes.com/images/74657.jpg\" title=\"Banana Bread\"/></li>\\n<li class=\"grid-col__hub-image--sm\">\\n<img src=\"http://images.media-allrecipes.com/userphotos/250x250/01/04/26/1042616.jpg\">\\n<img src=\"http://images.media-allrecipes.com/userphotos/250x250/00/67/67/676783.jpg\">\\n<img src=\"http://images.media-allrecipes.com/userphotos/250x250/02/22/10/2221074.jpg\">\\n</img></img></img></li>\\n</ul>\\n<span class=\"grid-col__header-text\">Popular Category</span>\\n<h3 class=\"grid-col__h3 grid-col__h3--recipe-grid\">\\n                Banana Bread\\n            </h3>\\n<div class=\"grid-col__ratings\">\\n<div class=\"hub-card__description\">When life gives you bananas, it\\u2019s time to make banana bread. Bake bananas into sweet loaves of goodness, with nuts, chocolate, or plain and delicious.</div>\\n</div>\\n<ul class=\"hub-card__stats\" ng-cloak=\"\">\\n<li><span><format-large-number number=\"171\"></format-large-number></span> recipes</li>\\n<li>\\n<span>, </span><span>\\n<format-large-number number=\"15\"></format-large-number>\\n                            videos\\n                        </span>\\n</li>\\n</ul>\\n</a>\\n</article>"
      ]
     },
     "execution_count": 126,
     "metadata": {},
     "output_type": "execute_result"
    }
   ],
   "source": [
    "articles[0]"
   ]
  },
  {
   "cell_type": "code",
   "execution_count": 130,
   "metadata": {
    "collapsed": false
   },
   "outputs": [
    {
     "data": {
      "text/plain": [
       "u'/recipes/343'"
      ]
     },
     "execution_count": 130,
     "metadata": {},
     "output_type": "execute_result"
    }
   ],
   "source": [
    "articles[0].find(\"a\")[\"href\"]"
   ]
  },
  {
   "cell_type": "code",
   "execution_count": 131,
   "metadata": {
    "collapsed": false
   },
   "outputs": [
    {
     "data": {
      "text/plain": [
       "u'/recipe/6687/banana-bread/'"
      ]
     },
     "execution_count": 131,
     "metadata": {},
     "output_type": "execute_result"
    }
   ],
   "source": [
    "articles[1].find(\"a\")[\"href\"]"
   ]
  },
  {
   "cell_type": "code",
   "execution_count": 132,
   "metadata": {
    "collapsed": false
   },
   "outputs": [
    {
     "data": {
      "text/plain": [
       "u'/recipe/17066/janets-rich-banana-bread/'"
      ]
     },
     "execution_count": 132,
     "metadata": {},
     "output_type": "execute_result"
    }
   ],
   "source": [
    "articles[2].find(\"a\")[\"href\"]"
   ]
  },
  {
   "cell_type": "code",
   "execution_count": null,
   "metadata": {
    "collapsed": true
   },
   "outputs": [],
   "source": [
    "\"\"\"\n",
    "yo = []\n",
    "test = soup.find(\"article\", {\"class\": \"grid-col--fixed-tiles\"}).findAll(\"a\")[0]\n",
    "\n",
    "for t in test:\n",
    "\tprint(t )\n",
    "\n",
    "\"\"\""
   ]
  }
 ],
 "metadata": {
  "kernelspec": {
   "display_name": "Python 2",
   "language": "python",
   "name": "python2"
  },
  "language_info": {
   "codemirror_mode": {
    "name": "ipython",
    "version": 2
   },
   "file_extension": ".py",
   "mimetype": "text/x-python",
   "name": "python",
   "nbconvert_exporter": "python",
   "pygments_lexer": "ipython2",
   "version": "2.7.13"
  }
 },
 "nbformat": 4,
 "nbformat_minor": 2
}
