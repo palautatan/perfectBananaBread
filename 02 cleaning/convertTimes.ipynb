{
 "cells": [
  {
   "cell_type": "markdown",
   "metadata": {},
   "source": [
    "# Convert Times"
   ]
  },
  {
   "cell_type": "code",
   "execution_count": 1,
   "metadata": {
    "collapsed": true
   },
   "outputs": [],
   "source": [
    "import pandas as pd\n",
    "import numpy as np"
   ]
  },
  {
   "cell_type": "code",
   "execution_count": 2,
   "metadata": {
    "collapsed": true
   },
   "outputs": [],
   "source": [
    "bb_df = pd.read_csv(\"/Users/shermanpeng/Documents/Python/Webscrape/banana_bread_df.csv\")"
   ]
  },
  {
   "cell_type": "code",
   "execution_count": 7,
   "metadata": {
    "collapsed": false
   },
   "outputs": [
    {
     "data": {
      "text/html": [
       "<div>\n",
       "<table border=\"1\" class=\"dataframe\">\n",
       "  <thead>\n",
       "    <tr style=\"text-align: right;\">\n",
       "      <th></th>\n",
       "      <th>url</th>\n",
       "      <th>title</th>\n",
       "      <th>made-it</th>\n",
       "      <th>reviews</th>\n",
       "      <th>longRating</th>\n",
       "      <th>ratingValue</th>\n",
       "      <th>reviewCount</th>\n",
       "      <th>recipe</th>\n",
       "      <th>calories</th>\n",
       "      <th>ratings</th>\n",
       "      <th>prep</th>\n",
       "      <th>cook</th>\n",
       "      <th>total</th>\n",
       "    </tr>\n",
       "  </thead>\n",
       "  <tbody>\n",
       "    <tr>\n",
       "      <th>0</th>\n",
       "      <td>http://allrecipes.com/recipe/23082/janets-famo...</td>\n",
       "      <td>Janet's Famous Banana Nut Bread</td>\n",
       "      <td>151</td>\n",
       "      <td>110</td>\n",
       "      <td>4.634921</td>\n",
       "      <td>4.63</td>\n",
       "      <td>110</td>\n",
       "      <td>['3 cups white sugar', '3/4 cup butter, soften...</td>\n",
       "      <td>356.0</td>\n",
       "      <td>126.0</td>\n",
       "      <td>['20']</td>\n",
       "      <td>['1', '5']</td>\n",
       "      <td>['1', '25']</td>\n",
       "    </tr>\n",
       "    <tr>\n",
       "      <th>1</th>\n",
       "      <td>http://allrecipes.com/recipe/6765/4h-banana-br...</td>\n",
       "      <td>4H Banana Bread</td>\n",
       "      <td>340</td>\n",
       "      <td>881</td>\n",
       "      <td>4.671642</td>\n",
       "      <td>4.67</td>\n",
       "      <td>881</td>\n",
       "      <td>['2 cups all-purpose flour', '1/2 teaspoon bak...</td>\n",
       "      <td>265.0</td>\n",
       "      <td>1072.0</td>\n",
       "      <td>['10']</td>\n",
       "      <td>['1']</td>\n",
       "      <td>['1', '10']</td>\n",
       "    </tr>\n",
       "    <tr>\n",
       "      <th>2</th>\n",
       "      <td>http://allrecipes.com/recipe/218541/caramel-ma...</td>\n",
       "      <td>Caramel Macchiato Banana Bread</td>\n",
       "      <td>188</td>\n",
       "      <td>57</td>\n",
       "      <td>4.181818</td>\n",
       "      <td>4.18</td>\n",
       "      <td>57</td>\n",
       "      <td>['cooking spray', '2 cups all-purpose flour', ...</td>\n",
       "      <td>334.0</td>\n",
       "      <td>66.0</td>\n",
       "      <td>['15']</td>\n",
       "      <td>['1', '5']</td>\n",
       "      <td>['2']</td>\n",
       "    </tr>\n",
       "  </tbody>\n",
       "</table>\n",
       "</div>"
      ],
      "text/plain": [
       "                                                 url  \\\n",
       "0  http://allrecipes.com/recipe/23082/janets-famo...   \n",
       "1  http://allrecipes.com/recipe/6765/4h-banana-br...   \n",
       "2  http://allrecipes.com/recipe/218541/caramel-ma...   \n",
       "\n",
       "                             title  made-it  reviews  longRating  ratingValue  \\\n",
       "0  Janet's Famous Banana Nut Bread      151      110    4.634921         4.63   \n",
       "1                  4H Banana Bread      340      881    4.671642         4.67   \n",
       "2   Caramel Macchiato Banana Bread      188       57    4.181818         4.18   \n",
       "\n",
       "   reviewCount                                             recipe  calories  \\\n",
       "0          110  ['3 cups white sugar', '3/4 cup butter, soften...     356.0   \n",
       "1          881  ['2 cups all-purpose flour', '1/2 teaspoon bak...     265.0   \n",
       "2           57  ['cooking spray', '2 cups all-purpose flour', ...     334.0   \n",
       "\n",
       "   ratings    prep        cook        total  \n",
       "0    126.0  ['20']  ['1', '5']  ['1', '25']  \n",
       "1   1072.0  ['10']       ['1']  ['1', '10']  \n",
       "2     66.0  ['15']  ['1', '5']        ['2']  "
      ]
     },
     "execution_count": 7,
     "metadata": {},
     "output_type": "execute_result"
    }
   ],
   "source": [
    "bb_df.head(3)"
   ]
  },
  {
   "cell_type": "markdown",
   "metadata": {},
   "source": [
    "# Prep Time"
   ]
  },
  {
   "cell_type": "code",
   "execution_count": 8,
   "metadata": {
    "collapsed": false,
    "scrolled": true
   },
   "outputs": [
    {
     "data": {
      "text/plain": [
       "0     ['20']\n",
       "1     ['10']\n",
       "2     ['15']\n",
       "3     ['15']\n",
       "4     ['30']\n",
       "5     ['10']\n",
       "6     ['25']\n",
       "7     ['10']\n",
       "8     ['15']\n",
       "9     ['15']\n",
       "10    ['15']\n",
       "11    ['10']\n",
       "12    ['10']\n",
       "13    ['20']\n",
       "14       NaN\n",
       "Name: prep, dtype: object"
      ]
     },
     "execution_count": 8,
     "metadata": {},
     "output_type": "execute_result"
    }
   ],
   "source": [
    "bb_df[\"prep\"][0:15]"
   ]
  },
  {
   "cell_type": "code",
   "execution_count": 28,
   "metadata": {
    "collapsed": false
   },
   "outputs": [],
   "source": [
    "def fixPrep(entry):\n",
    "    try:\n",
    "        return(int(entry.replace(\"'\",\"\").replace(\"[\",\"\").replace(\"]\",\"\")))\n",
    "    except:\n",
    "        return(np.NaN)"
   ]
  },
  {
   "cell_type": "code",
   "execution_count": 30,
   "metadata": {
    "collapsed": false
   },
   "outputs": [],
   "source": [
    "fixed_prep_times = [fixPrep(x) for x in bb_df[\"prep\"]]"
   ]
  },
  {
   "cell_type": "markdown",
   "metadata": {},
   "source": [
    "# Cook Time"
   ]
  },
  {
   "cell_type": "code",
   "execution_count": 31,
   "metadata": {
    "collapsed": false
   },
   "outputs": [
    {
     "data": {
      "text/plain": [
       "0      ['1', '5']\n",
       "1           ['1']\n",
       "2      ['1', '5']\n",
       "3     ['1', '10']\n",
       "4          ['45']\n",
       "5           ['1']\n",
       "6           ['1']\n",
       "7           ['1']\n",
       "8          ['50']\n",
       "9          ['20']\n",
       "10     ['1', '5']\n",
       "11          ['1']\n",
       "12          ['1']\n",
       "13    ['1', '10']\n",
       "14            NaN\n",
       "Name: cook, dtype: object"
      ]
     },
     "execution_count": 31,
     "metadata": {},
     "output_type": "execute_result"
    }
   ],
   "source": [
    "bb_df[\"cook\"][0:15]"
   ]
  },
  {
   "cell_type": "code",
   "execution_count": 34,
   "metadata": {
    "collapsed": false
   },
   "outputs": [],
   "source": [
    "x = bb_df[\"cook\"][0]"
   ]
  },
  {
   "cell_type": "code",
   "execution_count": 38,
   "metadata": {
    "collapsed": false
   },
   "outputs": [
    {
     "data": {
      "text/plain": [
       "[1, 5]"
      ]
     },
     "execution_count": 38,
     "metadata": {},
     "output_type": "execute_result"
    }
   ],
   "source": [
    "to_conv = [int(m) for m in x.replace(\"'\",\"\").replace(\"[\",\"\").replace(\"]\",\"\").split(\", \")]\n",
    "to_conv "
   ]
  },
  {
   "cell_type": "code",
   "execution_count": 47,
   "metadata": {
    "collapsed": false
   },
   "outputs": [],
   "source": [
    "def cook_time(x):\n",
    "    try:\n",
    "        if len(x)>6:\n",
    "            to_conv = [int(m) for m in x.replace(\"'\",\"\").replace(\"[\",\"\").replace(\"]\",\"\").split(\", \")]\n",
    "            return to_conv[0]*60 + to_conv[1]\n",
    "        else:\n",
    "            return fixPrep(x)\n",
    "    except:\n",
    "        return np.NaN"
   ]
  },
  {
   "cell_type": "code",
   "execution_count": 49,
   "metadata": {
    "collapsed": false
   },
   "outputs": [],
   "source": [
    "fixed_cook_time = [cook_time(x) for x in bb_df[\"cook\"]]"
   ]
  },
  {
   "cell_type": "markdown",
   "metadata": {},
   "source": [
    "# Total Time"
   ]
  },
  {
   "cell_type": "code",
   "execution_count": 10,
   "metadata": {
    "collapsed": false
   },
   "outputs": [
    {
     "data": {
      "text/plain": [
       "0     ['1', '25']\n",
       "1     ['1', '10']\n",
       "2           ['2']\n",
       "3     ['1', '45']\n",
       "4     ['1', '15']\n",
       "5     ['1', '10']\n",
       "6     ['1', '55']\n",
       "7     ['1', '10']\n",
       "8      ['1', '5']\n",
       "9          ['35']\n",
       "10    ['1', '20']\n",
       "11    ['1', '10']\n",
       "12    ['1', '10']\n",
       "13    ['1', '30']\n",
       "14            NaN\n",
       "Name: total, dtype: object"
      ]
     },
     "execution_count": 10,
     "metadata": {},
     "output_type": "execute_result"
    }
   ],
   "source": [
    "bb_df[\"total\"][0:15]"
   ]
  },
  {
   "cell_type": "code",
   "execution_count": 50,
   "metadata": {
    "collapsed": true
   },
   "outputs": [],
   "source": [
    "fixed_total_time = [cook_time(x) for x in bb_df[\"total\"]]"
   ]
  },
  {
   "cell_type": "code",
   "execution_count": null,
   "metadata": {
    "collapsed": true
   },
   "outputs": [],
   "source": []
  }
 ],
 "metadata": {
  "kernelspec": {
   "display_name": "Python 3",
   "language": "python",
   "name": "python3"
  },
  "language_info": {
   "codemirror_mode": {
    "name": "ipython",
    "version": 3
   },
   "file_extension": ".py",
   "mimetype": "text/x-python",
   "name": "python",
   "nbconvert_exporter": "python",
   "pygments_lexer": "ipython3",
   "version": "3.5.2"
  }
 },
 "nbformat": 4,
 "nbformat_minor": 0
}
