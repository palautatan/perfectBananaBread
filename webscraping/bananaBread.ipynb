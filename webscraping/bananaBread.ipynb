{
 "cells": [
  {
   "cell_type": "code",
   "execution_count": null,
   "metadata": {
    "collapsed": true
   },
   "outputs": [],
   "source": [
    "## from urllib.request import urlopen\n",
    "from bs4 import BeautifulSoup\n",
    "import re\n",
    "import requests\n",
    "import requests_cache"
   ]
  },
  {
   "cell_type": "code",
   "execution_count": 157,
   "metadata": {
    "collapsed": false
   },
   "outputs": [],
   "source": [
    "requests_cache.install_cache(\"/Users/shermanpeng/Documents/Python/Webscrape\")"
   ]
  },
  {
   "cell_type": "code",
   "execution_count": null,
   "metadata": {
    "collapsed": true
   },
   "outputs": [],
   "source": [
    "domain = 'http://allrecipes.com/'"
   ]
  },
  {
   "cell_type": "code",
   "execution_count": 121,
   "metadata": {
    "collapsed": true
   },
   "outputs": [],
   "source": [
    "the_pages = ['http://allrecipes.com/recipes/343/bread/quick-bread/fruit-bread/banana-bread/?internalSource=hubcard&referringContentType=search%20results&clickId=cardslot%201&page=1#1',\n",
    " 'http://allrecipes.com/recipes/343/bread/quick-bread/fruit-bread/banana-bread/?internalSource=hubcard&referringContentType=search%20results&clickId=cardslot%201&page=2#2',\n",
    " 'http://allrecipes.com/recipes/343/bread/quick-bread/fruit-bread/banana-bread/?internalSource=hubcard&referringContentType=search%20results&clickId=cardslot%201&page=3#3',\n",
    " 'http://allrecipes.com/recipes/343/bread/quick-bread/fruit-bread/banana-bread/?internalSource=hubcard&referringContentType=search%20results&clickId=cardslot%201&page=4#4',\n",
    " 'http://allrecipes.com/recipes/343/bread/quick-bread/fruit-bread/banana-bread/?internalSource=hubcard&referringContentType=search%20results&clickId=cardslot%201&page=5#5',\n",
    " 'http://allrecipes.com/recipes/343/bread/quick-bread/fruit-bread/banana-bread/?internalSource=hubcard&referringContentType=search%20results&clickId=cardslot%201&page=6#6',\n",
    " 'http://allrecipes.com/recipes/343/bread/quick-bread/fruit-bread/banana-bread/?internalSource=hubcard&referringContentType=search%20results&clickId=cardslot%201&page=7#7',\n",
    " 'http://allrecipes.com/recipes/343/bread/quick-bread/fruit-bread/banana-bread/?internalSource=hubcard&referringContentType=search%20results&clickId=cardslot%201&page=8#8',\n",
    " 'http://allrecipes.com/recipes/343/bread/quick-bread/fruit-bread/banana-bread/?internalSource=hubcard&referringContentType=search%20results&clickId=cardslot%201&page=9#9']"
   ]
  },
  {
   "cell_type": "code",
   "execution_count": 122,
   "metadata": {
    "collapsed": false
   },
   "outputs": [],
   "source": [
    "#grab all recipe links on pages\n",
    "def grab_links(pages):\n",
    "    l = []\n",
    "    for i in range(9):\n",
    "        html = urlopen(pages[i])\n",
    "        soup = BeautifulSoup(html, 'lxml')\n",
    "        for p in soup.find(\"section\", {\"id\": \"grid\"}).findAll(\"article\"):\n",
    "            try:\n",
    "                if \"/recipe\" in p.find('a')['href']:\n",
    "                    l.append(p.find('a')['href'])\n",
    "            except:\n",
    "                continue\n",
    "    return l\n",
    "                    \n",
    "                \n",
    "        \n"
   ]
  },
  {
   "cell_type": "code",
   "execution_count": 123,
   "metadata": {
    "collapsed": false
   },
   "outputs": [],
   "source": [
    "recipe_links = grab_links(the_pages)"
   ]
  },
  {
   "cell_type": "code",
   "execution_count": 124,
   "metadata": {
    "collapsed": false
   },
   "outputs": [
    {
     "data": {
      "text/plain": [
       "['/recipe/16952/the-best-banana-bread/',\n",
       " '/recipe/6765/4h-banana-bread/',\n",
       " '/recipe/218541/caramel-macchiato-banana-bread/',\n",
       " '/recipe/219967/chef-johns-banana-bread/',\n",
       " '/recipe/7154/creamy-banana-bread/',\n",
       " '/recipe/17252/chocolate-banana-bread/',\n",
       " '/recipe/228442/raspberry-banana-bread/',\n",
       " '/recipe/16999/grandmas-homemade-banana-bread/',\n",
       " '/recipe/141933/banana-zucchini-bread/',\n",
       " '/recipe/17652/banana-crumb-muffins/',\n",
       " '/recipe/20144/banana-banana-bread/',\n",
       " '/recipe/17066/janets-rich-banana-bread/',\n",
       " '/recipe/6984/banana-sour-cream-bread/',\n",
       " '/recipe/67937/extreme-banana-nut-bread-ebnb/',\n",
       " '/recipe/15747/best-ever-banana-bread/',\n",
       " '/recipe/6687/banana-bread/',\n",
       " '/recipe/6993/cathys-banana-bread/',\n",
       " '/recipe/6990/sarahs-banana-bread-muffins/',\n",
       " '/recipe/23426/almost-no-fat-banana-bread/',\n",
       " '/recipe/20153/chocolate-chip-banana-bread-ii/',\n",
       " '/recipe/6713/easy-banana-bread/',\n",
       " '/recipe/17754/janines-best-banana-bread/',\n",
       " '/recipe/7155/whole-wheat-banana-nut-bread/',\n",
       " '/recipe/18015/lighter-banana-muffins/',\n",
       " '/recipe/230482/banana-chocolate-chip-bread/',\n",
       " '/recipe/219967/chef-johns-banana-bread/',\n",
       " '/recipe/6754/lower-fat-banana-bread-i/',\n",
       " '/recipe/241707/joys-easy-banana-bread/',\n",
       " '/recipe/22722/brown-sugar-banana-nut-bread-i/',\n",
       " '/recipe/16706/banana-pumpkin-bread/',\n",
       " '/recipe/7116/banana-bread---quick-bread-for-machines/',\n",
       " '/recipe/6777/banana-nut-bread-i/',\n",
       " '/recipe/17050/hawaiian-banana-nut-bread/',\n",
       " '/recipe/16999/grandmas-homemade-banana-bread/',\n",
       " '/recipe/17013/banana-peanut-butter-bread/',\n",
       " '/recipe/24930/lower-fat-banana-bread-ii/',\n",
       " '/recipe/7163/favorite-banana-blueberry-quick-bread/',\n",
       " '/recipe/15746/banana-oatmeal-bread/',\n",
       " '/recipe/17656/rich-and-delicious-banana-bread/',\n",
       " '/recipe/16666/banana-bran-muffins/',\n",
       " '/recipe/141933/banana-zucchini-bread/',\n",
       " '/recipe/6894/banana-coconut-loaf/',\n",
       " '/recipe/24575/oatmeal-banana-nut-bread/',\n",
       " '/recipe/7141/banana-nut-bread-ii/',\n",
       " '/recipe/6690/mothers-banana-bread/',\n",
       " '/recipe/7024/banana-nut-bread-baked-in-a-jar/',\n",
       " '/recipe/22967/nannas-banana-bread/',\n",
       " '/recipe/7158/strawnana-bread/',\n",
       " '/recipe/9460/banana-nut-bread-iii/',\n",
       " '/recipe/6686/banana-wheat-bread/',\n",
       " '/recipe/229021/blueberry-banana-bread/',\n",
       " '/recipe/20739/banana-loaf/',\n",
       " '/recipe/20164/grannys-banana-bread/',\n",
       " '/recipe/23645/sweet-banana-bread/',\n",
       " '/recipe/6921/quick-banana-bread/',\n",
       " '/recipe/164205/spiced-banana-bread/',\n",
       " '/recipe/93289/whole-grain-healthy-banana-bread/',\n",
       " '/recipe/23082/janets-famous-banana-nut-bread/',\n",
       " '/recipe/217065/gluten-free-banana-bread/',\n",
       " '/recipe/20152/chocolate-chip-banana-bread-i/',\n",
       " '/recipe/41679/banana-cranberry-bread/',\n",
       " '/recipe/36772/maple-banana-bread/',\n",
       " '/recipe/7223/banana-chocolate-chip-muffins/',\n",
       " '/recipe/229353/sour-cream-banana-bread/',\n",
       " '/recipe/7069/special-banana-bread/',\n",
       " '/recipe/21619/banana-date-flaxseed-bread/',\n",
       " '/recipe/222082/healthier-banana-banana-bread/',\n",
       " '/recipe/23810/grandmas-banana-bread/',\n",
       " '/recipe/7175/banana-chai-bread/',\n",
       " '/recipe/6757/simple-banana-bread/',\n",
       " '/recipe/220941/peanut-butter-chocolate-chip-banana-bread/',\n",
       " '/recipe/18503/country-banana-bread/',\n",
       " '/recipe/52536/whole-grain-banana-muffins/',\n",
       " '/recipe/218541/caramel-macchiato-banana-bread/',\n",
       " '/recipe/202895/whole-wheat-chocolate-banana-bread/',\n",
       " '/recipe/104999/we-be-jammin-jamaican-banana-bread/',\n",
       " '/recipe/219816/family-banana-nut-bread-recipe/',\n",
       " '/recipe/242314/browned-butter-banana-bread/',\n",
       " '/recipe/198829/bananas-foster-monkey-bread/',\n",
       " '/recipe/214581/brown-sugar-banana-bread/',\n",
       " '/recipe/228684/paleo-banana-bread/',\n",
       " '/recipe/22470/really-rich-banana-bread/',\n",
       " '/recipe/211180/bangin-banana-bread/',\n",
       " '/recipe/17281/molasses-banana-bread/',\n",
       " '/recipe/6830/whole-wheat-banana-strawberry-loaf/',\n",
       " '/recipe/7200/banana-nut-and-ginger-bread/',\n",
       " '/recipe/218978/banana-apple-bread/',\n",
       " '/recipe/213007/banana-butterscotch-bread/',\n",
       " '/recipe/41682/napoleons-banana-muffin/',\n",
       " '/recipe/20196/banana-walnut-cornbread/',\n",
       " '/recipe/216436/low-fat-banana-bread/',\n",
       " '/recipe/228442/raspberry-banana-bread/',\n",
       " '/recipe/231183/quick-banana-nut-bread/',\n",
       " '/recipe/239725/banana-zucchini-bread-muffins/',\n",
       " '/recipe/15426/cranapana-bread/',\n",
       " '/recipe/142527/amish-friendship-banana-nut-bread/',\n",
       " '/recipe/216774/angies-to-die-for-banana-bread/',\n",
       " '/recipe/16705/banana-maple-nut-bread/',\n",
       " '/recipe/24519/brown-sugar-banana-nut-bread-ii/',\n",
       " '/recipe/23008/delicious-raisin-nut-banana-bread/',\n",
       " '/recipe/216540/cranberry-banana-oat-bread/',\n",
       " '/recipe/218585/mommys-banana-bread/',\n",
       " '/recipe/147988/banana-bran-zucchini-bread/',\n",
       " '/recipe/215623/bobras-banana-bread/',\n",
       " '/recipe/17601/the-greatest-banana-bread/',\n",
       " '/recipe/24931/nutty-banana-bread/',\n",
       " '/recipe/17403/strawnana-smoothie-bread/',\n",
       " '/recipe/212769/cranberry-pumpkin-banana-bread/',\n",
       " '/recipe/7242/cardamom-banana-bread/',\n",
       " '/recipe/214760/roasted-pecan-banana-bread-loaves/',\n",
       " '/recipe/166496/ozs-banana-nut-and-raisin-bread-for-abm/',\n",
       " '/recipe/6775/mrs-kurtzs-banana-bread/',\n",
       " '/recipe/236474/salted-caramel-banana-bread/',\n",
       " '/recipe/6747/lower-fat-banana-nut-bread/',\n",
       " '/recipe/135490/banana-bread-with-oat-streusel-topping/',\n",
       " '/recipe/232380/simple-peanut-butter-banana-bread/',\n",
       " '/recipe/239246/banana-walnut-bread/',\n",
       " '/recipe/235521/grain-free-banana-bread/',\n",
       " '/recipe/143084/simply-delicious-banana-crumb-bread/',\n",
       " '/recipe/6712/brazilian-banana-bread/',\n",
       " '/recipe/237470/ginger-banana-bread/',\n",
       " '/recipe/7090/banana-macadamia-nut-bread/',\n",
       " '/recipe/234521/paleo-chocolate-and-cinnamon-banana-bread/',\n",
       " '/recipe/222147/healthier-banana-sour-cream-bread/',\n",
       " '/recipe/231961/double-banana-nut-bread/',\n",
       " '/recipe/74845/moist-banana-raisin-bread/',\n",
       " '/recipe/154339/fig-and-banana-loaf/',\n",
       " '/recipe/223066/blueberry-banana-nut-bread/',\n",
       " '/recipe/239454/banana-bread-from-motts/',\n",
       " '/recipe/21435/oatmeal-banana-cinnamon-bread/',\n",
       " '/recipe/215139/banana-plum-bread/',\n",
       " '/recipe/7035/basic-fruit-bread-recipe/',\n",
       " '/recipe/20662/delicious-raisin-nut-banana-bread/',\n",
       " '/recipe/219814/dads-banana-nut-bread/',\n",
       " '/recipe/240750/moms-carrot-banana-bread/',\n",
       " '/recipe/247087/honey-spice-whole-wheat-banana-bread/',\n",
       " '/recipe/219815/quick-mix-banana-nut-bread/',\n",
       " '/recipe/216466/breakfast-banana-cake/',\n",
       " '/recipe/218721/bates-banana-bread/',\n",
       " '/recipe/229003/banana-peach-bread/',\n",
       " '/recipe/241552/buttermilk-banana-bread/',\n",
       " '/recipe/236593/gluten-free-moist-choc-chip-banana-bread/',\n",
       " '/recipe/233752/banana-strawberry-oat-bread/',\n",
       " '/recipe/7094/banana-nut-oatmeal-bread/',\n",
       " '/recipe/235224/cherry-pineapple-banana-bread/',\n",
       " '/recipe/236059/favorite-banana-bread/',\n",
       " '/recipe/231284/whiskey-and-bacon-banana-bread/',\n",
       " '/recipe/204768/blueberry-upside-down-banana-nut-bread/',\n",
       " '/recipe/214582/my-aunts-banana-bread/',\n",
       " '/recipe/223067/best-hawaiian-banana-nut-bread/',\n",
       " '/recipe/242330/paleo-sunflower-banana-bread/',\n",
       " '/recipe/230483/nutty-banana-chocolate-chip-bread/',\n",
       " '/recipe/232379/whole-wheat-peanut-butter-banana-bread/',\n",
       " '/recipe/231317/bitter-chocolate-lavender-and-banana-tea-loaf/',\n",
       " '/recipe/228138/powerhouse-banana-bread/',\n",
       " '/recipe/219863/melted-banana-bread/',\n",
       " '/recipe/142736/microwave-tofu-banana-bread/',\n",
       " '/recipe/242243/vegan-banana-bread/',\n",
       " '/recipe/238514/gluten-free-banana-bread/',\n",
       " '/recipe/247088/whole-wheat-banana-bread-with-flaxseed-and-oats/',\n",
       " '/recipe/256401/cream-cheese-banana-bread/',\n",
       " '/recipe/256564/gluten-free-banana-bread-made-easy/',\n",
       " '/recipe/247086/very-banana-y-whole-wheat-banana-bread/',\n",
       " '/recipe/231864/sugar-free-banana-bread/',\n",
       " '/recipe/257629/papaya-bread-with-a-twist/',\n",
       " '/recipe/257670/black-sesame-and-walnut-banana-bread/',\n",
       " '/recipe/257243/the-best-moist-lotus-cookie-butter-banana-bread-recipe-ever/',\n",
       " '/recipe/257403/delicious-whole-grain-banana-bread/',\n",
       " '/recipe/238561/organic-banana-bread/',\n",
       " '/recipe/238961/sweet-and-tangy-sour-cream-banana-bread/',\n",
       " '/recipe/245434/banana-walnut-flax-seed-bread/',\n",
       " '/recipe/240448/sweet-potato-banana-bread/',\n",
       " '/recipe/257433/best-banana-yogurt-bread/',\n",
       " '/recipe/257605/gluten-free-banana-giraffe-bread/',\n",
       " '/recipe/256693/dark-chocolate-marbled-banana-bread-with-greek-yogurt/',\n",
       " '/recipe/259018/double-chocolate-banana-monkey-bread/']"
      ]
     },
     "execution_count": 124,
     "metadata": {},
     "output_type": "execute_result"
    }
   ],
   "source": [
    "recipe_links"
   ]
  },
  {
   "cell_type": "code",
   "execution_count": 135,
   "metadata": {
    "collapsed": false
   },
   "outputs": [
    {
     "data": {
      "text/plain": [
       "176"
      ]
     },
     "execution_count": 135,
     "metadata": {},
     "output_type": "execute_result"
    }
   ],
   "source": [
    "len(recipe_links)"
   ]
  },
  {
   "cell_type": "code",
   "execution_count": 144,
   "metadata": {
    "collapsed": false
   },
   "outputs": [],
   "source": [
    "#function to get ingredients\n",
    "def get_ingredients(link):\n",
    "    html = urlopen(link)\n",
    "    soup = BeautifulSoup(html, 'lxml')\n",
    "    \n",
    "    ingredients = soup.findAll(\"span\", {\"class\": \"recipe-ingred_txt added\"})\n",
    "    for i in ingredients:\n",
    "        print(i.get_text())"
   ]
  },
  {
   "cell_type": "code",
   "execution_count": 158,
   "metadata": {
    "collapsed": false
   },
   "outputs": [
    {
     "ename": "NameError",
     "evalue": "name 'recipe_link' is not defined",
     "output_type": "error",
     "traceback": [
      "\u001b[0;31m---------------------------------------------------------------------------\u001b[0m",
      "\u001b[0;31mNameError\u001b[0m                                 Traceback (most recent call last)",
      "\u001b[0;32m<ipython-input-158-8ad4ac7338bf>\u001b[0m in \u001b[0;36m<module>\u001b[0;34m()\u001b[0m\n\u001b[1;32m      1\u001b[0m \u001b[0;31m#add domain to recipe links\u001b[0m\u001b[0;34m\u001b[0m\u001b[0;34m\u001b[0m\u001b[0m\n\u001b[1;32m      2\u001b[0m \u001b[0;34m\u001b[0m\u001b[0m\n\u001b[0;32m----> 3\u001b[0;31m \u001b[0mdlink\u001b[0m \u001b[0;34m=\u001b[0m \u001b[0;34m[\u001b[0m\u001b[0mdomain\u001b[0m \u001b[0;34m+\u001b[0m \u001b[0mx\u001b[0m \u001b[0;32mfor\u001b[0m \u001b[0mx\u001b[0m \u001b[0;32min\u001b[0m \u001b[0mrecipe_link\u001b[0m\u001b[0;34m]\u001b[0m\u001b[0;34m\u001b[0m\u001b[0m\n\u001b[0m\u001b[1;32m      4\u001b[0m \u001b[0;34m\u001b[0m\u001b[0m\n\u001b[1;32m      5\u001b[0m \u001b[0;34m\u001b[0m\u001b[0m\n",
      "\u001b[0;31mNameError\u001b[0m: name 'recipe_link' is not defined"
     ]
    }
   ],
   "source": [
    "#add domain to recipe links\n",
    "\n",
    "dlink = [domain + x for x in recipe_link]\n",
    "\n",
    "\n",
    "\n",
    "test = []\n",
    "for x in recipe_links:\n",
    "    test.append('http://allrecipes.com/recipe' + x)"
   ]
  },
  {
   "cell_type": "code",
   "execution_count": 156,
   "metadata": {
    "collapsed": false
   },
   "outputs": [
    {
     "data": {
      "text/plain": [
       "['http://allrecipes.com/recipe/recipe/16952/the-best-banana-bread/',\n",
       " 'http://allrecipes.com/recipe/recipe/6765/4h-banana-bread/',\n",
       " 'http://allrecipes.com/recipe/recipe/218541/caramel-macchiato-banana-bread/',\n",
       " 'http://allrecipes.com/recipe/recipe/219967/chef-johns-banana-bread/',\n",
       " 'http://allrecipes.com/recipe/recipe/7154/creamy-banana-bread/',\n",
       " 'http://allrecipes.com/recipe/recipe/17252/chocolate-banana-bread/',\n",
       " 'http://allrecipes.com/recipe/recipe/228442/raspberry-banana-bread/',\n",
       " 'http://allrecipes.com/recipe/recipe/16999/grandmas-homemade-banana-bread/',\n",
       " 'http://allrecipes.com/recipe/recipe/141933/banana-zucchini-bread/',\n",
       " 'http://allrecipes.com/recipe/recipe/17652/banana-crumb-muffins/',\n",
       " 'http://allrecipes.com/recipe/recipe/20144/banana-banana-bread/',\n",
       " 'http://allrecipes.com/recipe/recipe/17066/janets-rich-banana-bread/',\n",
       " 'http://allrecipes.com/recipe/recipe/6984/banana-sour-cream-bread/',\n",
       " 'http://allrecipes.com/recipe/recipe/67937/extreme-banana-nut-bread-ebnb/',\n",
       " 'http://allrecipes.com/recipe/recipe/15747/best-ever-banana-bread/',\n",
       " 'http://allrecipes.com/recipe/recipe/6687/banana-bread/',\n",
       " 'http://allrecipes.com/recipe/recipe/6993/cathys-banana-bread/',\n",
       " 'http://allrecipes.com/recipe/recipe/6990/sarahs-banana-bread-muffins/',\n",
       " 'http://allrecipes.com/recipe/recipe/23426/almost-no-fat-banana-bread/',\n",
       " 'http://allrecipes.com/recipe/recipe/20153/chocolate-chip-banana-bread-ii/',\n",
       " 'http://allrecipes.com/recipe/recipe/6713/easy-banana-bread/',\n",
       " 'http://allrecipes.com/recipe/recipe/17754/janines-best-banana-bread/',\n",
       " 'http://allrecipes.com/recipe/recipe/7155/whole-wheat-banana-nut-bread/',\n",
       " 'http://allrecipes.com/recipe/recipe/18015/lighter-banana-muffins/',\n",
       " 'http://allrecipes.com/recipe/recipe/230482/banana-chocolate-chip-bread/',\n",
       " 'http://allrecipes.com/recipe/recipe/219967/chef-johns-banana-bread/',\n",
       " 'http://allrecipes.com/recipe/recipe/6754/lower-fat-banana-bread-i/',\n",
       " 'http://allrecipes.com/recipe/recipe/241707/joys-easy-banana-bread/',\n",
       " 'http://allrecipes.com/recipe/recipe/22722/brown-sugar-banana-nut-bread-i/',\n",
       " 'http://allrecipes.com/recipe/recipe/16706/banana-pumpkin-bread/',\n",
       " 'http://allrecipes.com/recipe/recipe/7116/banana-bread---quick-bread-for-machines/',\n",
       " 'http://allrecipes.com/recipe/recipe/6777/banana-nut-bread-i/',\n",
       " 'http://allrecipes.com/recipe/recipe/17050/hawaiian-banana-nut-bread/',\n",
       " 'http://allrecipes.com/recipe/recipe/16999/grandmas-homemade-banana-bread/',\n",
       " 'http://allrecipes.com/recipe/recipe/17013/banana-peanut-butter-bread/',\n",
       " 'http://allrecipes.com/recipe/recipe/24930/lower-fat-banana-bread-ii/',\n",
       " 'http://allrecipes.com/recipe/recipe/7163/favorite-banana-blueberry-quick-bread/',\n",
       " 'http://allrecipes.com/recipe/recipe/15746/banana-oatmeal-bread/',\n",
       " 'http://allrecipes.com/recipe/recipe/17656/rich-and-delicious-banana-bread/',\n",
       " 'http://allrecipes.com/recipe/recipe/16666/banana-bran-muffins/',\n",
       " 'http://allrecipes.com/recipe/recipe/141933/banana-zucchini-bread/',\n",
       " 'http://allrecipes.com/recipe/recipe/6894/banana-coconut-loaf/',\n",
       " 'http://allrecipes.com/recipe/recipe/24575/oatmeal-banana-nut-bread/',\n",
       " 'http://allrecipes.com/recipe/recipe/7141/banana-nut-bread-ii/',\n",
       " 'http://allrecipes.com/recipe/recipe/6690/mothers-banana-bread/',\n",
       " 'http://allrecipes.com/recipe/recipe/7024/banana-nut-bread-baked-in-a-jar/',\n",
       " 'http://allrecipes.com/recipe/recipe/22967/nannas-banana-bread/',\n",
       " 'http://allrecipes.com/recipe/recipe/7158/strawnana-bread/',\n",
       " 'http://allrecipes.com/recipe/recipe/9460/banana-nut-bread-iii/',\n",
       " 'http://allrecipes.com/recipe/recipe/6686/banana-wheat-bread/',\n",
       " 'http://allrecipes.com/recipe/recipe/229021/blueberry-banana-bread/',\n",
       " 'http://allrecipes.com/recipe/recipe/20739/banana-loaf/',\n",
       " 'http://allrecipes.com/recipe/recipe/20164/grannys-banana-bread/',\n",
       " 'http://allrecipes.com/recipe/recipe/23645/sweet-banana-bread/',\n",
       " 'http://allrecipes.com/recipe/recipe/6921/quick-banana-bread/',\n",
       " 'http://allrecipes.com/recipe/recipe/164205/spiced-banana-bread/',\n",
       " 'http://allrecipes.com/recipe/recipe/93289/whole-grain-healthy-banana-bread/',\n",
       " 'http://allrecipes.com/recipe/recipe/23082/janets-famous-banana-nut-bread/',\n",
       " 'http://allrecipes.com/recipe/recipe/217065/gluten-free-banana-bread/',\n",
       " 'http://allrecipes.com/recipe/recipe/20152/chocolate-chip-banana-bread-i/',\n",
       " 'http://allrecipes.com/recipe/recipe/41679/banana-cranberry-bread/',\n",
       " 'http://allrecipes.com/recipe/recipe/36772/maple-banana-bread/',\n",
       " 'http://allrecipes.com/recipe/recipe/7223/banana-chocolate-chip-muffins/',\n",
       " 'http://allrecipes.com/recipe/recipe/229353/sour-cream-banana-bread/',\n",
       " 'http://allrecipes.com/recipe/recipe/7069/special-banana-bread/',\n",
       " 'http://allrecipes.com/recipe/recipe/21619/banana-date-flaxseed-bread/',\n",
       " 'http://allrecipes.com/recipe/recipe/222082/healthier-banana-banana-bread/',\n",
       " 'http://allrecipes.com/recipe/recipe/23810/grandmas-banana-bread/',\n",
       " 'http://allrecipes.com/recipe/recipe/7175/banana-chai-bread/',\n",
       " 'http://allrecipes.com/recipe/recipe/6757/simple-banana-bread/',\n",
       " 'http://allrecipes.com/recipe/recipe/220941/peanut-butter-chocolate-chip-banana-bread/',\n",
       " 'http://allrecipes.com/recipe/recipe/18503/country-banana-bread/',\n",
       " 'http://allrecipes.com/recipe/recipe/52536/whole-grain-banana-muffins/',\n",
       " 'http://allrecipes.com/recipe/recipe/218541/caramel-macchiato-banana-bread/',\n",
       " 'http://allrecipes.com/recipe/recipe/202895/whole-wheat-chocolate-banana-bread/',\n",
       " 'http://allrecipes.com/recipe/recipe/104999/we-be-jammin-jamaican-banana-bread/',\n",
       " 'http://allrecipes.com/recipe/recipe/219816/family-banana-nut-bread-recipe/',\n",
       " 'http://allrecipes.com/recipe/recipe/242314/browned-butter-banana-bread/',\n",
       " 'http://allrecipes.com/recipe/recipe/198829/bananas-foster-monkey-bread/',\n",
       " 'http://allrecipes.com/recipe/recipe/214581/brown-sugar-banana-bread/',\n",
       " 'http://allrecipes.com/recipe/recipe/228684/paleo-banana-bread/',\n",
       " 'http://allrecipes.com/recipe/recipe/22470/really-rich-banana-bread/',\n",
       " 'http://allrecipes.com/recipe/recipe/211180/bangin-banana-bread/',\n",
       " 'http://allrecipes.com/recipe/recipe/17281/molasses-banana-bread/',\n",
       " 'http://allrecipes.com/recipe/recipe/6830/whole-wheat-banana-strawberry-loaf/',\n",
       " 'http://allrecipes.com/recipe/recipe/7200/banana-nut-and-ginger-bread/',\n",
       " 'http://allrecipes.com/recipe/recipe/218978/banana-apple-bread/',\n",
       " 'http://allrecipes.com/recipe/recipe/213007/banana-butterscotch-bread/',\n",
       " 'http://allrecipes.com/recipe/recipe/41682/napoleons-banana-muffin/',\n",
       " 'http://allrecipes.com/recipe/recipe/20196/banana-walnut-cornbread/',\n",
       " 'http://allrecipes.com/recipe/recipe/216436/low-fat-banana-bread/',\n",
       " 'http://allrecipes.com/recipe/recipe/228442/raspberry-banana-bread/',\n",
       " 'http://allrecipes.com/recipe/recipe/231183/quick-banana-nut-bread/',\n",
       " 'http://allrecipes.com/recipe/recipe/239725/banana-zucchini-bread-muffins/',\n",
       " 'http://allrecipes.com/recipe/recipe/15426/cranapana-bread/',\n",
       " 'http://allrecipes.com/recipe/recipe/142527/amish-friendship-banana-nut-bread/',\n",
       " 'http://allrecipes.com/recipe/recipe/216774/angies-to-die-for-banana-bread/',\n",
       " 'http://allrecipes.com/recipe/recipe/16705/banana-maple-nut-bread/',\n",
       " 'http://allrecipes.com/recipe/recipe/24519/brown-sugar-banana-nut-bread-ii/',\n",
       " 'http://allrecipes.com/recipe/recipe/23008/delicious-raisin-nut-banana-bread/',\n",
       " 'http://allrecipes.com/recipe/recipe/216540/cranberry-banana-oat-bread/',\n",
       " 'http://allrecipes.com/recipe/recipe/218585/mommys-banana-bread/',\n",
       " 'http://allrecipes.com/recipe/recipe/147988/banana-bran-zucchini-bread/',\n",
       " 'http://allrecipes.com/recipe/recipe/215623/bobras-banana-bread/',\n",
       " 'http://allrecipes.com/recipe/recipe/17601/the-greatest-banana-bread/',\n",
       " 'http://allrecipes.com/recipe/recipe/24931/nutty-banana-bread/',\n",
       " 'http://allrecipes.com/recipe/recipe/17403/strawnana-smoothie-bread/',\n",
       " 'http://allrecipes.com/recipe/recipe/212769/cranberry-pumpkin-banana-bread/',\n",
       " 'http://allrecipes.com/recipe/recipe/7242/cardamom-banana-bread/',\n",
       " 'http://allrecipes.com/recipe/recipe/214760/roasted-pecan-banana-bread-loaves/',\n",
       " 'http://allrecipes.com/recipe/recipe/166496/ozs-banana-nut-and-raisin-bread-for-abm/',\n",
       " 'http://allrecipes.com/recipe/recipe/6775/mrs-kurtzs-banana-bread/',\n",
       " 'http://allrecipes.com/recipe/recipe/236474/salted-caramel-banana-bread/',\n",
       " 'http://allrecipes.com/recipe/recipe/6747/lower-fat-banana-nut-bread/',\n",
       " 'http://allrecipes.com/recipe/recipe/135490/banana-bread-with-oat-streusel-topping/',\n",
       " 'http://allrecipes.com/recipe/recipe/232380/simple-peanut-butter-banana-bread/',\n",
       " 'http://allrecipes.com/recipe/recipe/239246/banana-walnut-bread/',\n",
       " 'http://allrecipes.com/recipe/recipe/235521/grain-free-banana-bread/',\n",
       " 'http://allrecipes.com/recipe/recipe/143084/simply-delicious-banana-crumb-bread/',\n",
       " 'http://allrecipes.com/recipe/recipe/6712/brazilian-banana-bread/',\n",
       " 'http://allrecipes.com/recipe/recipe/237470/ginger-banana-bread/',\n",
       " 'http://allrecipes.com/recipe/recipe/7090/banana-macadamia-nut-bread/',\n",
       " 'http://allrecipes.com/recipe/recipe/234521/paleo-chocolate-and-cinnamon-banana-bread/',\n",
       " 'http://allrecipes.com/recipe/recipe/222147/healthier-banana-sour-cream-bread/',\n",
       " 'http://allrecipes.com/recipe/recipe/231961/double-banana-nut-bread/',\n",
       " 'http://allrecipes.com/recipe/recipe/74845/moist-banana-raisin-bread/',\n",
       " 'http://allrecipes.com/recipe/recipe/154339/fig-and-banana-loaf/',\n",
       " 'http://allrecipes.com/recipe/recipe/223066/blueberry-banana-nut-bread/',\n",
       " 'http://allrecipes.com/recipe/recipe/239454/banana-bread-from-motts/',\n",
       " 'http://allrecipes.com/recipe/recipe/21435/oatmeal-banana-cinnamon-bread/',\n",
       " 'http://allrecipes.com/recipe/recipe/215139/banana-plum-bread/',\n",
       " 'http://allrecipes.com/recipe/recipe/7035/basic-fruit-bread-recipe/',\n",
       " 'http://allrecipes.com/recipe/recipe/20662/delicious-raisin-nut-banana-bread/',\n",
       " 'http://allrecipes.com/recipe/recipe/219814/dads-banana-nut-bread/',\n",
       " 'http://allrecipes.com/recipe/recipe/240750/moms-carrot-banana-bread/',\n",
       " 'http://allrecipes.com/recipe/recipe/247087/honey-spice-whole-wheat-banana-bread/',\n",
       " 'http://allrecipes.com/recipe/recipe/219815/quick-mix-banana-nut-bread/',\n",
       " 'http://allrecipes.com/recipe/recipe/216466/breakfast-banana-cake/',\n",
       " 'http://allrecipes.com/recipe/recipe/218721/bates-banana-bread/',\n",
       " 'http://allrecipes.com/recipe/recipe/229003/banana-peach-bread/',\n",
       " 'http://allrecipes.com/recipe/recipe/241552/buttermilk-banana-bread/',\n",
       " 'http://allrecipes.com/recipe/recipe/236593/gluten-free-moist-choc-chip-banana-bread/',\n",
       " 'http://allrecipes.com/recipe/recipe/233752/banana-strawberry-oat-bread/',\n",
       " 'http://allrecipes.com/recipe/recipe/7094/banana-nut-oatmeal-bread/',\n",
       " 'http://allrecipes.com/recipe/recipe/235224/cherry-pineapple-banana-bread/',\n",
       " 'http://allrecipes.com/recipe/recipe/236059/favorite-banana-bread/',\n",
       " 'http://allrecipes.com/recipe/recipe/231284/whiskey-and-bacon-banana-bread/',\n",
       " 'http://allrecipes.com/recipe/recipe/204768/blueberry-upside-down-banana-nut-bread/',\n",
       " 'http://allrecipes.com/recipe/recipe/214582/my-aunts-banana-bread/',\n",
       " 'http://allrecipes.com/recipe/recipe/223067/best-hawaiian-banana-nut-bread/',\n",
       " 'http://allrecipes.com/recipe/recipe/242330/paleo-sunflower-banana-bread/',\n",
       " 'http://allrecipes.com/recipe/recipe/230483/nutty-banana-chocolate-chip-bread/',\n",
       " 'http://allrecipes.com/recipe/recipe/232379/whole-wheat-peanut-butter-banana-bread/',\n",
       " 'http://allrecipes.com/recipe/recipe/231317/bitter-chocolate-lavender-and-banana-tea-loaf/',\n",
       " 'http://allrecipes.com/recipe/recipe/228138/powerhouse-banana-bread/',\n",
       " 'http://allrecipes.com/recipe/recipe/219863/melted-banana-bread/',\n",
       " 'http://allrecipes.com/recipe/recipe/142736/microwave-tofu-banana-bread/',\n",
       " 'http://allrecipes.com/recipe/recipe/242243/vegan-banana-bread/',\n",
       " 'http://allrecipes.com/recipe/recipe/238514/gluten-free-banana-bread/',\n",
       " 'http://allrecipes.com/recipe/recipe/247088/whole-wheat-banana-bread-with-flaxseed-and-oats/',\n",
       " 'http://allrecipes.com/recipe/recipe/256401/cream-cheese-banana-bread/',\n",
       " 'http://allrecipes.com/recipe/recipe/256564/gluten-free-banana-bread-made-easy/',\n",
       " 'http://allrecipes.com/recipe/recipe/247086/very-banana-y-whole-wheat-banana-bread/',\n",
       " 'http://allrecipes.com/recipe/recipe/231864/sugar-free-banana-bread/',\n",
       " 'http://allrecipes.com/recipe/recipe/257629/papaya-bread-with-a-twist/',\n",
       " 'http://allrecipes.com/recipe/recipe/257670/black-sesame-and-walnut-banana-bread/',\n",
       " 'http://allrecipes.com/recipe/recipe/257243/the-best-moist-lotus-cookie-butter-banana-bread-recipe-ever/',\n",
       " 'http://allrecipes.com/recipe/recipe/257403/delicious-whole-grain-banana-bread/',\n",
       " 'http://allrecipes.com/recipe/recipe/238561/organic-banana-bread/',\n",
       " 'http://allrecipes.com/recipe/recipe/238961/sweet-and-tangy-sour-cream-banana-bread/',\n",
       " 'http://allrecipes.com/recipe/recipe/245434/banana-walnut-flax-seed-bread/',\n",
       " 'http://allrecipes.com/recipe/recipe/240448/sweet-potato-banana-bread/',\n",
       " 'http://allrecipes.com/recipe/recipe/257433/best-banana-yogurt-bread/',\n",
       " 'http://allrecipes.com/recipe/recipe/257605/gluten-free-banana-giraffe-bread/',\n",
       " 'http://allrecipes.com/recipe/recipe/256693/dark-chocolate-marbled-banana-bread-with-greek-yogurt/',\n",
       " 'http://allrecipes.com/recipe/recipe/259018/double-chocolate-banana-monkey-bread/']"
      ]
     },
     "execution_count": 156,
     "metadata": {},
     "output_type": "execute_result"
    }
   ],
   "source": [
    "test"
   ]
  },
  {
   "cell_type": "code",
   "execution_count": 153,
   "metadata": {
    "collapsed": false
   },
   "outputs": [
    {
     "name": "stdout",
     "output_type": "stream",
     "text": [
      "3 cups white sugar\n",
      "3/4 cup butter, softened\n",
      "3 eggs\n",
      "2 cups mashed ripe banana\n",
      "1/2 cup sour cream\n",
      "3 1/2 cups all-purpose flour\n",
      "1 teaspoon baking soda\n",
      "1/2 teaspoon baking powder\n",
      "1/2 teaspoon ground cinnamon\n",
      "1 1/2 cups chopped pecans\n"
     ]
    }
   ],
   "source": [
    "get_ingredients('http://allrecipes.com/recipe/23082/janets-famous-banana-nut-bread/')"
   ]
  },
  {
   "cell_type": "code",
   "execution_count": null,
   "metadata": {
    "collapsed": true
   },
   "outputs": [],
   "source": []
  }
 ],
 "metadata": {
  "kernelspec": {
   "display_name": "Python 3",
   "language": "python",
   "name": "python3"
  },
  "language_info": {
   "codemirror_mode": {
    "name": "ipython",
    "version": 3
   },
   "file_extension": ".py",
   "mimetype": "text/x-python",
   "name": "python",
   "nbconvert_exporter": "python",
   "pygments_lexer": "ipython3",
   "version": "3.5.2"
  }
 },
 "nbformat": 4,
 "nbformat_minor": 0
}
