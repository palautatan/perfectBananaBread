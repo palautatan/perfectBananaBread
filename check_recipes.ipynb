{
 "cells": [
  {
   "cell_type": "markdown",
   "metadata": {},
   "source": [
    "# Libraries"
   ]
  },
  {
   "cell_type": "code",
   "execution_count": 46,
   "metadata": {
    "collapsed": true
   },
   "outputs": [],
   "source": [
    "# DATA SCIENCE\n",
    "import pandas as pd\n",
    "import numpy as np\n",
    "from collections import Counter\n",
    "\n",
    "# WEBSCRAPING\n",
    "from bs4 import BeautifulSoup\n",
    "import requests\n",
    "import requests_cache\n",
    "\n",
    "# OTHER\n",
    "import os\n",
    "from ast import literal_eval\n",
    "\n",
    "# VISUALIZATION\n",
    "import matplotlib.pyplot as plt\n",
    "plt.rcParams['figure.figsize'] = (18, 12)\n",
    "import seaborn as sns"
   ]
  },
  {
   "cell_type": "code",
   "execution_count": 2,
   "metadata": {
    "collapsed": true
   },
   "outputs": [],
   "source": [
    "bbtable = pd.read_csv(\"banana_bread_df.csv\")"
   ]
  },
  {
   "cell_type": "code",
   "execution_count": 79,
   "metadata": {
    "collapsed": false
   },
   "outputs": [
    {
     "data": {
      "text/html": [
       "<div>\n",
       "<table border=\"1\" class=\"dataframe\">\n",
       "  <thead>\n",
       "    <tr style=\"text-align: right;\">\n",
       "      <th></th>\n",
       "      <th>url</th>\n",
       "      <th>title</th>\n",
       "      <th>made-it</th>\n",
       "      <th>reviews</th>\n",
       "      <th>longRating</th>\n",
       "      <th>ratingValue</th>\n",
       "      <th>reviewCount</th>\n",
       "      <th>recipe</th>\n",
       "      <th>calories</th>\n",
       "      <th>ratings</th>\n",
       "      <th>prep</th>\n",
       "      <th>cook</th>\n",
       "      <th>total</th>\n",
       "    </tr>\n",
       "  </thead>\n",
       "  <tbody>\n",
       "    <tr>\n",
       "      <th>0</th>\n",
       "      <td>http://allrecipes.com/recipe/23082/janets-famo...</td>\n",
       "      <td>Janet's Famous Banana Nut Bread</td>\n",
       "      <td>151</td>\n",
       "      <td>110</td>\n",
       "      <td>4.634921</td>\n",
       "      <td>4.63</td>\n",
       "      <td>110</td>\n",
       "      <td>['3 cups white sugar', '3/4 cup butter, soften...</td>\n",
       "      <td>356.0</td>\n",
       "      <td>126.0</td>\n",
       "      <td>['20']</td>\n",
       "      <td>['1', '5']</td>\n",
       "      <td>['1', '25']</td>\n",
       "    </tr>\n",
       "    <tr>\n",
       "      <th>1</th>\n",
       "      <td>http://allrecipes.com/recipe/6765/4h-banana-br...</td>\n",
       "      <td>4H Banana Bread</td>\n",
       "      <td>340</td>\n",
       "      <td>881</td>\n",
       "      <td>4.671642</td>\n",
       "      <td>4.67</td>\n",
       "      <td>881</td>\n",
       "      <td>['2 cups all-purpose flour', '1/2 teaspoon bak...</td>\n",
       "      <td>265.0</td>\n",
       "      <td>1072.0</td>\n",
       "      <td>['10']</td>\n",
       "      <td>['1']</td>\n",
       "      <td>['1', '10']</td>\n",
       "    </tr>\n",
       "    <tr>\n",
       "      <th>2</th>\n",
       "      <td>http://allrecipes.com/recipe/218541/caramel-ma...</td>\n",
       "      <td>Caramel Macchiato Banana Bread</td>\n",
       "      <td>188</td>\n",
       "      <td>57</td>\n",
       "      <td>4.181818</td>\n",
       "      <td>4.18</td>\n",
       "      <td>57</td>\n",
       "      <td>['cooking spray', '2 cups all-purpose flour', ...</td>\n",
       "      <td>334.0</td>\n",
       "      <td>66.0</td>\n",
       "      <td>['15']</td>\n",
       "      <td>['1', '5']</td>\n",
       "      <td>['2']</td>\n",
       "    </tr>\n",
       "  </tbody>\n",
       "</table>\n",
       "</div>"
      ],
      "text/plain": [
       "                                                 url  \\\n",
       "0  http://allrecipes.com/recipe/23082/janets-famo...   \n",
       "1  http://allrecipes.com/recipe/6765/4h-banana-br...   \n",
       "2  http://allrecipes.com/recipe/218541/caramel-ma...   \n",
       "\n",
       "                             title  made-it  reviews  longRating  ratingValue  \\\n",
       "0  Janet's Famous Banana Nut Bread      151      110    4.634921         4.63   \n",
       "1                  4H Banana Bread      340      881    4.671642         4.67   \n",
       "2   Caramel Macchiato Banana Bread      188       57    4.181818         4.18   \n",
       "\n",
       "   reviewCount                                             recipe  calories  \\\n",
       "0          110  ['3 cups white sugar', '3/4 cup butter, soften...     356.0   \n",
       "1          881  ['2 cups all-purpose flour', '1/2 teaspoon bak...     265.0   \n",
       "2           57  ['cooking spray', '2 cups all-purpose flour', ...     334.0   \n",
       "\n",
       "   ratings    prep        cook        total  \n",
       "0    126.0  ['20']  ['1', '5']  ['1', '25']  \n",
       "1   1072.0  ['10']       ['1']  ['1', '10']  \n",
       "2     66.0  ['15']  ['1', '5']        ['2']  "
      ]
     },
     "execution_count": 79,
     "metadata": {},
     "output_type": "execute_result"
    }
   ],
   "source": [
    "bbtable.head(3)"
   ]
  },
  {
   "cell_type": "markdown",
   "metadata": {},
   "source": [
    "# Formatting Single Recipe"
   ]
  },
  {
   "cell_type": "markdown",
   "metadata": {},
   "source": [
    "### Recipe 1"
   ]
  },
  {
   "cell_type": "code",
   "execution_count": 7,
   "metadata": {
    "collapsed": false
   },
   "outputs": [],
   "source": [
    "this_recipe = bbtable[\"recipe\"][0]"
   ]
  },
  {
   "cell_type": "code",
   "execution_count": 8,
   "metadata": {
    "collapsed": false
   },
   "outputs": [
    {
     "data": {
      "text/plain": [
       "\"['3 cups white sugar', '3/4 cup butter, softened', '3 eggs', '2 cups mashed ripe banana', '1/2 cup sour cream', '3 1/2 cups all-purpose flour', '1 teaspoon baking soda', '1/2 teaspoon baking powder', '1/2 teaspoon ground cinnamon', '1 1/2 cups chopped pecans']\""
      ]
     },
     "execution_count": 8,
     "metadata": {},
     "output_type": "execute_result"
    }
   ],
   "source": [
    "this_recipe"
   ]
  },
  {
   "cell_type": "code",
   "execution_count": 52,
   "metadata": {
    "collapsed": false
   },
   "outputs": [],
   "source": [
    "listed_recipe = literal_eval(this_recipe)"
   ]
  },
  {
   "cell_type": "code",
   "execution_count": 62,
   "metadata": {
    "collapsed": false
   },
   "outputs": [
    {
     "data": {
      "text/plain": [
       "['3', 'cups', 'white sugar']"
      ]
     },
     "execution_count": 62,
     "metadata": {},
     "output_type": "execute_result"
    }
   ],
   "source": [
    "listed_recipe[0].split(\" \", 2)"
   ]
  },
  {
   "cell_type": "code",
   "execution_count": 63,
   "metadata": {
    "collapsed": false
   },
   "outputs": [
    {
     "data": {
      "text/plain": [
       "['3/4', 'cup', 'butter, softened']"
      ]
     },
     "execution_count": 63,
     "metadata": {},
     "output_type": "execute_result"
    }
   ],
   "source": [
    "listed_recipe[1].split(\" \", 2)"
   ]
  },
  {
   "cell_type": "code",
   "execution_count": 64,
   "metadata": {
    "collapsed": false
   },
   "outputs": [
    {
     "data": {
      "text/plain": [
       "['3', 'eggs']"
      ]
     },
     "execution_count": 64,
     "metadata": {},
     "output_type": "execute_result"
    }
   ],
   "source": [
    "listed_recipe[2].split(\" \", 2)"
   ]
  },
  {
   "cell_type": "markdown",
   "metadata": {},
   "source": [
    "### Recipe 177"
   ]
  },
  {
   "cell_type": "code",
   "execution_count": 133,
   "metadata": {
    "collapsed": true
   },
   "outputs": [],
   "source": [
    "listed_recipe2 = literal_eval(bbtable[\"recipe\"][176])"
   ]
  },
  {
   "cell_type": "code",
   "execution_count": 134,
   "metadata": {
    "collapsed": false
   },
   "outputs": [
    {
     "data": {
      "text/plain": [
       "['cooking spray',\n",
       " '1 cup brown sugar',\n",
       " '1 (3.4 ounce) package instant white chocolate pudding mix, divided',\n",
       " '2 tablespoons ground cinnamon',\n",
       " '1/2 cup butter, melted',\n",
       " '1 (16.3 ounce) package refrigerated buttermilk biscuit dough (such as Pillsbury Grands!\\xc2\\xae), each cut into 8 pieces',\n",
       " '1 ripe banana, mashed',\n",
       " '1/2 cup semisweet chocolate chips',\n",
       " 'Icing:',\n",
       " \"1 cup confectioners' sugar\",\n",
       " '2 tablespoons butter, melted',\n",
       " '2 teaspoons heavy whipping cream']"
      ]
     },
     "execution_count": 134,
     "metadata": {},
     "output_type": "execute_result"
    }
   ],
   "source": [
    "listed_recipe2"
   ]
  },
  {
   "cell_type": "markdown",
   "metadata": {},
   "source": [
    "I want to only check for numbers in the first slot. May need regex for that portion. I want to split on the first alphabet character. I want to omit the items that do not follow this trend. I will consider them unimportant because we do not have a continuous value for them to model anyway."
   ]
  },
  {
   "cell_type": "code",
   "execution_count": 138,
   "metadata": {
    "collapsed": false
   },
   "outputs": [
    {
     "data": {
      "text/plain": [
       "['1 cup brown sugar']"
      ]
     },
     "execution_count": 138,
     "metadata": {},
     "output_type": "execute_result"
    }
   ],
   "source": [
    "# def find_first_letter(a_string):\n",
    "#     index = 0\n",
    "#     if "
   ]
  },
  {
   "cell_type": "markdown",
   "metadata": {},
   "source": [
    "# Function"
   ]
  },
  {
   "cell_type": "code",
   "execution_count": 127,
   "metadata": {
    "collapsed": true
   },
   "outputs": [],
   "source": [
    "def fixRecipes(table, index_number):\n",
    "    listed_recipe = literal_eval(table[\"recipe\"][index_number])\n",
    "    \n",
    "    # INITIALISE LISTS\n",
    "    pieces = []\n",
    "    \n",
    "    # FOR LOOP TO CONNECT\n",
    "    for each_item in listed_recipe:\n",
    "        pieces.append([table[\"title\"][index_number]]+each_item.split(\" \", 2))\n",
    "    \n",
    "    return(pieces)"
   ]
  },
  {
   "cell_type": "code",
   "execution_count": 128,
   "metadata": {
    "collapsed": false
   },
   "outputs": [],
   "source": [
    "trial = fixRecipes(bbtable, 0)"
   ]
  },
  {
   "cell_type": "code",
   "execution_count": 129,
   "metadata": {
    "collapsed": false
   },
   "outputs": [
    {
     "data": {
      "text/plain": [
       "[[\"Janet's Famous Banana Nut Bread\", '3', 'cups', 'white sugar'],\n",
       " [\"Janet's Famous Banana Nut Bread\", '3/4', 'cup', 'butter, softened'],\n",
       " [\"Janet's Famous Banana Nut Bread\", '3', 'eggs'],\n",
       " [\"Janet's Famous Banana Nut Bread\", '2', 'cups', 'mashed ripe banana'],\n",
       " [\"Janet's Famous Banana Nut Bread\", '1/2', 'cup', 'sour cream'],\n",
       " [\"Janet's Famous Banana Nut Bread\", '3', '1/2', 'cups all-purpose flour'],\n",
       " [\"Janet's Famous Banana Nut Bread\", '1', 'teaspoon', 'baking soda'],\n",
       " [\"Janet's Famous Banana Nut Bread\", '1/2', 'teaspoon', 'baking powder'],\n",
       " [\"Janet's Famous Banana Nut Bread\", '1/2', 'teaspoon', 'ground cinnamon'],\n",
       " [\"Janet's Famous Banana Nut Bread\", '1', '1/2', 'cups chopped pecans']]"
      ]
     },
     "execution_count": 129,
     "metadata": {},
     "output_type": "execute_result"
    }
   ],
   "source": [
    "trial"
   ]
  },
  {
   "cell_type": "code",
   "execution_count": 130,
   "metadata": {
    "collapsed": false
   },
   "outputs": [],
   "source": [
    "lizzzts = [fixRecipes(bbtable,x) for x in range(bbtable.shape[0])]"
   ]
  },
  {
   "cell_type": "code",
   "execution_count": 131,
   "metadata": {
    "collapsed": false
   },
   "outputs": [],
   "source": [
    "flat_list = [item for sublist in lizzzts for item in sublist]"
   ]
  },
  {
   "cell_type": "code",
   "execution_count": 132,
   "metadata": {
    "collapsed": false
   },
   "outputs": [
    {
     "data": {
      "text/html": [
       "<div>\n",
       "<table border=\"1\" class=\"dataframe\">\n",
       "  <thead>\n",
       "    <tr style=\"text-align: right;\">\n",
       "      <th></th>\n",
       "      <th>0</th>\n",
       "      <th>1</th>\n",
       "      <th>2</th>\n",
       "      <th>3</th>\n",
       "    </tr>\n",
       "  </thead>\n",
       "  <tbody>\n",
       "    <tr>\n",
       "      <th>0</th>\n",
       "      <td>Janet's Famous Banana Nut Bread</td>\n",
       "      <td>3</td>\n",
       "      <td>cups</td>\n",
       "      <td>white sugar</td>\n",
       "    </tr>\n",
       "    <tr>\n",
       "      <th>1</th>\n",
       "      <td>Janet's Famous Banana Nut Bread</td>\n",
       "      <td>3/4</td>\n",
       "      <td>cup</td>\n",
       "      <td>butter, softened</td>\n",
       "    </tr>\n",
       "    <tr>\n",
       "      <th>2</th>\n",
       "      <td>Janet's Famous Banana Nut Bread</td>\n",
       "      <td>3</td>\n",
       "      <td>eggs</td>\n",
       "      <td>None</td>\n",
       "    </tr>\n",
       "    <tr>\n",
       "      <th>3</th>\n",
       "      <td>Janet's Famous Banana Nut Bread</td>\n",
       "      <td>2</td>\n",
       "      <td>cups</td>\n",
       "      <td>mashed ripe banana</td>\n",
       "    </tr>\n",
       "    <tr>\n",
       "      <th>4</th>\n",
       "      <td>Janet's Famous Banana Nut Bread</td>\n",
       "      <td>1/2</td>\n",
       "      <td>cup</td>\n",
       "      <td>sour cream</td>\n",
       "    </tr>\n",
       "    <tr>\n",
       "      <th>5</th>\n",
       "      <td>Janet's Famous Banana Nut Bread</td>\n",
       "      <td>3</td>\n",
       "      <td>1/2</td>\n",
       "      <td>cups all-purpose flour</td>\n",
       "    </tr>\n",
       "    <tr>\n",
       "      <th>6</th>\n",
       "      <td>Janet's Famous Banana Nut Bread</td>\n",
       "      <td>1</td>\n",
       "      <td>teaspoon</td>\n",
       "      <td>baking soda</td>\n",
       "    </tr>\n",
       "    <tr>\n",
       "      <th>7</th>\n",
       "      <td>Janet's Famous Banana Nut Bread</td>\n",
       "      <td>1/2</td>\n",
       "      <td>teaspoon</td>\n",
       "      <td>baking powder</td>\n",
       "    </tr>\n",
       "    <tr>\n",
       "      <th>8</th>\n",
       "      <td>Janet's Famous Banana Nut Bread</td>\n",
       "      <td>1/2</td>\n",
       "      <td>teaspoon</td>\n",
       "      <td>ground cinnamon</td>\n",
       "    </tr>\n",
       "    <tr>\n",
       "      <th>9</th>\n",
       "      <td>Janet's Famous Banana Nut Bread</td>\n",
       "      <td>1</td>\n",
       "      <td>1/2</td>\n",
       "      <td>cups chopped pecans</td>\n",
       "    </tr>\n",
       "    <tr>\n",
       "      <th>10</th>\n",
       "      <td>4H Banana Bread</td>\n",
       "      <td>2</td>\n",
       "      <td>cups</td>\n",
       "      <td>all-purpose flour</td>\n",
       "    </tr>\n",
       "    <tr>\n",
       "      <th>11</th>\n",
       "      <td>4H Banana Bread</td>\n",
       "      <td>1/2</td>\n",
       "      <td>teaspoon</td>\n",
       "      <td>baking soda</td>\n",
       "    </tr>\n",
       "    <tr>\n",
       "      <th>12</th>\n",
       "      <td>4H Banana Bread</td>\n",
       "      <td>1</td>\n",
       "      <td>cup</td>\n",
       "      <td>white sugar</td>\n",
       "    </tr>\n",
       "    <tr>\n",
       "      <th>13</th>\n",
       "      <td>4H Banana Bread</td>\n",
       "      <td>1</td>\n",
       "      <td>egg</td>\n",
       "      <td>None</td>\n",
       "    </tr>\n",
       "    <tr>\n",
       "      <th>14</th>\n",
       "      <td>4H Banana Bread</td>\n",
       "      <td>5</td>\n",
       "      <td>tablespoons</td>\n",
       "      <td>milk</td>\n",
       "    </tr>\n",
       "    <tr>\n",
       "      <th>15</th>\n",
       "      <td>4H Banana Bread</td>\n",
       "      <td>1</td>\n",
       "      <td>teaspoon</td>\n",
       "      <td>baking powder</td>\n",
       "    </tr>\n",
       "    <tr>\n",
       "      <th>16</th>\n",
       "      <td>4H Banana Bread</td>\n",
       "      <td>1/2</td>\n",
       "      <td>teaspoon</td>\n",
       "      <td>salt</td>\n",
       "    </tr>\n",
       "    <tr>\n",
       "      <th>17</th>\n",
       "      <td>4H Banana Bread</td>\n",
       "      <td>1/2</td>\n",
       "      <td>cup</td>\n",
       "      <td>margarine</td>\n",
       "    </tr>\n",
       "    <tr>\n",
       "      <th>18</th>\n",
       "      <td>4H Banana Bread</td>\n",
       "      <td>1</td>\n",
       "      <td>cup</td>\n",
       "      <td>mashed bananas</td>\n",
       "    </tr>\n",
       "    <tr>\n",
       "      <th>19</th>\n",
       "      <td>4H Banana Bread</td>\n",
       "      <td>1/2</td>\n",
       "      <td>cup</td>\n",
       "      <td>chopped walnuts (optional)</td>\n",
       "    </tr>\n",
       "    <tr>\n",
       "      <th>20</th>\n",
       "      <td>Caramel Macchiato Banana Bread</td>\n",
       "      <td>cooking</td>\n",
       "      <td>spray</td>\n",
       "      <td>None</td>\n",
       "    </tr>\n",
       "    <tr>\n",
       "      <th>21</th>\n",
       "      <td>Caramel Macchiato Banana Bread</td>\n",
       "      <td>2</td>\n",
       "      <td>cups</td>\n",
       "      <td>all-purpose flour</td>\n",
       "    </tr>\n",
       "    <tr>\n",
       "      <th>22</th>\n",
       "      <td>Caramel Macchiato Banana Bread</td>\n",
       "      <td>1</td>\n",
       "      <td>teaspoon</td>\n",
       "      <td>baking soda</td>\n",
       "    </tr>\n",
       "    <tr>\n",
       "      <th>23</th>\n",
       "      <td>Caramel Macchiato Banana Bread</td>\n",
       "      <td>1</td>\n",
       "      <td>teaspoon</td>\n",
       "      <td>baking powder</td>\n",
       "    </tr>\n",
       "    <tr>\n",
       "      <th>24</th>\n",
       "      <td>Caramel Macchiato Banana Bread</td>\n",
       "      <td>1/2</td>\n",
       "      <td>teaspoon</td>\n",
       "      <td>ground cinnamon</td>\n",
       "    </tr>\n",
       "    <tr>\n",
       "      <th>25</th>\n",
       "      <td>Caramel Macchiato Banana Bread</td>\n",
       "      <td>1/8</td>\n",
       "      <td>teaspoon</td>\n",
       "      <td>salt</td>\n",
       "    </tr>\n",
       "    <tr>\n",
       "      <th>26</th>\n",
       "      <td>Caramel Macchiato Banana Bread</td>\n",
       "      <td>2</td>\n",
       "      <td>large</td>\n",
       "      <td>very ripe bananas</td>\n",
       "    </tr>\n",
       "    <tr>\n",
       "      <th>27</th>\n",
       "      <td>Caramel Macchiato Banana Bread</td>\n",
       "      <td>1/2</td>\n",
       "      <td>cup</td>\n",
       "      <td>caramel macchiato flavored liquid coffee cream...</td>\n",
       "    </tr>\n",
       "    <tr>\n",
       "      <th>28</th>\n",
       "      <td>Caramel Macchiato Banana Bread</td>\n",
       "      <td>1/2</td>\n",
       "      <td>cup</td>\n",
       "      <td>vegetable oil</td>\n",
       "    </tr>\n",
       "    <tr>\n",
       "      <th>29</th>\n",
       "      <td>Caramel Macchiato Banana Bread</td>\n",
       "      <td>2</td>\n",
       "      <td>eggs</td>\n",
       "      <td>None</td>\n",
       "    </tr>\n",
       "    <tr>\n",
       "      <th>...</th>\n",
       "      <td>...</td>\n",
       "      <td>...</td>\n",
       "      <td>...</td>\n",
       "      <td>...</td>\n",
       "    </tr>\n",
       "    <tr>\n",
       "      <th>1954</th>\n",
       "      <td>Gluten-Free Banana Giraffe Bread</td>\n",
       "      <td>1/2</td>\n",
       "      <td>cup</td>\n",
       "      <td>coconut flour</td>\n",
       "    </tr>\n",
       "    <tr>\n",
       "      <th>1955</th>\n",
       "      <td>Gluten-Free Banana Giraffe Bread</td>\n",
       "      <td>1</td>\n",
       "      <td>teaspoon</td>\n",
       "      <td>ground cinnamon</td>\n",
       "    </tr>\n",
       "    <tr>\n",
       "      <th>1956</th>\n",
       "      <td>Gluten-Free Banana Giraffe Bread</td>\n",
       "      <td>1</td>\n",
       "      <td>teaspoon</td>\n",
       "      <td>baking soda</td>\n",
       "    </tr>\n",
       "    <tr>\n",
       "      <th>1957</th>\n",
       "      <td>Gluten-Free Banana Giraffe Bread</td>\n",
       "      <td>1</td>\n",
       "      <td>teaspoon</td>\n",
       "      <td>baking powder</td>\n",
       "    </tr>\n",
       "    <tr>\n",
       "      <th>1958</th>\n",
       "      <td>Gluten-Free Banana Giraffe Bread</td>\n",
       "      <td>1</td>\n",
       "      <td>teaspoon</td>\n",
       "      <td>vanilla extract</td>\n",
       "    </tr>\n",
       "    <tr>\n",
       "      <th>1959</th>\n",
       "      <td>Gluten-Free Banana Giraffe Bread</td>\n",
       "      <td>1</td>\n",
       "      <td>pinch</td>\n",
       "      <td>sea salt</td>\n",
       "    </tr>\n",
       "    <tr>\n",
       "      <th>1960</th>\n",
       "      <td>Gluten-Free Banana Giraffe Bread</td>\n",
       "      <td>1/2</td>\n",
       "      <td>cup</td>\n",
       "      <td>dark chocolate chips</td>\n",
       "    </tr>\n",
       "    <tr>\n",
       "      <th>1961</th>\n",
       "      <td>Dark Chocolate Marbled Banana Bread with Greek...</td>\n",
       "      <td>1</td>\n",
       "      <td>1/2</td>\n",
       "      <td>cups all-purpose flour</td>\n",
       "    </tr>\n",
       "    <tr>\n",
       "      <th>1962</th>\n",
       "      <td>Dark Chocolate Marbled Banana Bread with Greek...</td>\n",
       "      <td>1</td>\n",
       "      <td>teaspoon</td>\n",
       "      <td>baking soda</td>\n",
       "    </tr>\n",
       "    <tr>\n",
       "      <th>1963</th>\n",
       "      <td>Dark Chocolate Marbled Banana Bread with Greek...</td>\n",
       "      <td>1/4</td>\n",
       "      <td>teaspoon</td>\n",
       "      <td>salt</td>\n",
       "    </tr>\n",
       "    <tr>\n",
       "      <th>1964</th>\n",
       "      <td>Dark Chocolate Marbled Banana Bread with Greek...</td>\n",
       "      <td>5</td>\n",
       "      <td>tablespoons</td>\n",
       "      <td>hot water</td>\n",
       "    </tr>\n",
       "    <tr>\n",
       "      <th>1965</th>\n",
       "      <td>Dark Chocolate Marbled Banana Bread with Greek...</td>\n",
       "      <td>1/4</td>\n",
       "      <td>cup</td>\n",
       "      <td>cocoa powder</td>\n",
       "    </tr>\n",
       "    <tr>\n",
       "      <th>1966</th>\n",
       "      <td>Dark Chocolate Marbled Banana Bread with Greek...</td>\n",
       "      <td>2</td>\n",
       "      <td>large</td>\n",
       "      <td>overripe bananas, mashed</td>\n",
       "    </tr>\n",
       "    <tr>\n",
       "      <th>1967</th>\n",
       "      <td>Dark Chocolate Marbled Banana Bread with Greek...</td>\n",
       "      <td>1/2</td>\n",
       "      <td>cup</td>\n",
       "      <td>Greek yogurt</td>\n",
       "    </tr>\n",
       "    <tr>\n",
       "      <th>1968</th>\n",
       "      <td>Dark Chocolate Marbled Banana Bread with Greek...</td>\n",
       "      <td>1/2</td>\n",
       "      <td>cup</td>\n",
       "      <td>butter, melted</td>\n",
       "    </tr>\n",
       "    <tr>\n",
       "      <th>1969</th>\n",
       "      <td>Dark Chocolate Marbled Banana Bread with Greek...</td>\n",
       "      <td>1/2</td>\n",
       "      <td>cup</td>\n",
       "      <td>brown sugar</td>\n",
       "    </tr>\n",
       "    <tr>\n",
       "      <th>1970</th>\n",
       "      <td>Dark Chocolate Marbled Banana Bread with Greek...</td>\n",
       "      <td>2</td>\n",
       "      <td>eggs,</td>\n",
       "      <td>beaten</td>\n",
       "    </tr>\n",
       "    <tr>\n",
       "      <th>1971</th>\n",
       "      <td>Dark Chocolate Marbled Banana Bread with Greek...</td>\n",
       "      <td>1</td>\n",
       "      <td>tablespoon</td>\n",
       "      <td>vanilla extract</td>\n",
       "    </tr>\n",
       "    <tr>\n",
       "      <th>1972</th>\n",
       "      <td>Double Chocolate Banana Monkey Bread</td>\n",
       "      <td>cooking</td>\n",
       "      <td>spray</td>\n",
       "      <td>None</td>\n",
       "    </tr>\n",
       "    <tr>\n",
       "      <th>1973</th>\n",
       "      <td>Double Chocolate Banana Monkey Bread</td>\n",
       "      <td>1</td>\n",
       "      <td>cup</td>\n",
       "      <td>brown sugar</td>\n",
       "    </tr>\n",
       "    <tr>\n",
       "      <th>1974</th>\n",
       "      <td>Double Chocolate Banana Monkey Bread</td>\n",
       "      <td>1</td>\n",
       "      <td>(3.4</td>\n",
       "      <td>ounce) package instant white chocolate pudding...</td>\n",
       "    </tr>\n",
       "    <tr>\n",
       "      <th>1975</th>\n",
       "      <td>Double Chocolate Banana Monkey Bread</td>\n",
       "      <td>2</td>\n",
       "      <td>tablespoons</td>\n",
       "      <td>ground cinnamon</td>\n",
       "    </tr>\n",
       "    <tr>\n",
       "      <th>1976</th>\n",
       "      <td>Double Chocolate Banana Monkey Bread</td>\n",
       "      <td>1/2</td>\n",
       "      <td>cup</td>\n",
       "      <td>butter, melted</td>\n",
       "    </tr>\n",
       "    <tr>\n",
       "      <th>1977</th>\n",
       "      <td>Double Chocolate Banana Monkey Bread</td>\n",
       "      <td>1</td>\n",
       "      <td>(16.3</td>\n",
       "      <td>ounce) package refrigerated buttermilk biscuit...</td>\n",
       "    </tr>\n",
       "    <tr>\n",
       "      <th>1978</th>\n",
       "      <td>Double Chocolate Banana Monkey Bread</td>\n",
       "      <td>1</td>\n",
       "      <td>ripe</td>\n",
       "      <td>banana, mashed</td>\n",
       "    </tr>\n",
       "    <tr>\n",
       "      <th>1979</th>\n",
       "      <td>Double Chocolate Banana Monkey Bread</td>\n",
       "      <td>1/2</td>\n",
       "      <td>cup</td>\n",
       "      <td>semisweet chocolate chips</td>\n",
       "    </tr>\n",
       "    <tr>\n",
       "      <th>1980</th>\n",
       "      <td>Double Chocolate Banana Monkey Bread</td>\n",
       "      <td>Icing:</td>\n",
       "      <td>None</td>\n",
       "      <td>None</td>\n",
       "    </tr>\n",
       "    <tr>\n",
       "      <th>1981</th>\n",
       "      <td>Double Chocolate Banana Monkey Bread</td>\n",
       "      <td>1</td>\n",
       "      <td>cup</td>\n",
       "      <td>confectioners' sugar</td>\n",
       "    </tr>\n",
       "    <tr>\n",
       "      <th>1982</th>\n",
       "      <td>Double Chocolate Banana Monkey Bread</td>\n",
       "      <td>2</td>\n",
       "      <td>tablespoons</td>\n",
       "      <td>butter, melted</td>\n",
       "    </tr>\n",
       "    <tr>\n",
       "      <th>1983</th>\n",
       "      <td>Double Chocolate Banana Monkey Bread</td>\n",
       "      <td>2</td>\n",
       "      <td>teaspoons</td>\n",
       "      <td>heavy whipping cream</td>\n",
       "    </tr>\n",
       "  </tbody>\n",
       "</table>\n",
       "<p>1984 rows × 4 columns</p>\n",
       "</div>"
      ],
      "text/plain": [
       "                                                      0        1            2  \\\n",
       "0                       Janet's Famous Banana Nut Bread        3         cups   \n",
       "1                       Janet's Famous Banana Nut Bread      3/4          cup   \n",
       "2                       Janet's Famous Banana Nut Bread        3         eggs   \n",
       "3                       Janet's Famous Banana Nut Bread        2         cups   \n",
       "4                       Janet's Famous Banana Nut Bread      1/2          cup   \n",
       "5                       Janet's Famous Banana Nut Bread        3          1/2   \n",
       "6                       Janet's Famous Banana Nut Bread        1     teaspoon   \n",
       "7                       Janet's Famous Banana Nut Bread      1/2     teaspoon   \n",
       "8                       Janet's Famous Banana Nut Bread      1/2     teaspoon   \n",
       "9                       Janet's Famous Banana Nut Bread        1          1/2   \n",
       "10                                      4H Banana Bread        2         cups   \n",
       "11                                      4H Banana Bread      1/2     teaspoon   \n",
       "12                                      4H Banana Bread        1          cup   \n",
       "13                                      4H Banana Bread        1          egg   \n",
       "14                                      4H Banana Bread        5  tablespoons   \n",
       "15                                      4H Banana Bread        1     teaspoon   \n",
       "16                                      4H Banana Bread      1/2     teaspoon   \n",
       "17                                      4H Banana Bread      1/2          cup   \n",
       "18                                      4H Banana Bread        1          cup   \n",
       "19                                      4H Banana Bread      1/2          cup   \n",
       "20                       Caramel Macchiato Banana Bread  cooking        spray   \n",
       "21                       Caramel Macchiato Banana Bread        2         cups   \n",
       "22                       Caramel Macchiato Banana Bread        1     teaspoon   \n",
       "23                       Caramel Macchiato Banana Bread        1     teaspoon   \n",
       "24                       Caramel Macchiato Banana Bread      1/2     teaspoon   \n",
       "25                       Caramel Macchiato Banana Bread      1/8     teaspoon   \n",
       "26                       Caramel Macchiato Banana Bread        2        large   \n",
       "27                       Caramel Macchiato Banana Bread      1/2          cup   \n",
       "28                       Caramel Macchiato Banana Bread      1/2          cup   \n",
       "29                       Caramel Macchiato Banana Bread        2         eggs   \n",
       "...                                                 ...      ...          ...   \n",
       "1954                   Gluten-Free Banana Giraffe Bread      1/2          cup   \n",
       "1955                   Gluten-Free Banana Giraffe Bread        1     teaspoon   \n",
       "1956                   Gluten-Free Banana Giraffe Bread        1     teaspoon   \n",
       "1957                   Gluten-Free Banana Giraffe Bread        1     teaspoon   \n",
       "1958                   Gluten-Free Banana Giraffe Bread        1     teaspoon   \n",
       "1959                   Gluten-Free Banana Giraffe Bread        1        pinch   \n",
       "1960                   Gluten-Free Banana Giraffe Bread      1/2          cup   \n",
       "1961  Dark Chocolate Marbled Banana Bread with Greek...        1          1/2   \n",
       "1962  Dark Chocolate Marbled Banana Bread with Greek...        1     teaspoon   \n",
       "1963  Dark Chocolate Marbled Banana Bread with Greek...      1/4     teaspoon   \n",
       "1964  Dark Chocolate Marbled Banana Bread with Greek...        5  tablespoons   \n",
       "1965  Dark Chocolate Marbled Banana Bread with Greek...      1/4          cup   \n",
       "1966  Dark Chocolate Marbled Banana Bread with Greek...        2        large   \n",
       "1967  Dark Chocolate Marbled Banana Bread with Greek...      1/2          cup   \n",
       "1968  Dark Chocolate Marbled Banana Bread with Greek...      1/2          cup   \n",
       "1969  Dark Chocolate Marbled Banana Bread with Greek...      1/2          cup   \n",
       "1970  Dark Chocolate Marbled Banana Bread with Greek...        2        eggs,   \n",
       "1971  Dark Chocolate Marbled Banana Bread with Greek...        1   tablespoon   \n",
       "1972               Double Chocolate Banana Monkey Bread  cooking        spray   \n",
       "1973               Double Chocolate Banana Monkey Bread        1          cup   \n",
       "1974               Double Chocolate Banana Monkey Bread        1         (3.4   \n",
       "1975               Double Chocolate Banana Monkey Bread        2  tablespoons   \n",
       "1976               Double Chocolate Banana Monkey Bread      1/2          cup   \n",
       "1977               Double Chocolate Banana Monkey Bread        1        (16.3   \n",
       "1978               Double Chocolate Banana Monkey Bread        1         ripe   \n",
       "1979               Double Chocolate Banana Monkey Bread      1/2          cup   \n",
       "1980               Double Chocolate Banana Monkey Bread   Icing:         None   \n",
       "1981               Double Chocolate Banana Monkey Bread        1          cup   \n",
       "1982               Double Chocolate Banana Monkey Bread        2  tablespoons   \n",
       "1983               Double Chocolate Banana Monkey Bread        2    teaspoons   \n",
       "\n",
       "                                                      3  \n",
       "0                                           white sugar  \n",
       "1                                      butter, softened  \n",
       "2                                                  None  \n",
       "3                                    mashed ripe banana  \n",
       "4                                            sour cream  \n",
       "5                                cups all-purpose flour  \n",
       "6                                           baking soda  \n",
       "7                                         baking powder  \n",
       "8                                       ground cinnamon  \n",
       "9                                   cups chopped pecans  \n",
       "10                                    all-purpose flour  \n",
       "11                                          baking soda  \n",
       "12                                          white sugar  \n",
       "13                                                 None  \n",
       "14                                                 milk  \n",
       "15                                        baking powder  \n",
       "16                                                 salt  \n",
       "17                                            margarine  \n",
       "18                                       mashed bananas  \n",
       "19                           chopped walnuts (optional)  \n",
       "20                                                 None  \n",
       "21                                    all-purpose flour  \n",
       "22                                          baking soda  \n",
       "23                                        baking powder  \n",
       "24                                      ground cinnamon  \n",
       "25                                                 salt  \n",
       "26                                    very ripe bananas  \n",
       "27    caramel macchiato flavored liquid coffee cream...  \n",
       "28                                        vegetable oil  \n",
       "29                                                 None  \n",
       "...                                                 ...  \n",
       "1954                                      coconut flour  \n",
       "1955                                    ground cinnamon  \n",
       "1956                                        baking soda  \n",
       "1957                                      baking powder  \n",
       "1958                                    vanilla extract  \n",
       "1959                                           sea salt  \n",
       "1960                               dark chocolate chips  \n",
       "1961                             cups all-purpose flour  \n",
       "1962                                        baking soda  \n",
       "1963                                               salt  \n",
       "1964                                          hot water  \n",
       "1965                                       cocoa powder  \n",
       "1966                           overripe bananas, mashed  \n",
       "1967                                       Greek yogurt  \n",
       "1968                                     butter, melted  \n",
       "1969                                        brown sugar  \n",
       "1970                                             beaten  \n",
       "1971                                    vanilla extract  \n",
       "1972                                               None  \n",
       "1973                                        brown sugar  \n",
       "1974  ounce) package instant white chocolate pudding...  \n",
       "1975                                    ground cinnamon  \n",
       "1976                                     butter, melted  \n",
       "1977  ounce) package refrigerated buttermilk biscuit...  \n",
       "1978                                     banana, mashed  \n",
       "1979                          semisweet chocolate chips  \n",
       "1980                                               None  \n",
       "1981                               confectioners' sugar  \n",
       "1982                                     butter, melted  \n",
       "1983                               heavy whipping cream  \n",
       "\n",
       "[1984 rows x 4 columns]"
      ]
     },
     "execution_count": 132,
     "metadata": {},
     "output_type": "execute_result"
    }
   ],
   "source": [
    "pd.DataFrame(flat_list)"
   ]
  }
 ],
 "metadata": {
  "kernelspec": {
   "display_name": "Python 2",
   "language": "python",
   "name": "python2"
  },
  "language_info": {
   "codemirror_mode": {
    "name": "ipython",
    "version": 2
   },
   "file_extension": ".py",
   "mimetype": "text/x-python",
   "name": "python",
   "nbconvert_exporter": "python",
   "pygments_lexer": "ipython2",
   "version": "2.7.13"
  }
 },
 "nbformat": 4,
 "nbformat_minor": 2
}
